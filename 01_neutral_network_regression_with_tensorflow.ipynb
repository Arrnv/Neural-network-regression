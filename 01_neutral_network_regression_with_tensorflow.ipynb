{
  "nbformat": 4,
  "nbformat_minor": 0,
  "metadata": {
    "colab": {
      "provenance": [],
      "gpuType": "T4",
      "authorship_tag": "ABX9TyNHlqQWg4aM7K4F18YG28if",
      "include_colab_link": true
    },
    "kernelspec": {
      "name": "python3",
      "display_name": "Python 3"
    },
    "language_info": {
      "name": "python"
    },
    "accelerator": "GPU"
  },
  "cells": [
    {
      "cell_type": "markdown",
      "metadata": {
        "id": "view-in-github",
        "colab_type": "text"
      },
      "source": [
        "<a href=\"https://colab.research.google.com/github/Arrnv/Arrnv/blob/main/01_neutral_network_regression_with_tensorflow.ipynb\" target=\"_parent\"><img src=\"https://colab.research.google.com/assets/colab-badge.svg\" alt=\"Open In Colab\"/></a>"
      ]
    },
    {
      "cell_type": "markdown",
      "source": [
        "# introduction to regression with neutral network in tensorflow"
      ],
      "metadata": {
        "id": "5QrkXII-Z3Bv"
      }
    },
    {
      "cell_type": "markdown",
      "source": [
        "Predecting a numerical variable based on some other combination of variables,"
      ],
      "metadata": {
        "id": "IFlHLEB8Zdkh"
      }
    },
    {
      "cell_type": "code",
      "source": [
        "# import tensorflow\n",
        "import tensorflow as tf\n",
        "print(tf.__version__)"
      ],
      "metadata": {
        "colab": {
          "base_uri": "https://localhost:8080/"
        },
        "id": "GXtduXfiaJgd",
        "outputId": "9385c6d2-d193-42aa-f651-da24fc2629d2"
      },
      "execution_count": 1,
      "outputs": [
        {
          "output_type": "stream",
          "name": "stdout",
          "text": [
            "2.13.0\n"
          ]
        }
      ]
    },
    {
      "cell_type": "markdown",
      "source": [
        "### Creating the data to view and fit"
      ],
      "metadata": {
        "id": "jLrVbrySavE-"
      }
    },
    {
      "cell_type": "code",
      "source": [
        "import numpy as np\n",
        "import matplotlib.pyplot as plt\n",
        "\n",
        "# creation of features\n",
        "X = np.array([-7.0, -4.0, -1.0, 2.0, 5.0, 8.0, 11.0, 14.0])\n",
        "\n",
        "# create labels\n",
        "Y = np.array([3.0, 6.0, 9.0, 12.0, 15.0, 18.0, 21.0, 24.0])\n",
        "\n",
        "# visualize it\n",
        "plt.scatter(X,Y)"
      ],
      "metadata": {
        "colab": {
          "base_uri": "https://localhost:8080/",
          "height": 453
        },
        "id": "_ob3cl_Ba3mz",
        "outputId": "1629b64b-3c09-41d8-811c-76d054e25429"
      },
      "execution_count": 2,
      "outputs": [
        {
          "output_type": "execute_result",
          "data": {
            "text/plain": [
              "<matplotlib.collections.PathCollection at 0x7d046b93e620>"
            ]
          },
          "metadata": {},
          "execution_count": 2
        },
        {
          "output_type": "display_data",
          "data": {
            "text/plain": [
              "<Figure size 640x480 with 1 Axes>"
            ],
            "image/png": "[encoded data removed]"
          },
          "metadata": {}
        }
      ]
    },
    {
      "cell_type": "code",
      "source": [
        "Y == X + 10"
      ],
      "metadata": {
        "colab": {
          "base_uri": "https://localhost:8080/"
        },
        "id": "ITm9ZtcCb12h",
        "outputId": "c7d9d297-15be-4a2d-c327-755cd3133ddd"
      },
      "execution_count": 4,
      "outputs": [
        {
          "output_type": "execute_result",
          "data": {
            "text/plain": [
              "array([ True,  True,  True,  True,  True,  True,  True,  True])"
            ]
          },
          "metadata": {},
          "execution_count": 4
        }
      ]
    },
    {
      "cell_type": "markdown",
      "source": [
        "## Input and Output shapes"
      ],
      "metadata": {
        "id": "gTOQ8zbscHFD"
      }
    },
    {
      "cell_type": "code",
      "source": [
        "# Create a demo tensor for our housing prise problem\n",
        "house_info = tf.constant([\"bedroom\",\"bathroom\",\"garage\"])\n",
        "house_prise = tf.constant([939700])\n",
        "house_info, house_prise"
      ],
      "metadata": {
        "colab": {
          "base_uri": "https://localhost:8080/"
        },
        "id": "_n0ZgmICcTLm",
        "outputId": "567fa2b1-7a94-4fc2-ac0f-a04789dcb08e"
      },
      "execution_count": 5,
      "outputs": [
        {
          "output_type": "execute_result",
          "data": {
            "text/plain": [
              "(<tf.Tensor: shape=(3,), dtype=string, numpy=array([b'bedroom', b'bathroom', b'garage'], dtype=object)>,\n",
              " <tf.Tensor: shape=(1,), dtype=int32, numpy=array([939700], dtype=int32)>)"
            ]
          },
          "metadata": {},
          "execution_count": 5
        }
      ]
    },
    {
      "cell_type": "code",
      "source": [
        "X[0], Y[0]"
      ],
      "metadata": {
        "colab": {
          "base_uri": "https://localhost:8080/"
        },
        "id": "dSkB5XmPdQyk",
        "outputId": "7eab0ad5-614c-428f-9523-6448293467f4"
      },
      "execution_count": 6,
      "outputs": [
        {
          "output_type": "execute_result",
          "data": {
            "text/plain": [
              "(-7.0, 3.0)"
            ]
          },
          "metadata": {},
          "execution_count": 6
        }
      ]
    },
    {
      "cell_type": "code",
      "source": [
        "input_shape = X[0].shape\n",
        "output_shape = Y[0].shape\n",
        "input_shape, output_shape"
      ],
      "metadata": {
        "colab": {
          "base_uri": "https://localhost:8080/"
        },
        "id": "gnsaQCx8c6zu",
        "outputId": "282b5be8-53d9-4665-f7da-7e82ed7ae55d"
      },
      "execution_count": 7,
      "outputs": [
        {
          "output_type": "execute_result",
          "data": {
            "text/plain": [
              "((), ())"
            ]
          },
          "metadata": {},
          "execution_count": 7
        }
      ]
    },
    {
      "cell_type": "code",
      "source": [
        "X[0].ndim"
      ],
      "metadata": {
        "colab": {
          "base_uri": "https://localhost:8080/"
        },
        "id": "vnk7Zia5dLhC",
        "outputId": "7c5721e7-4df8-4e95-bee9-8fa432fe41ff"
      },
      "execution_count": 8,
      "outputs": [
        {
          "output_type": "execute_result",
          "data": {
            "text/plain": [
              "0"
            ]
          },
          "metadata": {},
          "execution_count": 8
        }
      ]
    },
    {
      "cell_type": "code",
      "source": [
        "# Turning our numpy array into tensors\n",
        "X = tf.cast(tf.constant(X), dtype=tf.float32)\n",
        "y = tf.cast(tf.constant(Y), dtype=tf.float32)\n",
        "X, Y\n",
        "\n",
        "# Set random.set_seed\n",
        "tf.random.set_seed(42)\n",
        "\n",
        "# 1. Create a model using the Sequential API\n",
        "model = tf.keras.Sequential([\n",
        "    tf.keras.layers.Dense(1)\n",
        "])\n",
        "\n",
        "# 2. Compile the model\n",
        "model.compile(loss=tf.keras.losses.mae, # mae = mean absulate error\n",
        "              optimizer=tf.keras.optimizers.SGD(), # sgd is short for stochachastic greadent descent\n",
        "              metrics=[\"mae\"])\n",
        "# 3. fit the model\n",
        "model.fit(tf.expand_dims(X,axis=-1), Y, epochs=5)"
      ],
      "metadata": {
        "colab": {
          "base_uri": "https://localhost:8080/"
        },
        "id": "iKbbL4-0diUs",
        "outputId": "31b2235b-a070-4e39-f75a-282a6a78520f"
      },
      "execution_count": 9,
      "outputs": [
        {
          "output_type": "stream",
          "name": "stdout",
          "text": [
            "Epoch 1/5\n",
            "1/1 [==============================] - 5s 5s/step - loss: 19.9698 - mae: 19.9698\n",
            "Epoch 2/5\n",
            "1/1 [==============================] - 0s 14ms/step - loss: 19.6886 - mae: 19.6886\n",
            "Epoch 3/5\n",
            "1/1 [==============================] - 0s 13ms/step - loss: 19.4073 - mae: 19.4073\n",
            "Epoch 4/5\n",
            "1/1 [==============================] - 0s 14ms/step - loss: 19.1261 - mae: 19.1261\n",
            "Epoch 5/5\n",
            "1/1 [==============================] - 0s 14ms/step - loss: 18.8448 - mae: 18.8448\n"
          ]
        },
        {
          "output_type": "execute_result",
          "data": {
            "text/plain": [
              "<keras.src.callbacks.History at 0x79685b350070>"
            ]
          },
          "metadata": {},
          "execution_count": 9
        }
      ]
    },
    {
      "cell_type": "code",
      "source": [
        "input_shape = X[0].shape\n",
        "output_shape = Y[0].shape\n",
        "input_shape, output_shape"
      ],
      "metadata": {
        "colab": {
          "base_uri": "https://localhost:8080/"
        },
        "id": "xRtZVMByeMaW",
        "outputId": "49ddb302-7568-47b5-dedb-07f04e31f4c3"
      },
      "execution_count": 10,
      "outputs": [
        {
          "output_type": "execute_result",
          "data": {
            "text/plain": [
              "(TensorShape([]), ())"
            ]
          },
          "metadata": {},
          "execution_count": 10
        }
      ]
    },
    {
      "cell_type": "code",
      "source": [
        "plt.scatter(X,Y)"
      ],
      "metadata": {
        "colab": {
          "base_uri": "https://localhost:8080/",
          "height": 453
        },
        "id": "eKy7tq_Pee0l",
        "outputId": "a0a8d9f8-9ff1-4d0f-9859-96f12281fe02"
      },
      "execution_count": 11,
      "outputs": [
        {
          "output_type": "execute_result",
          "data": {
            "text/plain": [
              "<matplotlib.collections.PathCollection at 0x796850161420>"
            ]
          },
          "metadata": {},
          "execution_count": 11
        },
        {
          "output_type": "display_data",
          "data": {
            "text/plain": [
              "<Figure size 640x480 with 1 Axes>"
            ],
            "image/png": "[encoded data removed]"
          },
          "metadata": {}
        }
      ]
    },
    {
      "cell_type": "markdown",
      "source": [
        "## Steps in modelling with Tensorflow\n",
        "1. Creating a model - defin theinput and output layers as well as the hidden layers of deep learning model.\n",
        "2. compiling a model - define the loss function(in other words , the function which tells our model how wrong it is) and\n",
        "the optimizer(tells our model how to improve the patterns its learning) and evaluate matrices ( what can we use to interpret the performance of our model).\n",
        "3. Fitting a  model - letting the model try to find patterns between X & Y(features and ladels)"
      ],
      "metadata": {
        "id": "M4mjDWXHftcJ"
      }
    },
    {
      "cell_type": "code",
      "source": [
        "\n",
        "# Set random.set_seed\n",
        "tf.random.set_seed(42)\n",
        "\n",
        "# 1. Create a model using the Sequential API\n",
        "model = tf.keras.Sequential([\n",
        "    tf.keras.layers.Dense(1)\n",
        "])\n",
        "\n",
        "# 2. Compile the model\n",
        "model.compile(loss=tf.keras.losses.mae, # mae = mean absulate error\n",
        "              optimizer=tf.keras.optimizers.SGD(), # sgd is short for stochachastic greadent descent\n",
        "              metrics=[\"mae\"])\n",
        "# 3. fit the model\n",
        "model.fit(tf.expand_dims(X,axis=-1), Y, epochs=50)"
      ],
      "metadata": {
        "colab": {
          "base_uri": "https://localhost:8080/"
        },
        "id": "n54iqbMVhFol",
        "outputId": "0cfa4d19-48cb-4f5e-bcb5-e0062e0777a6"
      },
      "execution_count": 12,
      "outputs": [
        {
          "output_type": "stream",
          "name": "stdout",
          "text": [
            "Epoch 1/50\n",
            "1/1 [==============================] - 1s 593ms/step - loss: 12.9808 - mae: 12.9808\n",
            "Epoch 2/50\n",
            "1/1 [==============================] - 0s 23ms/step - loss: 12.8483 - mae: 12.8483\n",
            "Epoch 3/50\n",
            "1/1 [==============================] - 0s 14ms/step - loss: 12.7158 - mae: 12.7158\n",
            "Epoch 4/50\n",
            "1/1 [==============================] - 0s 13ms/step - loss: 12.5833 - mae: 12.5833\n",
            "Epoch 5/50\n",
            "1/1 [==============================] - 0s 14ms/step - loss: 12.4508 - mae: 12.4508\n",
            "Epoch 6/50\n",
            "1/1 [==============================] - 0s 27ms/step - loss: 12.3183 - mae: 12.3183\n",
            "Epoch 7/50\n",
            "1/1 [==============================] - 0s 10ms/step - loss: 12.1858 - mae: 12.1858\n",
            "Epoch 8/50\n",
            "1/1 [==============================] - 0s 14ms/step - loss: 12.0533 - mae: 12.0533\n",
            "Epoch 9/50\n",
            "1/1 [==============================] - 0s 17ms/step - loss: 11.9208 - mae: 11.9208\n",
            "Epoch 10/50\n",
            "1/1 [==============================] - 0s 24ms/step - loss: 11.7883 - mae: 11.7883\n",
            "Epoch 11/50\n",
            "1/1 [==============================] - 0s 14ms/step - loss: 11.6558 - mae: 11.6558\n",
            "Epoch 12/50\n",
            "1/1 [==============================] - 0s 12ms/step - loss: 11.5233 - mae: 11.5233\n",
            "Epoch 13/50\n",
            "1/1 [==============================] - 0s 13ms/step - loss: 11.3908 - mae: 11.3908\n",
            "Epoch 14/50\n",
            "1/1 [==============================] - 0s 19ms/step - loss: 11.2583 - mae: 11.2583\n",
            "Epoch 15/50\n",
            "1/1 [==============================] - 0s 21ms/step - loss: 11.1258 - mae: 11.1258\n",
            "Epoch 16/50\n",
            "1/1 [==============================] - 0s 22ms/step - loss: 10.9933 - mae: 10.9933\n",
            "Epoch 17/50\n",
            "1/1 [==============================] - 0s 15ms/step - loss: 10.8608 - mae: 10.8608\n",
            "Epoch 18/50\n",
            "1/1 [==============================] - 0s 23ms/step - loss: 10.7283 - mae: 10.7283\n",
            "Epoch 19/50\n",
            "1/1 [==============================] - 0s 26ms/step - loss: 10.5958 - mae: 10.5958\n",
            "Epoch 20/50\n",
            "1/1 [==============================] - 0s 12ms/step - loss: 10.4633 - mae: 10.4633\n",
            "Epoch 21/50\n",
            "1/1 [==============================] - 0s 20ms/step - loss: 10.3308 - mae: 10.3308\n",
            "Epoch 22/50\n",
            "1/1 [==============================] - 0s 21ms/step - loss: 10.1983 - mae: 10.1983\n",
            "Epoch 23/50\n",
            "1/1 [==============================] - 0s 19ms/step - loss: 10.0658 - mae: 10.0658\n",
            "Epoch 24/50\n",
            "1/1 [==============================] - 0s 21ms/step - loss: 9.9333 - mae: 9.9333\n",
            "Epoch 25/50\n",
            "1/1 [==============================] - 0s 17ms/step - loss: 9.8008 - mae: 9.8008\n",
            "Epoch 26/50\n",
            "1/1 [==============================] - 0s 12ms/step - loss: 9.6683 - mae: 9.6683\n",
            "Epoch 27/50\n",
            "1/1 [==============================] - 0s 17ms/step - loss: 9.5358 - mae: 9.5358\n",
            "Epoch 28/50\n",
            "1/1 [==============================] - 0s 13ms/step - loss: 9.4033 - mae: 9.4033\n",
            "Epoch 29/50\n",
            "1/1 [==============================] - 0s 15ms/step - loss: 9.2708 - mae: 9.2708\n",
            "Epoch 30/50\n",
            "1/1 [==============================] - 0s 46ms/step - loss: 9.1383 - mae: 9.1383\n",
            "Epoch 31/50\n",
            "1/1 [==============================] - 0s 12ms/step - loss: 9.0058 - mae: 9.0058\n",
            "Epoch 32/50\n",
            "1/1 [==============================] - 0s 19ms/step - loss: 8.8733 - mae: 8.8733\n",
            "Epoch 33/50\n",
            "1/1 [==============================] - 0s 13ms/step - loss: 8.7408 - mae: 8.7408\n",
            "Epoch 34/50\n",
            "1/1 [==============================] - 0s 15ms/step - loss: 8.6083 - mae: 8.6083\n",
            "Epoch 35/50\n",
            "1/1 [==============================] - 0s 13ms/step - loss: 8.4758 - mae: 8.4758\n",
            "Epoch 36/50\n",
            "1/1 [==============================] - 0s 12ms/step - loss: 8.3433 - mae: 8.3433\n",
            "Epoch 37/50\n",
            "1/1 [==============================] - 0s 13ms/step - loss: 8.2108 - mae: 8.2108\n",
            "Epoch 38/50\n",
            "1/1 [==============================] - 0s 13ms/step - loss: 8.0783 - mae: 8.0783\n",
            "Epoch 39/50\n",
            "1/1 [==============================] - 0s 14ms/step - loss: 7.9458 - mae: 7.9458\n",
            "Epoch 40/50\n",
            "1/1 [==============================] - 0s 14ms/step - loss: 7.8133 - mae: 7.8133\n",
            "Epoch 41/50\n",
            "1/1 [==============================] - 0s 16ms/step - loss: 7.6808 - mae: 7.6808\n",
            "Epoch 42/50\n",
            "1/1 [==============================] - 0s 17ms/step - loss: 7.5483 - mae: 7.5483\n",
            "Epoch 43/50\n",
            "1/1 [==============================] - 0s 20ms/step - loss: 7.4158 - mae: 7.4158\n",
            "Epoch 44/50\n",
            "1/1 [==============================] - 0s 14ms/step - loss: 7.2833 - mae: 7.2833\n",
            "Epoch 45/50\n",
            "1/1 [==============================] - 0s 14ms/step - loss: 7.1700 - mae: 7.1700\n",
            "Epoch 46/50\n",
            "1/1 [==============================] - 0s 25ms/step - loss: 7.1644 - mae: 7.1644\n",
            "Epoch 47/50\n",
            "1/1 [==============================] - 0s 24ms/step - loss: 7.1588 - mae: 7.1588\n",
            "Epoch 48/50\n",
            "1/1 [==============================] - 0s 23ms/step - loss: 7.1531 - mae: 7.1531\n",
            "Epoch 49/50\n",
            "1/1 [==============================] - 0s 16ms/step - loss: 7.1475 - mae: 7.1475\n",
            "Epoch 50/50\n",
            "1/1 [==============================] - 0s 14ms/step - loss: 7.1419 - mae: 7.1419\n"
          ]
        },
        {
          "output_type": "execute_result",
          "data": {
            "text/plain": [
              "<keras.src.callbacks.History at 0x7968501a2650>"
            ]
          },
          "metadata": {},
          "execution_count": 12
        }
      ]
    },
    {
      "cell_type": "code",
      "source": [
        "model.predict([17.0])"
      ],
      "metadata": {
        "colab": {
          "base_uri": "https://localhost:8080/"
        },
        "id": "eujvjY7plpEj",
        "outputId": "0eaec619-1f00-4264-9f7b-e7d944742c19"
      },
      "execution_count": 13,
      "outputs": [
        {
          "output_type": "stream",
          "name": "stdout",
          "text": [
            "1/1 [==============================] - 0s 125ms/step\n"
          ]
        },
        {
          "output_type": "execute_result",
          "data": {
            "text/plain": [
              "array([[29.18687]], dtype=float32)"
            ]
          },
          "metadata": {},
          "execution_count": 13
        }
      ]
    },
    {
      "cell_type": "code",
      "source": [
        "y_pred = model.predict([17.0])\n",
        "y_pred"
      ],
      "metadata": {
        "colab": {
          "base_uri": "https://localhost:8080/"
        },
        "id": "tYpjYYSjlpzX",
        "outputId": "b87897e6-6611-426d-b41b-2f23aefa069e"
      },
      "execution_count": 14,
      "outputs": [
        {
          "output_type": "stream",
          "name": "stdout",
          "text": [
            "1/1 [==============================] - 0s 82ms/step\n"
          ]
        },
        {
          "output_type": "execute_result",
          "data": {
            "text/plain": [
              "array([[29.18687]], dtype=float32)"
            ]
          },
          "metadata": {},
          "execution_count": 14
        }
      ]
    },
    {
      "cell_type": "code",
      "source": [
        "y_pred + 17"
      ],
      "metadata": {
        "colab": {
          "base_uri": "https://localhost:8080/"
        },
        "id": "azwWG6LYs47I",
        "outputId": "8f634c08-2579-4f2f-9853-6451c9191d45"
      },
      "execution_count": 15,
      "outputs": [
        {
          "output_type": "execute_result",
          "data": {
            "text/plain": [
              "array([[46.18687]], dtype=float32)"
            ]
          },
          "metadata": {},
          "execution_count": 15
        }
      ]
    },
    {
      "cell_type": "markdown",
      "source": [
        "### Improving our model\n",
        "\n",
        "We can improve our model , by altering the steps to create a mobel\n",
        "\n",
        "1) **Createing a model** - here we might add more layers,\n",
        "increasing the number of hidden units(all called neurons)\n",
        "within each of the hidden layers, change the activation function of each layers,\n",
        "\n",
        "2) **Compiling a model** - Here we might change the optimization function or perhaps the **learning rate** of optimization function.\n",
        "\n",
        "3) **Fitting a model** - Here we might fit a model for more **epochs**"
      ],
      "metadata": {
        "id": "1FXDiOlVs9ii"
      }
    },
    {
      "cell_type": "code",
      "source": [
        "# Set random.set_seed\n",
        "tf.random.set_seed(42)\n",
        "\n",
        "# 1. Create a model using the Sequential API\n",
        "model = tf.keras.Sequential([\n",
        "    tf.keras.layers.Dense(1)\n",
        "])\n",
        "\n",
        "# 2. Compile the model\n",
        "model.compile(loss=tf.keras.losses.mae, # mae = mean absulate error\n",
        "              optimizer=tf.keras.optimizers.Adam(lr=0.01), # sgd is short for stochachastic greadent descent\n",
        "              metrics=[\"mae\"])\n",
        "# 3. fit the model\n",
        "model.fit(tf.expand_dims(X,axis=-1), Y, epochs=500)"
      ],
      "metadata": {
        "id": "R62D6u26tzw2",
        "colab": {
          "base_uri": "https://localhost:8080/"
        },
        "outputId": "de364a7e-84ef-4ec4-c1bc-88b36adcb772"
      },
      "execution_count": 16,
      "outputs": [
        {
          "output_type": "stream",
          "name": "stderr",
          "text": [
            "WARNING:absl:`lr` is deprecated in Keras optimizer, please use `learning_rate` or use the legacy optimizer, e.g.,tf.keras.optimizers.legacy.Adam.\n"
          ]
        },
        {
          "output_type": "stream",
          "name": "stdout",
          "text": [
            "Epoch 1/500\n",
            "1/1 [==============================] - 1s 1s/step - loss: 13.4158 - mae: 13.4158\n",
            "Epoch 2/500\n",
            "1/1 [==============================] - 0s 22ms/step - loss: 13.4113 - mae: 13.4113\n",
            "Epoch 3/500\n",
            "1/1 [==============================] - 0s 23ms/step - loss: 13.4068 - mae: 13.4068\n",
            "Epoch 4/500\n",
            "1/1 [==============================] - 0s 11ms/step - loss: 13.4023 - mae: 13.4023\n",
            "Epoch 5/500\n",
            "1/1 [==============================] - 0s 11ms/step - loss: 13.3978 - mae: 13.3978\n",
            "Epoch 6/500\n",
            "1/1 [==============================] - 0s 11ms/step - loss: 13.3933 - mae: 13.3933\n",
            "Epoch 7/500\n",
            "1/1 [==============================] - 0s 11ms/step - loss: 13.3888 - mae: 13.3888\n",
            "Epoch 8/500\n",
            "1/1 [==============================] - 0s 13ms/step - loss: 13.3843 - mae: 13.3843\n",
            "Epoch 9/500\n",
            "1/1 [==============================] - 0s 18ms/step - loss: 13.3798 - mae: 13.3798\n",
            "Epoch 10/500\n",
            "1/1 [==============================] - 0s 15ms/step - loss: 13.3753 - mae: 13.3753\n",
            "Epoch 11/500\n",
            "1/1 [==============================] - 0s 11ms/step - loss: 13.3708 - mae: 13.3708\n",
            "Epoch 12/500\n",
            "1/1 [==============================] - 0s 10ms/step - loss: 13.3663 - mae: 13.3663\n",
            "Epoch 13/500\n",
            "1/1 [==============================] - 0s 15ms/step - loss: 13.3618 - mae: 13.3618\n",
            "Epoch 14/500\n",
            "1/1 [==============================] - 0s 20ms/step - loss: 13.3573 - mae: 13.3573\n",
            "Epoch 15/500\n",
            "1/1 [==============================] - 0s 11ms/step - loss: 13.3528 - mae: 13.3528\n",
            "Epoch 16/500\n",
            "1/1 [==============================] - 0s 17ms/step - loss: 13.3483 - mae: 13.3483\n",
            "Epoch 17/500\n",
            "1/1 [==============================] - 0s 13ms/step - loss: 13.3438 - mae: 13.3438\n",
            "Epoch 18/500\n",
            "1/1 [==============================] - 0s 24ms/step - loss: 13.3393 - mae: 13.3393\n",
            "Epoch 19/500\n",
            "1/1 [==============================] - 0s 12ms/step - loss: 13.3348 - mae: 13.3348\n",
            "Epoch 20/500\n",
            "1/1 [==============================] - 0s 24ms/step - loss: 13.3303 - mae: 13.3303\n",
            "Epoch 21/500\n",
            "1/1 [==============================] - 0s 14ms/step - loss: 13.3258 - mae: 13.3258\n",
            "Epoch 22/500\n",
            "1/1 [==============================] - 0s 13ms/step - loss: 13.3213 - mae: 13.3213\n",
            "Epoch 23/500\n",
            "1/1 [==============================] - 0s 13ms/step - loss: 13.3168 - mae: 13.3168\n",
            "Epoch 24/500\n",
            "1/1 [==============================] - 0s 17ms/step - loss: 13.3123 - mae: 13.3123\n",
            "Epoch 25/500\n",
            "1/1 [==============================] - 0s 14ms/step - loss: 13.3078 - mae: 13.3078\n",
            "Epoch 26/500\n",
            "1/1 [==============================] - 0s 12ms/step - loss: 13.3033 - mae: 13.3033\n",
            "Epoch 27/500\n",
            "1/1 [==============================] - 0s 11ms/step - loss: 13.2988 - mae: 13.2988\n",
            "Epoch 28/500\n",
            "1/1 [==============================] - 0s 17ms/step - loss: 13.2943 - mae: 13.2943\n",
            "Epoch 29/500\n",
            "1/1 [==============================] - 0s 33ms/step - loss: 13.2898 - mae: 13.2898\n",
            "Epoch 30/500\n",
            "1/1 [==============================] - 0s 26ms/step - loss: 13.2853 - mae: 13.2853\n",
            "Epoch 31/500\n",
            "1/1 [==============================] - 0s 19ms/step - loss: 13.2808 - mae: 13.2808\n",
            "Epoch 32/500\n",
            "1/1 [==============================] - 0s 17ms/step - loss: 13.2763 - mae: 13.2763\n",
            "Epoch 33/500\n",
            "1/1 [==============================] - 0s 24ms/step - loss: 13.2718 - mae: 13.2718\n",
            "Epoch 34/500\n",
            "1/1 [==============================] - 0s 22ms/step - loss: 13.2673 - mae: 13.2673\n",
            "Epoch 35/500\n",
            "1/1 [==============================] - 0s 10ms/step - loss: 13.2628 - mae: 13.2628\n",
            "Epoch 36/500\n",
            "1/1 [==============================] - 0s 18ms/step - loss: 13.2583 - mae: 13.2583\n",
            "Epoch 37/500\n",
            "1/1 [==============================] - 0s 10ms/step - loss: 13.2538 - mae: 13.2538\n",
            "Epoch 38/500\n",
            "1/1 [==============================] - 0s 11ms/step - loss: 13.2493 - mae: 13.2493\n",
            "Epoch 39/500\n",
            "1/1 [==============================] - 0s 11ms/step - loss: 13.2448 - mae: 13.2448\n",
            "Epoch 40/500\n",
            "1/1 [==============================] - 0s 10ms/step - loss: 13.2403 - mae: 13.2403\n",
            "Epoch 41/500\n",
            "1/1 [==============================] - 0s 10ms/step - loss: 13.2358 - mae: 13.2358\n",
            "Epoch 42/500\n",
            "1/1 [==============================] - 0s 10ms/step - loss: 13.2313 - mae: 13.2313\n",
            "Epoch 43/500\n",
            "1/1 [==============================] - 0s 10ms/step - loss: 13.2268 - mae: 13.2268\n",
            "Epoch 44/500\n",
            "1/1 [==============================] - 0s 9ms/step - loss: 13.2223 - mae: 13.2223\n",
            "Epoch 45/500\n",
            "1/1 [==============================] - 0s 10ms/step - loss: 13.2178 - mae: 13.2178\n",
            "Epoch 46/500\n",
            "1/1 [==============================] - 0s 10ms/step - loss: 13.2133 - mae: 13.2133\n",
            "Epoch 47/500\n",
            "1/1 [==============================] - 0s 32ms/step - loss: 13.2088 - mae: 13.2088\n",
            "Epoch 48/500\n",
            "1/1 [==============================] - 0s 9ms/step - loss: 13.2043 - mae: 13.2043\n",
            "Epoch 49/500\n",
            "1/1 [==============================] - 0s 9ms/step - loss: 13.1998 - mae: 13.1998\n",
            "Epoch 50/500\n",
            "1/1 [==============================] - 0s 13ms/step - loss: 13.1953 - mae: 13.1953\n",
            "Epoch 51/500\n",
            "1/1 [==============================] - 0s 11ms/step - loss: 13.1908 - mae: 13.1908\n",
            "Epoch 52/500\n",
            "1/1 [==============================] - 0s 11ms/step - loss: 13.1863 - mae: 13.1863\n",
            "Epoch 53/500\n",
            "1/1 [==============================] - 0s 9ms/step - loss: 13.1818 - mae: 13.1818\n",
            "Epoch 54/500\n",
            "1/1 [==============================] - 0s 11ms/step - loss: 13.1773 - mae: 13.1773\n",
            "Epoch 55/500\n",
            "1/1 [==============================] - 0s 10ms/step - loss: 13.1728 - mae: 13.1728\n",
            "Epoch 56/500\n",
            "1/1 [==============================] - 0s 10ms/step - loss: 13.1683 - mae: 13.1683\n",
            "Epoch 57/500\n",
            "1/1 [==============================] - 0s 10ms/step - loss: 13.1638 - mae: 13.1638\n",
            "Epoch 58/500\n",
            "1/1 [==============================] - 0s 11ms/step - loss: 13.1593 - mae: 13.1593\n",
            "Epoch 59/500\n",
            "1/1 [==============================] - 0s 10ms/step - loss: 13.1548 - mae: 13.1548\n",
            "Epoch 60/500\n",
            "1/1 [==============================] - 0s 11ms/step - loss: 13.1503 - mae: 13.1503\n",
            "Epoch 61/500\n",
            "1/1 [==============================] - 0s 10ms/step - loss: 13.1458 - mae: 13.1458\n",
            "Epoch 62/500\n",
            "1/1 [==============================] - 0s 10ms/step - loss: 13.1413 - mae: 13.1413\n",
            "Epoch 63/500\n",
            "1/1 [==============================] - 0s 13ms/step - loss: 13.1368 - mae: 13.1368\n",
            "Epoch 64/500\n",
            "1/1 [==============================] - 0s 28ms/step - loss: 13.1323 - mae: 13.1323\n",
            "Epoch 65/500\n",
            "1/1 [==============================] - 0s 23ms/step - loss: 13.1278 - mae: 13.1278\n",
            "Epoch 66/500\n",
            "1/1 [==============================] - 0s 28ms/step - loss: 13.1233 - mae: 13.1233\n",
            "Epoch 67/500\n",
            "1/1 [==============================] - 0s 14ms/step - loss: 13.1188 - mae: 13.1188\n",
            "Epoch 68/500\n",
            "1/1 [==============================] - 0s 18ms/step - loss: 13.1143 - mae: 13.1143\n",
            "Epoch 69/500\n",
            "1/1 [==============================] - 0s 20ms/step - loss: 13.1098 - mae: 13.1098\n",
            "Epoch 70/500\n",
            "1/1 [==============================] - 0s 15ms/step - loss: 13.1053 - mae: 13.1053\n",
            "Epoch 71/500\n",
            "1/1 [==============================] - 0s 17ms/step - loss: 13.1008 - mae: 13.1008\n",
            "Epoch 72/500\n",
            "1/1 [==============================] - 0s 18ms/step - loss: 13.0963 - mae: 13.0963\n",
            "Epoch 73/500\n",
            "1/1 [==============================] - 0s 11ms/step - loss: 13.0918 - mae: 13.0918\n",
            "Epoch 74/500\n",
            "1/1 [==============================] - 0s 15ms/step - loss: 13.0873 - mae: 13.0873\n",
            "Epoch 75/500\n",
            "1/1 [==============================] - 0s 30ms/step - loss: 13.0828 - mae: 13.0828\n",
            "Epoch 76/500\n",
            "1/1 [==============================] - 0s 19ms/step - loss: 13.0783 - mae: 13.0783\n",
            "Epoch 77/500\n",
            "1/1 [==============================] - 0s 16ms/step - loss: 13.0738 - mae: 13.0738\n",
            "Epoch 78/500\n",
            "1/1 [==============================] - 0s 10ms/step - loss: 13.0693 - mae: 13.0693\n",
            "Epoch 79/500\n",
            "1/1 [==============================] - 0s 15ms/step - loss: 13.0648 - mae: 13.0648\n",
            "Epoch 80/500\n",
            "1/1 [==============================] - 0s 11ms/step - loss: 13.0603 - mae: 13.0603\n",
            "Epoch 81/500\n",
            "1/1 [==============================] - 0s 31ms/step - loss: 13.0558 - mae: 13.0558\n",
            "Epoch 82/500\n",
            "1/1 [==============================] - 0s 25ms/step - loss: 13.0513 - mae: 13.0513\n",
            "Epoch 83/500\n",
            "1/1 [==============================] - 0s 12ms/step - loss: 13.0468 - mae: 13.0468\n",
            "Epoch 84/500\n",
            "1/1 [==============================] - 0s 12ms/step - loss: 13.0423 - mae: 13.0423\n",
            "Epoch 85/500\n",
            "1/1 [==============================] - 0s 12ms/step - loss: 13.0378 - mae: 13.0378\n",
            "Epoch 86/500\n",
            "1/1 [==============================] - 0s 10ms/step - loss: 13.0333 - mae: 13.0333\n",
            "Epoch 87/500\n",
            "1/1 [==============================] - 0s 11ms/step - loss: 13.0288 - mae: 13.0288\n",
            "Epoch 88/500\n",
            "1/1 [==============================] - 0s 10ms/step - loss: 13.0243 - mae: 13.0243\n",
            "Epoch 89/500\n",
            "1/1 [==============================] - 0s 10ms/step - loss: 13.0198 - mae: 13.0198\n",
            "Epoch 90/500\n",
            "1/1 [==============================] - 0s 14ms/step - loss: 13.0153 - mae: 13.0153\n",
            "Epoch 91/500\n",
            "1/1 [==============================] - 0s 12ms/step - loss: 13.0108 - mae: 13.0108\n",
            "Epoch 92/500\n",
            "1/1 [==============================] - 0s 17ms/step - loss: 13.0063 - mae: 13.0063\n",
            "Epoch 93/500\n",
            "1/1 [==============================] - 0s 12ms/step - loss: 13.0018 - mae: 13.0018\n",
            "Epoch 94/500\n",
            "1/1 [==============================] - 0s 16ms/step - loss: 12.9973 - mae: 12.9973\n",
            "Epoch 95/500\n",
            "1/1 [==============================] - 0s 10ms/step - loss: 12.9928 - mae: 12.9928\n",
            "Epoch 96/500\n",
            "1/1 [==============================] - 0s 10ms/step - loss: 12.9883 - mae: 12.9883\n",
            "Epoch 97/500\n",
            "1/1 [==============================] - 0s 10ms/step - loss: 12.9838 - mae: 12.9838\n",
            "Epoch 98/500\n",
            "1/1 [==============================] - 0s 10ms/step - loss: 12.9793 - mae: 12.9793\n",
            "Epoch 99/500\n",
            "1/1 [==============================] - 0s 10ms/step - loss: 12.9748 - mae: 12.9748\n",
            "Epoch 100/500\n",
            "1/1 [==============================] - 0s 10ms/step - loss: 12.9703 - mae: 12.9703\n",
            "Epoch 101/500\n",
            "1/1 [==============================] - 0s 10ms/step - loss: 12.9658 - mae: 12.9658\n",
            "Epoch 102/500\n",
            "1/1 [==============================] - 0s 13ms/step - loss: 12.9613 - mae: 12.9613\n",
            "Epoch 103/500\n",
            "1/1 [==============================] - 0s 14ms/step - loss: 12.9568 - mae: 12.9568\n",
            "Epoch 104/500\n",
            "1/1 [==============================] - 0s 11ms/step - loss: 12.9523 - mae: 12.9523\n",
            "Epoch 105/500\n",
            "1/1 [==============================] - 0s 10ms/step - loss: 12.9478 - mae: 12.9478\n",
            "Epoch 106/500\n",
            "1/1 [==============================] - 0s 10ms/step - loss: 12.9433 - mae: 12.9433\n",
            "Epoch 107/500\n",
            "1/1 [==============================] - 0s 14ms/step - loss: 12.9388 - mae: 12.9388\n",
            "Epoch 108/500\n",
            "1/1 [==============================] - 0s 19ms/step - loss: 12.9343 - mae: 12.9343\n",
            "Epoch 109/500\n",
            "1/1 [==============================] - 0s 12ms/step - loss: 12.9298 - mae: 12.9298\n",
            "Epoch 110/500\n",
            "1/1 [==============================] - 0s 11ms/step - loss: 12.9253 - mae: 12.9253\n",
            "Epoch 111/500\n",
            "1/1 [==============================] - 0s 13ms/step - loss: 12.9208 - mae: 12.9208\n",
            "Epoch 112/500\n",
            "1/1 [==============================] - 0s 10ms/step - loss: 12.9163 - mae: 12.9163\n",
            "Epoch 113/500\n",
            "1/1 [==============================] - 0s 26ms/step - loss: 12.9118 - mae: 12.9118\n",
            "Epoch 114/500\n",
            "1/1 [==============================] - 0s 32ms/step - loss: 12.9073 - mae: 12.9073\n",
            "Epoch 115/500\n",
            "1/1 [==============================] - 0s 17ms/step - loss: 12.9028 - mae: 12.9028\n",
            "Epoch 116/500\n",
            "1/1 [==============================] - 0s 16ms/step - loss: 12.8983 - mae: 12.8983\n",
            "Epoch 117/500\n",
            "1/1 [==============================] - 0s 14ms/step - loss: 12.8938 - mae: 12.8938\n",
            "Epoch 118/500\n",
            "1/1 [==============================] - 0s 18ms/step - loss: 12.8893 - mae: 12.8893\n",
            "Epoch 119/500\n",
            "1/1 [==============================] - 0s 23ms/step - loss: 12.8848 - mae: 12.8848\n",
            "Epoch 120/500\n",
            "1/1 [==============================] - 0s 10ms/step - loss: 12.8803 - mae: 12.8803\n",
            "Epoch 121/500\n",
            "1/1 [==============================] - 0s 10ms/step - loss: 12.8758 - mae: 12.8758\n",
            "Epoch 122/500\n",
            "1/1 [==============================] - 0s 10ms/step - loss: 12.8713 - mae: 12.8713\n",
            "Epoch 123/500\n",
            "1/1 [==============================] - 0s 20ms/step - loss: 12.8668 - mae: 12.8668\n",
            "Epoch 124/500\n",
            "1/1 [==============================] - 0s 15ms/step - loss: 12.8623 - mae: 12.8623\n",
            "Epoch 125/500\n",
            "1/1 [==============================] - 0s 15ms/step - loss: 12.8578 - mae: 12.8578\n",
            "Epoch 126/500\n",
            "1/1 [==============================] - 0s 22ms/step - loss: 12.8533 - mae: 12.8533\n",
            "Epoch 127/500\n",
            "1/1 [==============================] - 0s 11ms/step - loss: 12.8488 - mae: 12.8488\n",
            "Epoch 128/500\n",
            "1/1 [==============================] - 0s 13ms/step - loss: 12.8443 - mae: 12.8443\n",
            "Epoch 129/500\n",
            "1/1 [==============================] - 0s 10ms/step - loss: 12.8398 - mae: 12.8398\n",
            "Epoch 130/500\n",
            "1/1 [==============================] - 0s 9ms/step - loss: 12.8353 - mae: 12.8353\n",
            "Epoch 131/500\n",
            "1/1 [==============================] - 0s 11ms/step - loss: 12.8308 - mae: 12.8308\n",
            "Epoch 132/500\n",
            "1/1 [==============================] - 0s 11ms/step - loss: 12.8263 - mae: 12.8263\n",
            "Epoch 133/500\n",
            "1/1 [==============================] - 0s 10ms/step - loss: 12.8218 - mae: 12.8218\n",
            "Epoch 134/500\n",
            "1/1 [==============================] - 0s 12ms/step - loss: 12.8173 - mae: 12.8173\n",
            "Epoch 135/500\n",
            "1/1 [==============================] - 0s 11ms/step - loss: 12.8128 - mae: 12.8128\n",
            "Epoch 136/500\n",
            "1/1 [==============================] - 0s 11ms/step - loss: 12.8083 - mae: 12.8083\n",
            "Epoch 137/500\n",
            "1/1 [==============================] - 0s 9ms/step - loss: 12.8038 - mae: 12.8038\n",
            "Epoch 138/500\n",
            "1/1 [==============================] - 0s 10ms/step - loss: 12.7993 - mae: 12.7993\n",
            "Epoch 139/500\n",
            "1/1 [==============================] - 0s 9ms/step - loss: 12.7948 - mae: 12.7948\n",
            "Epoch 140/500\n",
            "1/1 [==============================] - 0s 10ms/step - loss: 12.7903 - mae: 12.7903\n",
            "Epoch 141/500\n",
            "1/1 [==============================] - 0s 10ms/step - loss: 12.7858 - mae: 12.7858\n",
            "Epoch 142/500\n",
            "1/1 [==============================] - 0s 12ms/step - loss: 12.7813 - mae: 12.7813\n",
            "Epoch 143/500\n",
            "1/1 [==============================] - 0s 15ms/step - loss: 12.7768 - mae: 12.7768\n",
            "Epoch 144/500\n",
            "1/1 [==============================] - 0s 14ms/step - loss: 12.7723 - mae: 12.7723\n",
            "Epoch 145/500\n",
            "1/1 [==============================] - 0s 11ms/step - loss: 12.7678 - mae: 12.7678\n",
            "Epoch 146/500\n",
            "1/1 [==============================] - 0s 28ms/step - loss: 12.7633 - mae: 12.7633\n",
            "Epoch 147/500\n",
            "1/1 [==============================] - 0s 17ms/step - loss: 12.7588 - mae: 12.7588\n",
            "Epoch 148/500\n",
            "1/1 [==============================] - 0s 14ms/step - loss: 12.7543 - mae: 12.7543\n",
            "Epoch 149/500\n",
            "1/1 [==============================] - 0s 18ms/step - loss: 12.7498 - mae: 12.7498\n",
            "Epoch 150/500\n",
            "1/1 [==============================] - 0s 23ms/step - loss: 12.7453 - mae: 12.7453\n",
            "Epoch 151/500\n",
            "1/1 [==============================] - 0s 12ms/step - loss: 12.7408 - mae: 12.7408\n",
            "Epoch 152/500\n",
            "1/1 [==============================] - 0s 14ms/step - loss: 12.7363 - mae: 12.7363\n",
            "Epoch 153/500\n",
            "1/1 [==============================] - 0s 14ms/step - loss: 12.7318 - mae: 12.7318\n",
            "Epoch 154/500\n",
            "1/1 [==============================] - 0s 40ms/step - loss: 12.7273 - mae: 12.7273\n",
            "Epoch 155/500\n",
            "1/1 [==============================] - 0s 23ms/step - loss: 12.7228 - mae: 12.7228\n",
            "Epoch 156/500\n",
            "1/1 [==============================] - 0s 13ms/step - loss: 12.7183 - mae: 12.7183\n",
            "Epoch 157/500\n",
            "1/1 [==============================] - 0s 13ms/step - loss: 12.7138 - mae: 12.7138\n",
            "Epoch 158/500\n",
            "1/1 [==============================] - 0s 11ms/step - loss: 12.7093 - mae: 12.7093\n",
            "Epoch 159/500\n",
            "1/1 [==============================] - 0s 10ms/step - loss: 12.7048 - mae: 12.7048\n",
            "Epoch 160/500\n",
            "1/1 [==============================] - 0s 15ms/step - loss: 12.7003 - mae: 12.7003\n",
            "Epoch 161/500\n",
            "1/1 [==============================] - 0s 9ms/step - loss: 12.6958 - mae: 12.6958\n",
            "Epoch 162/500\n",
            "1/1 [==============================] - 0s 11ms/step - loss: 12.6913 - mae: 12.6913\n",
            "Epoch 163/500\n",
            "1/1 [==============================] - 0s 10ms/step - loss: 12.6868 - mae: 12.6868\n",
            "Epoch 164/500\n",
            "1/1 [==============================] - 0s 13ms/step - loss: 12.6823 - mae: 12.6823\n",
            "Epoch 165/500\n",
            "1/1 [==============================] - 0s 9ms/step - loss: 12.6778 - mae: 12.6778\n",
            "Epoch 166/500\n",
            "1/1 [==============================] - 0s 9ms/step - loss: 12.6733 - mae: 12.6733\n",
            "Epoch 167/500\n",
            "1/1 [==============================] - 0s 10ms/step - loss: 12.6688 - mae: 12.6688\n",
            "Epoch 168/500\n",
            "1/1 [==============================] - 0s 10ms/step - loss: 12.6643 - mae: 12.6643\n",
            "Epoch 169/500\n",
            "1/1 [==============================] - 0s 21ms/step - loss: 12.6598 - mae: 12.6598\n",
            "Epoch 170/500\n",
            "1/1 [==============================] - 0s 21ms/step - loss: 12.6553 - mae: 12.6553\n",
            "Epoch 171/500\n",
            "1/1 [==============================] - 0s 12ms/step - loss: 12.6508 - mae: 12.6508\n",
            "Epoch 172/500\n",
            "1/1 [==============================] - 0s 28ms/step - loss: 12.6463 - mae: 12.6463\n",
            "Epoch 173/500\n",
            "1/1 [==============================] - 0s 23ms/step - loss: 12.6418 - mae: 12.6418\n",
            "Epoch 174/500\n",
            "1/1 [==============================] - 0s 13ms/step - loss: 12.6373 - mae: 12.6373\n",
            "Epoch 175/500\n",
            "1/1 [==============================] - 0s 23ms/step - loss: 12.6328 - mae: 12.6328\n",
            "Epoch 176/500\n",
            "1/1 [==============================] - 0s 13ms/step - loss: 12.6283 - mae: 12.6283\n",
            "Epoch 177/500\n",
            "1/1 [==============================] - 0s 38ms/step - loss: 12.6238 - mae: 12.6238\n",
            "Epoch 178/500\n",
            "1/1 [==============================] - 0s 16ms/step - loss: 12.6193 - mae: 12.6193\n",
            "Epoch 179/500\n",
            "1/1 [==============================] - 0s 18ms/step - loss: 12.6148 - mae: 12.6148\n",
            "Epoch 180/500\n",
            "1/1 [==============================] - 0s 30ms/step - loss: 12.6103 - mae: 12.6103\n",
            "Epoch 181/500\n",
            "1/1 [==============================] - 0s 27ms/step - loss: 12.6058 - mae: 12.6058\n",
            "Epoch 182/500\n",
            "1/1 [==============================] - 0s 17ms/step - loss: 12.6013 - mae: 12.6013\n",
            "Epoch 183/500\n",
            "1/1 [==============================] - 0s 14ms/step - loss: 12.5968 - mae: 12.5968\n",
            "Epoch 184/500\n",
            "1/1 [==============================] - 0s 10ms/step - loss: 12.5923 - mae: 12.5923\n",
            "Epoch 185/500\n",
            "1/1 [==============================] - 0s 11ms/step - loss: 12.5878 - mae: 12.5878\n",
            "Epoch 186/500\n",
            "1/1 [==============================] - 0s 13ms/step - loss: 12.5833 - mae: 12.5833\n",
            "Epoch 187/500\n",
            "1/1 [==============================] - 0s 11ms/step - loss: 12.5788 - mae: 12.5788\n",
            "Epoch 188/500\n",
            "1/1 [==============================] - 0s 15ms/step - loss: 12.5743 - mae: 12.5743\n",
            "Epoch 189/500\n",
            "1/1 [==============================] - 0s 10ms/step - loss: 12.5698 - mae: 12.5698\n",
            "Epoch 190/500\n",
            "1/1 [==============================] - 0s 10ms/step - loss: 12.5653 - mae: 12.5653\n",
            "Epoch 191/500\n",
            "1/1 [==============================] - 0s 9ms/step - loss: 12.5608 - mae: 12.5608\n",
            "Epoch 192/500\n",
            "1/1 [==============================] - 0s 10ms/step - loss: 12.5563 - mae: 12.5563\n",
            "Epoch 193/500\n",
            "1/1 [==============================] - 0s 10ms/step - loss: 12.5518 - mae: 12.5518\n",
            "Epoch 194/500\n",
            "1/1 [==============================] - 0s 11ms/step - loss: 12.5473 - mae: 12.5473\n",
            "Epoch 195/500\n",
            "1/1 [==============================] - 0s 10ms/step - loss: 12.5428 - mae: 12.5428\n",
            "Epoch 196/500\n",
            "1/1 [==============================] - 0s 13ms/step - loss: 12.5383 - mae: 12.5383\n",
            "Epoch 197/500\n",
            "1/1 [==============================] - 0s 20ms/step - loss: 12.5338 - mae: 12.5338\n",
            "Epoch 198/500\n",
            "1/1 [==============================] - 0s 17ms/step - loss: 12.5293 - mae: 12.5293\n",
            "Epoch 199/500\n",
            "1/1 [==============================] - 0s 21ms/step - loss: 12.5248 - mae: 12.5248\n",
            "Epoch 200/500\n",
            "1/1 [==============================] - 0s 18ms/step - loss: 12.5203 - mae: 12.5203\n",
            "Epoch 201/500\n",
            "1/1 [==============================] - 0s 24ms/step - loss: 12.5158 - mae: 12.5158\n",
            "Epoch 202/500\n",
            "1/1 [==============================] - 0s 21ms/step - loss: 12.5113 - mae: 12.5113\n",
            "Epoch 203/500\n",
            "1/1 [==============================] - 0s 22ms/step - loss: 12.5068 - mae: 12.5068\n",
            "Epoch 204/500\n",
            "1/1 [==============================] - 0s 28ms/step - loss: 12.5023 - mae: 12.5023\n",
            "Epoch 205/500\n",
            "1/1 [==============================] - 0s 19ms/step - loss: 12.4978 - mae: 12.4978\n",
            "Epoch 206/500\n",
            "1/1 [==============================] - 0s 13ms/step - loss: 12.4933 - mae: 12.4933\n",
            "Epoch 207/500\n",
            "1/1 [==============================] - 0s 29ms/step - loss: 12.4888 - mae: 12.4888\n",
            "Epoch 208/500\n",
            "1/1 [==============================] - 0s 36ms/step - loss: 12.4843 - mae: 12.4843\n",
            "Epoch 209/500\n",
            "1/1 [==============================] - 0s 40ms/step - loss: 12.4798 - mae: 12.4798\n",
            "Epoch 210/500\n",
            "1/1 [==============================] - 0s 29ms/step - loss: 12.4753 - mae: 12.4753\n",
            "Epoch 211/500\n",
            "1/1 [==============================] - 0s 22ms/step - loss: 12.4708 - mae: 12.4708\n",
            "Epoch 212/500\n",
            "1/1 [==============================] - 0s 32ms/step - loss: 12.4663 - mae: 12.4663\n",
            "Epoch 213/500\n",
            "1/1 [==============================] - 0s 20ms/step - loss: 12.4618 - mae: 12.4618\n",
            "Epoch 214/500\n",
            "1/1 [==============================] - 0s 24ms/step - loss: 12.4573 - mae: 12.4573\n",
            "Epoch 215/500\n",
            "1/1 [==============================] - 0s 29ms/step - loss: 12.4528 - mae: 12.4528\n",
            "Epoch 216/500\n",
            "1/1 [==============================] - 0s 64ms/step - loss: 12.4483 - mae: 12.4483\n",
            "Epoch 217/500\n",
            "1/1 [==============================] - 0s 37ms/step - loss: 12.4438 - mae: 12.4438\n",
            "Epoch 218/500\n",
            "1/1 [==============================] - 0s 22ms/step - loss: 12.4393 - mae: 12.4393\n",
            "Epoch 219/500\n",
            "1/1 [==============================] - 0s 15ms/step - loss: 12.4348 - mae: 12.4348\n",
            "Epoch 220/500\n",
            "1/1 [==============================] - 0s 12ms/step - loss: 12.4303 - mae: 12.4303\n",
            "Epoch 221/500\n",
            "1/1 [==============================] - 0s 11ms/step - loss: 12.4258 - mae: 12.4258\n",
            "Epoch 222/500\n",
            "1/1 [==============================] - 0s 11ms/step - loss: 12.4213 - mae: 12.4213\n",
            "Epoch 223/500\n",
            "1/1 [==============================] - 0s 12ms/step - loss: 12.4168 - mae: 12.4168\n",
            "Epoch 224/500\n",
            "1/1 [==============================] - 0s 12ms/step - loss: 12.4123 - mae: 12.4123\n",
            "Epoch 225/500\n",
            "1/1 [==============================] - 0s 10ms/step - loss: 12.4078 - mae: 12.4078\n",
            "Epoch 226/500\n",
            "1/1 [==============================] - 0s 9ms/step - loss: 12.4033 - mae: 12.4033\n",
            "Epoch 227/500\n",
            "1/1 [==============================] - 0s 11ms/step - loss: 12.3988 - mae: 12.3988\n",
            "Epoch 228/500\n",
            "1/1 [==============================] - 0s 11ms/step - loss: 12.3943 - mae: 12.3943\n",
            "Epoch 229/500\n",
            "1/1 [==============================] - 0s 10ms/step - loss: 12.3898 - mae: 12.3898\n",
            "Epoch 230/500\n",
            "1/1 [==============================] - 0s 12ms/step - loss: 12.3853 - mae: 12.3853\n",
            "Epoch 231/500\n",
            "1/1 [==============================] - 0s 12ms/step - loss: 12.3808 - mae: 12.3808\n",
            "Epoch 232/500\n",
            "1/1 [==============================] - 0s 11ms/step - loss: 12.3763 - mae: 12.3763\n",
            "Epoch 233/500\n",
            "1/1 [==============================] - 0s 25ms/step - loss: 12.3718 - mae: 12.3718\n",
            "Epoch 234/500\n",
            "1/1 [==============================] - 0s 27ms/step - loss: 12.3673 - mae: 12.3673\n",
            "Epoch 235/500\n",
            "1/1 [==============================] - 0s 28ms/step - loss: 12.3628 - mae: 12.3628\n",
            "Epoch 236/500\n",
            "1/1 [==============================] - 0s 19ms/step - loss: 12.3583 - mae: 12.3583\n",
            "Epoch 237/500\n",
            "1/1 [==============================] - 0s 42ms/step - loss: 12.3538 - mae: 12.3538\n",
            "Epoch 238/500\n",
            "1/1 [==============================] - 0s 29ms/step - loss: 12.3493 - mae: 12.3493\n",
            "Epoch 239/500\n",
            "1/1 [==============================] - 0s 24ms/step - loss: 12.3448 - mae: 12.3448\n",
            "Epoch 240/500\n",
            "1/1 [==============================] - 0s 34ms/step - loss: 12.3403 - mae: 12.3403\n",
            "Epoch 241/500\n",
            "1/1 [==============================] - 0s 38ms/step - loss: 12.3358 - mae: 12.3358\n",
            "Epoch 242/500\n",
            "1/1 [==============================] - 0s 26ms/step - loss: 12.3313 - mae: 12.3313\n",
            "Epoch 243/500\n",
            "1/1 [==============================] - 0s 31ms/step - loss: 12.3268 - mae: 12.3268\n",
            "Epoch 244/500\n",
            "1/1 [==============================] - 0s 27ms/step - loss: 12.3223 - mae: 12.3223\n",
            "Epoch 245/500\n",
            "1/1 [==============================] - 0s 36ms/step - loss: 12.3178 - mae: 12.3178\n",
            "Epoch 246/500\n",
            "1/1 [==============================] - 0s 34ms/step - loss: 12.3133 - mae: 12.3133\n",
            "Epoch 247/500\n",
            "1/1 [==============================] - 0s 29ms/step - loss: 12.3088 - mae: 12.3088\n",
            "Epoch 248/500\n",
            "1/1 [==============================] - 0s 35ms/step - loss: 12.3043 - mae: 12.3043\n",
            "Epoch 249/500\n",
            "1/1 [==============================] - 0s 37ms/step - loss: 12.2998 - mae: 12.2998\n",
            "Epoch 250/500\n",
            "1/1 [==============================] - 0s 33ms/step - loss: 12.2953 - mae: 12.2953\n",
            "Epoch 251/500\n",
            "1/1 [==============================] - 0s 30ms/step - loss: 12.2908 - mae: 12.2908\n",
            "Epoch 252/500\n",
            "1/1 [==============================] - 0s 24ms/step - loss: 12.2863 - mae: 12.2863\n",
            "Epoch 253/500\n",
            "1/1 [==============================] - 0s 23ms/step - loss: 12.2818 - mae: 12.2818\n",
            "Epoch 254/500\n",
            "1/1 [==============================] - 0s 36ms/step - loss: 12.2773 - mae: 12.2773\n",
            "Epoch 255/500\n",
            "1/1 [==============================] - 0s 32ms/step - loss: 12.2728 - mae: 12.2728\n",
            "Epoch 256/500\n",
            "1/1 [==============================] - 0s 17ms/step - loss: 12.2683 - mae: 12.2683\n",
            "Epoch 257/500\n",
            "1/1 [==============================] - 0s 12ms/step - loss: 12.2638 - mae: 12.2638\n",
            "Epoch 258/500\n",
            "1/1 [==============================] - 0s 10ms/step - loss: 12.2593 - mae: 12.2593\n",
            "Epoch 259/500\n",
            "1/1 [==============================] - 0s 9ms/step - loss: 12.2548 - mae: 12.2548\n",
            "Epoch 260/500\n",
            "1/1 [==============================] - 0s 9ms/step - loss: 12.2503 - mae: 12.2503\n",
            "Epoch 261/500\n",
            "1/1 [==============================] - 0s 9ms/step - loss: 12.2458 - mae: 12.2458\n",
            "Epoch 262/500\n",
            "1/1 [==============================] - 0s 9ms/step - loss: 12.2413 - mae: 12.2413\n",
            "Epoch 263/500\n",
            "1/1 [==============================] - 0s 9ms/step - loss: 12.2368 - mae: 12.2368\n",
            "Epoch 264/500\n",
            "1/1 [==============================] - 0s 8ms/step - loss: 12.2323 - mae: 12.2323\n",
            "Epoch 265/500\n",
            "1/1 [==============================] - 0s 12ms/step - loss: 12.2278 - mae: 12.2278\n",
            "Epoch 266/500\n",
            "1/1 [==============================] - 0s 10ms/step - loss: 12.2233 - mae: 12.2233\n",
            "Epoch 267/500\n",
            "1/1 [==============================] - 0s 10ms/step - loss: 12.2188 - mae: 12.2188\n",
            "Epoch 268/500\n",
            "1/1 [==============================] - 0s 33ms/step - loss: 12.2143 - mae: 12.2143\n",
            "Epoch 269/500\n",
            "1/1 [==============================] - 0s 25ms/step - loss: 12.2098 - mae: 12.2098\n",
            "Epoch 270/500\n",
            "1/1 [==============================] - 0s 16ms/step - loss: 12.2053 - mae: 12.2053\n",
            "Epoch 271/500\n",
            "1/1 [==============================] - 0s 23ms/step - loss: 12.2008 - mae: 12.2008\n",
            "Epoch 272/500\n",
            "1/1 [==============================] - 0s 24ms/step - loss: 12.1963 - mae: 12.1963\n",
            "Epoch 273/500\n",
            "1/1 [==============================] - 0s 22ms/step - loss: 12.1918 - mae: 12.1918\n",
            "Epoch 274/500\n",
            "1/1 [==============================] - 0s 26ms/step - loss: 12.1873 - mae: 12.1873\n",
            "Epoch 275/500\n",
            "1/1 [==============================] - 0s 16ms/step - loss: 12.1828 - mae: 12.1828\n",
            "Epoch 276/500\n",
            "1/1 [==============================] - 0s 29ms/step - loss: 12.1783 - mae: 12.1783\n",
            "Epoch 277/500\n",
            "1/1 [==============================] - 0s 24ms/step - loss: 12.1738 - mae: 12.1738\n",
            "Epoch 278/500\n",
            "1/1 [==============================] - 0s 24ms/step - loss: 12.1693 - mae: 12.1693\n",
            "Epoch 279/500\n",
            "1/1 [==============================] - 0s 41ms/step - loss: 12.1648 - mae: 12.1648\n",
            "Epoch 280/500\n",
            "1/1 [==============================] - 0s 25ms/step - loss: 12.1603 - mae: 12.1603\n",
            "Epoch 281/500\n",
            "1/1 [==============================] - 0s 16ms/step - loss: 12.1558 - mae: 12.1558\n",
            "Epoch 282/500\n",
            "1/1 [==============================] - 0s 12ms/step - loss: 12.1513 - mae: 12.1513\n",
            "Epoch 283/500\n",
            "1/1 [==============================] - 0s 11ms/step - loss: 12.1468 - mae: 12.1468\n",
            "Epoch 284/500\n",
            "1/1 [==============================] - 0s 12ms/step - loss: 12.1423 - mae: 12.1423\n",
            "Epoch 285/500\n",
            "1/1 [==============================] - 0s 10ms/step - loss: 12.1378 - mae: 12.1378\n",
            "Epoch 286/500\n",
            "1/1 [==============================] - 0s 10ms/step - loss: 12.1333 - mae: 12.1333\n",
            "Epoch 287/500\n",
            "1/1 [==============================] - 0s 11ms/step - loss: 12.1288 - mae: 12.1288\n",
            "Epoch 288/500\n",
            "1/1 [==============================] - 0s 8ms/step - loss: 12.1243 - mae: 12.1243\n",
            "Epoch 289/500\n",
            "1/1 [==============================] - 0s 11ms/step - loss: 12.1198 - mae: 12.1198\n",
            "Epoch 290/500\n",
            "1/1 [==============================] - 0s 10ms/step - loss: 12.1153 - mae: 12.1153\n",
            "Epoch 291/500\n",
            "1/1 [==============================] - 0s 9ms/step - loss: 12.1108 - mae: 12.1108\n",
            "Epoch 292/500\n",
            "1/1 [==============================] - 0s 9ms/step - loss: 12.1063 - mae: 12.1063\n",
            "Epoch 293/500\n",
            "1/1 [==============================] - 0s 12ms/step - loss: 12.1018 - mae: 12.1018\n",
            "Epoch 294/500\n",
            "1/1 [==============================] - 0s 9ms/step - loss: 12.0973 - mae: 12.0973\n",
            "Epoch 295/500\n",
            "1/1 [==============================] - 0s 9ms/step - loss: 12.0928 - mae: 12.0928\n",
            "Epoch 296/500\n",
            "1/1 [==============================] - 0s 37ms/step - loss: 12.0883 - mae: 12.0883\n",
            "Epoch 297/500\n",
            "1/1 [==============================] - 0s 14ms/step - loss: 12.0838 - mae: 12.0838\n",
            "Epoch 298/500\n",
            "1/1 [==============================] - 0s 15ms/step - loss: 12.0793 - mae: 12.0793\n",
            "Epoch 299/500\n",
            "1/1 [==============================] - 0s 13ms/step - loss: 12.0748 - mae: 12.0748\n",
            "Epoch 300/500\n",
            "1/1 [==============================] - 0s 9ms/step - loss: 12.0703 - mae: 12.0703\n",
            "Epoch 301/500\n",
            "1/1 [==============================] - 0s 13ms/step - loss: 12.0658 - mae: 12.0658\n",
            "Epoch 302/500\n",
            "1/1 [==============================] - 0s 34ms/step - loss: 12.0613 - mae: 12.0613\n",
            "Epoch 303/500\n",
            "1/1 [==============================] - 0s 30ms/step - loss: 12.0568 - mae: 12.0568\n",
            "Epoch 304/500\n",
            "1/1 [==============================] - 0s 18ms/step - loss: 12.0523 - mae: 12.0523\n",
            "Epoch 305/500\n",
            "1/1 [==============================] - 0s 48ms/step - loss: 12.0478 - mae: 12.0478\n",
            "Epoch 306/500\n",
            "1/1 [==============================] - 0s 32ms/step - loss: 12.0433 - mae: 12.0433\n",
            "Epoch 307/500\n",
            "1/1 [==============================] - 0s 25ms/step - loss: 12.0388 - mae: 12.0388\n",
            "Epoch 308/500\n",
            "1/1 [==============================] - 0s 32ms/step - loss: 12.0343 - mae: 12.0343\n",
            "Epoch 309/500\n",
            "1/1 [==============================] - 0s 29ms/step - loss: 12.0298 - mae: 12.0298\n",
            "Epoch 310/500\n",
            "1/1 [==============================] - 0s 21ms/step - loss: 12.0253 - mae: 12.0253\n",
            "Epoch 311/500\n",
            "1/1 [==============================] - 0s 17ms/step - loss: 12.0208 - mae: 12.0208\n",
            "Epoch 312/500\n",
            "1/1 [==============================] - 0s 32ms/step - loss: 12.0163 - mae: 12.0163\n",
            "Epoch 313/500\n",
            "1/1 [==============================] - 0s 19ms/step - loss: 12.0118 - mae: 12.0118\n",
            "Epoch 314/500\n",
            "1/1 [==============================] - 0s 20ms/step - loss: 12.0073 - mae: 12.0073\n",
            "Epoch 315/500\n",
            "1/1 [==============================] - 0s 18ms/step - loss: 12.0028 - mae: 12.0028\n",
            "Epoch 316/500\n",
            "1/1 [==============================] - 0s 16ms/step - loss: 11.9983 - mae: 11.9983\n",
            "Epoch 317/500\n",
            "1/1 [==============================] - 0s 12ms/step - loss: 11.9938 - mae: 11.9938\n",
            "Epoch 318/500\n",
            "1/1 [==============================] - 0s 13ms/step - loss: 11.9893 - mae: 11.9893\n",
            "Epoch 319/500\n",
            "1/1 [==============================] - 0s 10ms/step - loss: 11.9848 - mae: 11.9848\n",
            "Epoch 320/500\n",
            "1/1 [==============================] - 0s 11ms/step - loss: 11.9803 - mae: 11.9803\n",
            "Epoch 321/500\n",
            "1/1 [==============================] - 0s 31ms/step - loss: 11.9758 - mae: 11.9758\n",
            "Epoch 322/500\n",
            "1/1 [==============================] - 0s 22ms/step - loss: 11.9713 - mae: 11.9713\n",
            "Epoch 323/500\n",
            "1/1 [==============================] - 0s 16ms/step - loss: 11.9668 - mae: 11.9668\n",
            "Epoch 324/500\n",
            "1/1 [==============================] - 0s 41ms/step - loss: 11.9623 - mae: 11.9623\n",
            "Epoch 325/500\n",
            "1/1 [==============================] - 0s 29ms/step - loss: 11.9578 - mae: 11.9578\n",
            "Epoch 326/500\n",
            "1/1 [==============================] - 0s 24ms/step - loss: 11.9533 - mae: 11.9533\n",
            "Epoch 327/500\n",
            "1/1 [==============================] - 0s 24ms/step - loss: 11.9488 - mae: 11.9488\n",
            "Epoch 328/500\n",
            "1/1 [==============================] - 0s 19ms/step - loss: 11.9443 - mae: 11.9443\n",
            "Epoch 329/500\n",
            "1/1 [==============================] - 0s 27ms/step - loss: 11.9398 - mae: 11.9398\n",
            "Epoch 330/500\n",
            "1/1 [==============================] - 0s 15ms/step - loss: 11.9353 - mae: 11.9353\n",
            "Epoch 331/500\n",
            "1/1 [==============================] - 0s 15ms/step - loss: 11.9308 - mae: 11.9308\n",
            "Epoch 332/500\n",
            "1/1 [==============================] - 0s 12ms/step - loss: 11.9263 - mae: 11.9263\n",
            "Epoch 333/500\n",
            "1/1 [==============================] - 0s 13ms/step - loss: 11.9218 - mae: 11.9218\n",
            "Epoch 334/500\n",
            "1/1 [==============================] - 0s 12ms/step - loss: 11.9173 - mae: 11.9173\n",
            "Epoch 335/500\n",
            "1/1 [==============================] - 0s 11ms/step - loss: 11.9128 - mae: 11.9128\n",
            "Epoch 336/500\n",
            "1/1 [==============================] - 0s 12ms/step - loss: 11.9083 - mae: 11.9083\n",
            "Epoch 337/500\n",
            "1/1 [==============================] - 0s 10ms/step - loss: 11.9038 - mae: 11.9038\n",
            "Epoch 338/500\n",
            "1/1 [==============================] - 0s 9ms/step - loss: 11.8993 - mae: 11.8993\n",
            "Epoch 339/500\n",
            "1/1 [==============================] - 0s 10ms/step - loss: 11.8948 - mae: 11.8948\n",
            "Epoch 340/500\n",
            "1/1 [==============================] - 0s 11ms/step - loss: 11.8903 - mae: 11.8903\n",
            "Epoch 341/500\n",
            "1/1 [==============================] - 0s 10ms/step - loss: 11.8858 - mae: 11.8858\n",
            "Epoch 342/500\n",
            "1/1 [==============================] - 0s 10ms/step - loss: 11.8813 - mae: 11.8813\n",
            "Epoch 343/500\n",
            "1/1 [==============================] - 0s 10ms/step - loss: 11.8768 - mae: 11.8768\n",
            "Epoch 344/500\n",
            "1/1 [==============================] - 0s 33ms/step - loss: 11.8723 - mae: 11.8723\n",
            "Epoch 345/500\n",
            "1/1 [==============================] - 0s 23ms/step - loss: 11.8678 - mae: 11.8678\n",
            "Epoch 346/500\n",
            "1/1 [==============================] - 0s 21ms/step - loss: 11.8633 - mae: 11.8633\n",
            "Epoch 347/500\n",
            "1/1 [==============================] - 0s 21ms/step - loss: 11.8588 - mae: 11.8588\n",
            "Epoch 348/500\n",
            "1/1 [==============================] - 0s 20ms/step - loss: 11.8543 - mae: 11.8543\n",
            "Epoch 349/500\n",
            "1/1 [==============================] - 0s 22ms/step - loss: 11.8498 - mae: 11.8498\n",
            "Epoch 350/500\n",
            "1/1 [==============================] - 0s 19ms/step - loss: 11.8453 - mae: 11.8453\n",
            "Epoch 351/500\n",
            "1/1 [==============================] - 0s 17ms/step - loss: 11.8408 - mae: 11.8408\n",
            "Epoch 352/500\n",
            "1/1 [==============================] - 0s 41ms/step - loss: 11.8363 - mae: 11.8363\n",
            "Epoch 353/500\n",
            "1/1 [==============================] - 0s 30ms/step - loss: 11.8318 - mae: 11.8318\n",
            "Epoch 354/500\n",
            "1/1 [==============================] - 0s 21ms/step - loss: 11.8273 - mae: 11.8273\n",
            "Epoch 355/500\n",
            "1/1 [==============================] - 0s 17ms/step - loss: 11.8228 - mae: 11.8228\n",
            "Epoch 356/500\n",
            "1/1 [==============================] - 0s 24ms/step - loss: 11.8183 - mae: 11.8183\n",
            "Epoch 357/500\n",
            "1/1 [==============================] - 0s 11ms/step - loss: 11.8138 - mae: 11.8138\n",
            "Epoch 358/500\n",
            "1/1 [==============================] - 0s 21ms/step - loss: 11.8093 - mae: 11.8093\n",
            "Epoch 359/500\n",
            "1/1 [==============================] - 0s 12ms/step - loss: 11.8048 - mae: 11.8048\n",
            "Epoch 360/500\n",
            "1/1 [==============================] - 0s 13ms/step - loss: 11.8003 - mae: 11.8003\n",
            "Epoch 361/500\n",
            "1/1 [==============================] - 0s 17ms/step - loss: 11.7958 - mae: 11.7958\n",
            "Epoch 362/500\n",
            "1/1 [==============================] - 0s 12ms/step - loss: 11.7913 - mae: 11.7913\n",
            "Epoch 363/500\n",
            "1/1 [==============================] - 0s 23ms/step - loss: 11.7868 - mae: 11.7868\n",
            "Epoch 364/500\n",
            "1/1 [==============================] - 0s 21ms/step - loss: 11.7823 - mae: 11.7823\n",
            "Epoch 365/500\n",
            "1/1 [==============================] - 0s 20ms/step - loss: 11.7778 - mae: 11.7778\n",
            "Epoch 366/500\n",
            "1/1 [==============================] - 0s 20ms/step - loss: 11.7733 - mae: 11.7733\n",
            "Epoch 367/500\n",
            "1/1 [==============================] - 0s 18ms/step - loss: 11.7688 - mae: 11.7688\n",
            "Epoch 368/500\n",
            "1/1 [==============================] - 0s 18ms/step - loss: 11.7643 - mae: 11.7643\n",
            "Epoch 369/500\n",
            "1/1 [==============================] - 0s 15ms/step - loss: 11.7598 - mae: 11.7598\n",
            "Epoch 370/500\n",
            "1/1 [==============================] - 0s 27ms/step - loss: 11.7553 - mae: 11.7553\n",
            "Epoch 371/500\n",
            "1/1 [==============================] - 0s 21ms/step - loss: 11.7508 - mae: 11.7508\n",
            "Epoch 372/500\n",
            "1/1 [==============================] - 0s 20ms/step - loss: 11.7463 - mae: 11.7463\n",
            "Epoch 373/500\n",
            "1/1 [==============================] - 0s 14ms/step - loss: 11.7418 - mae: 11.7418\n",
            "Epoch 374/500\n",
            "1/1 [==============================] - 0s 16ms/step - loss: 11.7373 - mae: 11.7373\n",
            "Epoch 375/500\n",
            "1/1 [==============================] - 0s 22ms/step - loss: 11.7328 - mae: 11.7328\n",
            "Epoch 376/500\n",
            "1/1 [==============================] - 0s 20ms/step - loss: 11.7283 - mae: 11.7283\n",
            "Epoch 377/500\n",
            "1/1 [==============================] - 0s 16ms/step - loss: 11.7238 - mae: 11.7238\n",
            "Epoch 378/500\n",
            "1/1 [==============================] - 0s 10ms/step - loss: 11.7193 - mae: 11.7193\n",
            "Epoch 379/500\n",
            "1/1 [==============================] - 0s 21ms/step - loss: 11.7148 - mae: 11.7148\n",
            "Epoch 380/500\n",
            "1/1 [==============================] - 0s 11ms/step - loss: 11.7103 - mae: 11.7103\n",
            "Epoch 381/500\n",
            "1/1 [==============================] - 0s 10ms/step - loss: 11.7058 - mae: 11.7058\n",
            "Epoch 382/500\n",
            "1/1 [==============================] - 0s 10ms/step - loss: 11.7013 - mae: 11.7013\n",
            "Epoch 383/500\n",
            "1/1 [==============================] - 0s 13ms/step - loss: 11.6968 - mae: 11.6968\n",
            "Epoch 384/500\n",
            "1/1 [==============================] - 0s 15ms/step - loss: 11.6923 - mae: 11.6923\n",
            "Epoch 385/500\n",
            "1/1 [==============================] - 0s 14ms/step - loss: 11.6878 - mae: 11.6878\n",
            "Epoch 386/500\n",
            "1/1 [==============================] - 0s 24ms/step - loss: 11.6833 - mae: 11.6833\n",
            "Epoch 387/500\n",
            "1/1 [==============================] - 0s 19ms/step - loss: 11.6788 - mae: 11.6788\n",
            "Epoch 388/500\n",
            "1/1 [==============================] - 0s 12ms/step - loss: 11.6743 - mae: 11.6743\n",
            "Epoch 389/500\n",
            "1/1 [==============================] - 0s 14ms/step - loss: 11.6698 - mae: 11.6698\n",
            "Epoch 390/500\n",
            "1/1 [==============================] - 0s 10ms/step - loss: 11.6653 - mae: 11.6653\n",
            "Epoch 391/500\n",
            "1/1 [==============================] - 0s 10ms/step - loss: 11.6608 - mae: 11.6608\n",
            "Epoch 392/500\n",
            "1/1 [==============================] - 0s 12ms/step - loss: 11.6563 - mae: 11.6563\n",
            "Epoch 393/500\n",
            "1/1 [==============================] - 0s 37ms/step - loss: 11.6518 - mae: 11.6518\n",
            "Epoch 394/500\n",
            "1/1 [==============================] - 0s 21ms/step - loss: 11.6473 - mae: 11.6473\n",
            "Epoch 395/500\n",
            "1/1 [==============================] - 0s 17ms/step - loss: 11.6428 - mae: 11.6428\n",
            "Epoch 396/500\n",
            "1/1 [==============================] - 0s 16ms/step - loss: 11.6383 - mae: 11.6383\n",
            "Epoch 397/500\n",
            "1/1 [==============================] - 0s 18ms/step - loss: 11.6338 - mae: 11.6338\n",
            "Epoch 398/500\n",
            "1/1 [==============================] - 0s 23ms/step - loss: 11.6293 - mae: 11.6293\n",
            "Epoch 399/500\n",
            "1/1 [==============================] - 0s 16ms/step - loss: 11.6248 - mae: 11.6248\n",
            "Epoch 400/500\n",
            "1/1 [==============================] - 0s 11ms/step - loss: 11.6203 - mae: 11.6203\n",
            "Epoch 401/500\n",
            "1/1 [==============================] - 0s 17ms/step - loss: 11.6158 - mae: 11.6158\n",
            "Epoch 402/500\n",
            "1/1 [==============================] - 0s 12ms/step - loss: 11.6113 - mae: 11.6113\n",
            "Epoch 403/500\n",
            "1/1 [==============================] - 0s 23ms/step - loss: 11.6068 - mae: 11.6068\n",
            "Epoch 404/500\n",
            "1/1 [==============================] - 0s 14ms/step - loss: 11.6023 - mae: 11.6023\n",
            "Epoch 405/500\n",
            "1/1 [==============================] - 0s 15ms/step - loss: 11.5978 - mae: 11.5978\n",
            "Epoch 406/500\n",
            "1/1 [==============================] - 0s 17ms/step - loss: 11.5933 - mae: 11.5933\n",
            "Epoch 407/500\n",
            "1/1 [==============================] - 0s 16ms/step - loss: 11.5888 - mae: 11.5888\n",
            "Epoch 408/500\n",
            "1/1 [==============================] - 0s 17ms/step - loss: 11.5843 - mae: 11.5843\n",
            "Epoch 409/500\n",
            "1/1 [==============================] - 0s 17ms/step - loss: 11.5798 - mae: 11.5798\n",
            "Epoch 410/500\n",
            "1/1 [==============================] - 0s 17ms/step - loss: 11.5753 - mae: 11.5753\n",
            "Epoch 411/500\n",
            "1/1 [==============================] - 0s 16ms/step - loss: 11.5708 - mae: 11.5708\n",
            "Epoch 412/500\n",
            "1/1 [==============================] - 0s 14ms/step - loss: 11.5663 - mae: 11.5663\n",
            "Epoch 413/500\n",
            "1/1 [==============================] - 0s 12ms/step - loss: 11.5618 - mae: 11.5618\n",
            "Epoch 414/500\n",
            "1/1 [==============================] - 0s 28ms/step - loss: 11.5573 - mae: 11.5573\n",
            "Epoch 415/500\n",
            "1/1 [==============================] - 0s 22ms/step - loss: 11.5528 - mae: 11.5528\n",
            "Epoch 416/500\n",
            "1/1 [==============================] - 0s 24ms/step - loss: 11.5483 - mae: 11.5483\n",
            "Epoch 417/500\n",
            "1/1 [==============================] - 0s 19ms/step - loss: 11.5438 - mae: 11.5438\n",
            "Epoch 418/500\n",
            "1/1 [==============================] - 0s 12ms/step - loss: 11.5393 - mae: 11.5393\n",
            "Epoch 419/500\n",
            "1/1 [==============================] - 0s 14ms/step - loss: 11.5348 - mae: 11.5348\n",
            "Epoch 420/500\n",
            "1/1 [==============================] - 0s 23ms/step - loss: 11.5303 - mae: 11.5303\n",
            "Epoch 421/500\n",
            "1/1 [==============================] - 0s 9ms/step - loss: 11.5258 - mae: 11.5258\n",
            "Epoch 422/500\n",
            "1/1 [==============================] - 0s 15ms/step - loss: 11.5213 - mae: 11.5213\n",
            "Epoch 423/500\n",
            "1/1 [==============================] - 0s 13ms/step - loss: 11.5168 - mae: 11.5168\n",
            "Epoch 424/500\n",
            "1/1 [==============================] - 0s 26ms/step - loss: 11.5123 - mae: 11.5123\n",
            "Epoch 425/500\n",
            "1/1 [==============================] - 0s 14ms/step - loss: 11.5078 - mae: 11.5078\n",
            "Epoch 426/500\n",
            "1/1 [==============================] - 0s 25ms/step - loss: 11.5033 - mae: 11.5033\n",
            "Epoch 427/500\n",
            "1/1 [==============================] - 0s 32ms/step - loss: 11.4988 - mae: 11.4988\n",
            "Epoch 428/500\n",
            "1/1 [==============================] - 0s 17ms/step - loss: 11.4943 - mae: 11.4943\n",
            "Epoch 429/500\n",
            "1/1 [==============================] - 0s 56ms/step - loss: 11.4898 - mae: 11.4898\n",
            "Epoch 430/500\n",
            "1/1 [==============================] - 0s 30ms/step - loss: 11.4853 - mae: 11.4853\n",
            "Epoch 431/500\n",
            "1/1 [==============================] - 0s 22ms/step - loss: 11.4808 - mae: 11.4808\n",
            "Epoch 432/500\n",
            "1/1 [==============================] - 0s 22ms/step - loss: 11.4763 - mae: 11.4763\n",
            "Epoch 433/500\n",
            "1/1 [==============================] - 0s 14ms/step - loss: 11.4718 - mae: 11.4718\n",
            "Epoch 434/500\n",
            "1/1 [==============================] - 0s 21ms/step - loss: 11.4673 - mae: 11.4673\n",
            "Epoch 435/500\n",
            "1/1 [==============================] - 0s 23ms/step - loss: 11.4628 - mae: 11.4628\n",
            "Epoch 436/500\n",
            "1/1 [==============================] - 0s 38ms/step - loss: 11.4583 - mae: 11.4583\n",
            "Epoch 437/500\n",
            "1/1 [==============================] - 0s 28ms/step - loss: 11.4538 - mae: 11.4538\n",
            "Epoch 438/500\n",
            "1/1 [==============================] - 0s 13ms/step - loss: 11.4493 - mae: 11.4493\n",
            "Epoch 439/500\n",
            "1/1 [==============================] - 0s 12ms/step - loss: 11.4448 - mae: 11.4448\n",
            "Epoch 440/500\n",
            "1/1 [==============================] - 0s 11ms/step - loss: 11.4403 - mae: 11.4403\n",
            "Epoch 441/500\n",
            "1/1 [==============================] - 0s 10ms/step - loss: 11.4358 - mae: 11.4358\n",
            "Epoch 442/500\n",
            "1/1 [==============================] - 0s 10ms/step - loss: 11.4313 - mae: 11.4313\n",
            "Epoch 443/500\n",
            "1/1 [==============================] - 0s 12ms/step - loss: 11.4268 - mae: 11.4268\n",
            "Epoch 444/500\n",
            "1/1 [==============================] - 0s 9ms/step - loss: 11.4223 - mae: 11.4223\n",
            "Epoch 445/500\n",
            "1/1 [==============================] - 0s 11ms/step - loss: 11.4178 - mae: 11.4178\n",
            "Epoch 446/500\n",
            "1/1 [==============================] - 0s 10ms/step - loss: 11.4133 - mae: 11.4133\n",
            "Epoch 447/500\n",
            "1/1 [==============================] - 0s 10ms/step - loss: 11.4088 - mae: 11.4088\n",
            "Epoch 448/500\n",
            "1/1 [==============================] - 0s 13ms/step - loss: 11.4043 - mae: 11.4043\n",
            "Epoch 449/500\n",
            "1/1 [==============================] - 0s 10ms/step - loss: 11.3998 - mae: 11.3998\n",
            "Epoch 450/500\n",
            "1/1 [==============================] - 0s 28ms/step - loss: 11.3953 - mae: 11.3953\n",
            "Epoch 451/500\n",
            "1/1 [==============================] - 0s 12ms/step - loss: 11.3908 - mae: 11.3908\n",
            "Epoch 452/500\n",
            "1/1 [==============================] - 0s 23ms/step - loss: 11.3863 - mae: 11.3863\n",
            "Epoch 453/500\n",
            "1/1 [==============================] - 0s 15ms/step - loss: 11.3818 - mae: 11.3818\n",
            "Epoch 454/500\n",
            "1/1 [==============================] - 0s 26ms/step - loss: 11.3773 - mae: 11.3773\n",
            "Epoch 455/500\n",
            "1/1 [==============================] - 0s 14ms/step - loss: 11.3728 - mae: 11.3728\n",
            "Epoch 456/500\n",
            "1/1 [==============================] - 0s 13ms/step - loss: 11.3683 - mae: 11.3683\n",
            "Epoch 457/500\n",
            "1/1 [==============================] - 0s 20ms/step - loss: 11.3638 - mae: 11.3638\n",
            "Epoch 458/500\n",
            "1/1 [==============================] - 0s 17ms/step - loss: 11.3593 - mae: 11.3593\n",
            "Epoch 459/500\n",
            "1/1 [==============================] - 0s 14ms/step - loss: 11.3548 - mae: 11.3548\n",
            "Epoch 460/500\n",
            "1/1 [==============================] - 0s 15ms/step - loss: 11.3503 - mae: 11.3503\n",
            "Epoch 461/500\n",
            "1/1 [==============================] - 0s 18ms/step - loss: 11.3458 - mae: 11.3458\n",
            "Epoch 462/500\n",
            "1/1 [==============================] - 0s 10ms/step - loss: 11.3413 - mae: 11.3413\n",
            "Epoch 463/500\n",
            "1/1 [==============================] - 0s 16ms/step - loss: 11.3368 - mae: 11.3368\n",
            "Epoch 464/500\n",
            "1/1 [==============================] - 0s 14ms/step - loss: 11.3323 - mae: 11.3323\n",
            "Epoch 465/500\n",
            "1/1 [==============================] - 0s 19ms/step - loss: 11.3278 - mae: 11.3278\n",
            "Epoch 466/500\n",
            "1/1 [==============================] - 0s 14ms/step - loss: 11.3233 - mae: 11.3233\n",
            "Epoch 467/500\n",
            "1/1 [==============================] - 0s 11ms/step - loss: 11.3188 - mae: 11.3188\n",
            "Epoch 468/500\n",
            "1/1 [==============================] - 0s 11ms/step - loss: 11.3143 - mae: 11.3143\n",
            "Epoch 469/500\n",
            "1/1 [==============================] - 0s 9ms/step - loss: 11.3098 - mae: 11.3098\n",
            "Epoch 470/500\n",
            "1/1 [==============================] - 0s 9ms/step - loss: 11.3053 - mae: 11.3053\n",
            "Epoch 471/500\n",
            "1/1 [==============================] - 0s 9ms/step - loss: 11.3008 - mae: 11.3008\n",
            "Epoch 472/500\n",
            "1/1 [==============================] - 0s 12ms/step - loss: 11.2963 - mae: 11.2963\n",
            "Epoch 473/500\n",
            "1/1 [==============================] - 0s 8ms/step - loss: 11.2918 - mae: 11.2918\n",
            "Epoch 474/500\n",
            "1/1 [==============================] - 0s 9ms/step - loss: 11.2873 - mae: 11.2873\n",
            "Epoch 475/500\n",
            "1/1 [==============================] - 0s 33ms/step - loss: 11.2828 - mae: 11.2828\n",
            "Epoch 476/500\n",
            "1/1 [==============================] - 0s 42ms/step - loss: 11.2783 - mae: 11.2783\n",
            "Epoch 477/500\n",
            "1/1 [==============================] - 0s 20ms/step - loss: 11.2738 - mae: 11.2738\n",
            "Epoch 478/500\n",
            "1/1 [==============================] - 0s 20ms/step - loss: 11.2693 - mae: 11.2693\n",
            "Epoch 479/500\n",
            "1/1 [==============================] - 0s 23ms/step - loss: 11.2648 - mae: 11.2648\n",
            "Epoch 480/500\n",
            "1/1 [==============================] - 0s 24ms/step - loss: 11.2603 - mae: 11.2603\n",
            "Epoch 481/500\n",
            "1/1 [==============================] - 0s 25ms/step - loss: 11.2558 - mae: 11.2558\n",
            "Epoch 482/500\n",
            "1/1 [==============================] - 0s 31ms/step - loss: 11.2513 - mae: 11.2513\n",
            "Epoch 483/500\n",
            "1/1 [==============================] - 0s 42ms/step - loss: 11.2468 - mae: 11.2468\n",
            "Epoch 484/500\n",
            "1/1 [==============================] - 0s 16ms/step - loss: 11.2423 - mae: 11.2423\n",
            "Epoch 485/500\n",
            "1/1 [==============================] - 0s 14ms/step - loss: 11.2378 - mae: 11.2378\n",
            "Epoch 486/500\n",
            "1/1 [==============================] - 0s 19ms/step - loss: 11.2333 - mae: 11.2333\n",
            "Epoch 487/500\n",
            "1/1 [==============================] - 0s 15ms/step - loss: 11.2288 - mae: 11.2288\n",
            "Epoch 488/500\n",
            "1/1 [==============================] - 0s 11ms/step - loss: 11.2243 - mae: 11.2243\n",
            "Epoch 489/500\n",
            "1/1 [==============================] - 0s 11ms/step - loss: 11.2198 - mae: 11.2198\n",
            "Epoch 490/500\n",
            "1/1 [==============================] - 0s 20ms/step - loss: 11.2153 - mae: 11.2153\n",
            "Epoch 491/500\n",
            "1/1 [==============================] - 0s 16ms/step - loss: 11.2108 - mae: 11.2108\n",
            "Epoch 492/500\n",
            "1/1 [==============================] - 0s 9ms/step - loss: 11.2063 - mae: 11.2063\n",
            "Epoch 493/500\n",
            "1/1 [==============================] - 0s 8ms/step - loss: 11.2018 - mae: 11.2018\n",
            "Epoch 494/500\n",
            "1/1 [==============================] - 0s 9ms/step - loss: 11.1973 - mae: 11.1973\n",
            "Epoch 495/500\n",
            "1/1 [==============================] - 0s 12ms/step - loss: 11.1928 - mae: 11.1928\n",
            "Epoch 496/500\n",
            "1/1 [==============================] - 0s 9ms/step - loss: 11.1883 - mae: 11.1883\n",
            "Epoch 497/500\n",
            "1/1 [==============================] - 0s 10ms/step - loss: 11.1838 - mae: 11.1838\n",
            "Epoch 498/500\n",
            "1/1 [==============================] - 0s 18ms/step - loss: 11.1793 - mae: 11.1793\n",
            "Epoch 499/500\n",
            "1/1 [==============================] - 0s 18ms/step - loss: 11.1748 - mae: 11.1748\n",
            "Epoch 500/500\n",
            "1/1 [==============================] - 0s 14ms/step - loss: 11.1703 - mae: 11.1703\n"
          ]
        },
        {
          "output_type": "execute_result",
          "data": {
            "text/plain": [
              "<keras.src.callbacks.History at 0x79681b9b6710>"
            ]
          },
          "metadata": {},
          "execution_count": 16
        }
      ]
    },
    {
      "cell_type": "code",
      "source": [
        "model.predict([17.0])"
      ],
      "metadata": {
        "colab": {
          "base_uri": "https://localhost:8080/"
        },
        "id": "oGlPqZSVmEGW",
        "outputId": "3022f0c5-4bd4-468d-b8ab-a3dbf0616021"
      },
      "execution_count": 17,
      "outputs": [
        {
          "output_type": "stream",
          "name": "stdout",
          "text": [
            "1/1 [==============================] - 0s 229ms/step\n"
          ]
        },
        {
          "output_type": "execute_result",
          "data": {
            "text/plain": [
              "array([[9.409022]], dtype=float32)"
            ]
          },
          "metadata": {},
          "execution_count": 17
        }
      ]
    },
    {
      "cell_type": "code",
      "source": [
        "# Set random.set_seed\n",
        "tf.random.set_seed(42)\n",
        "\n",
        "# 1. Create a model using the Sequential API\n",
        "model = tf.keras.Sequential([\n",
        "    tf.keras.layers.Dense(100,activation=\"relu\"),\n",
        "    tf.keras.layers.Dense(100,activation=\"relu\"),\n",
        "    tf.keras.layers.Dense(100,activation=\"relu\"),\n",
        "    tf.keras.layers.Dense(1)\n",
        "])\n",
        "\n",
        "# 2. Compile the model\n",
        "model.compile(loss=tf.keras.losses.mae, # mae = mean absulate error\n",
        "              optimizer=tf.keras.optimizers.SGD(), # sgd is short for stochachastic greadent descent\n",
        "              metrics=[\"mae\"])\n",
        "# 3. fit the model\n",
        "model.fit(tf.expand_dims(X,axis=-1), Y, epochs=50)"
      ],
      "metadata": {
        "id": "Tkr2OWzCmb56",
        "colab": {
          "base_uri": "https://localhost:8080/"
        },
        "outputId": "484ed522-1f26-4e35-e55d-1abe1fa47bf6"
      },
      "execution_count": 18,
      "outputs": [
        {
          "output_type": "stream",
          "name": "stdout",
          "text": [
            "Epoch 1/50\n",
            "1/1 [==============================] - 2s 2s/step - loss: 13.3037 - mae: 13.3037\n",
            "Epoch 2/50\n",
            "1/1 [==============================] - 0s 15ms/step - loss: 12.9517 - mae: 12.9517\n",
            "Epoch 3/50\n",
            "1/1 [==============================] - 0s 15ms/step - loss: 12.5965 - mae: 12.5965\n",
            "Epoch 4/50\n",
            "1/1 [==============================] - 0s 15ms/step - loss: 12.2151 - mae: 12.2151\n",
            "Epoch 5/50\n",
            "1/1 [==============================] - 0s 14ms/step - loss: 11.7902 - mae: 11.7902\n",
            "Epoch 6/50\n",
            "1/1 [==============================] - 0s 12ms/step - loss: 11.3148 - mae: 11.3148\n",
            "Epoch 7/50\n",
            "1/1 [==============================] - 0s 13ms/step - loss: 10.7557 - mae: 10.7557\n",
            "Epoch 8/50\n",
            "1/1 [==============================] - 0s 16ms/step - loss: 10.0738 - mae: 10.0738\n",
            "Epoch 9/50\n",
            "1/1 [==============================] - 0s 22ms/step - loss: 9.2059 - mae: 9.2059\n",
            "Epoch 10/50\n",
            "1/1 [==============================] - 0s 14ms/step - loss: 8.0793 - mae: 8.0793\n",
            "Epoch 11/50\n",
            "1/1 [==============================] - 0s 14ms/step - loss: 6.5836 - mae: 6.5836\n",
            "Epoch 12/50\n",
            "1/1 [==============================] - 0s 16ms/step - loss: 4.5607 - mae: 4.5607\n",
            "Epoch 13/50\n",
            "1/1 [==============================] - 0s 13ms/step - loss: 4.1916 - mae: 4.1916\n",
            "Epoch 14/50\n",
            "1/1 [==============================] - 0s 12ms/step - loss: 3.9704 - mae: 3.9704\n",
            "Epoch 15/50\n",
            "1/1 [==============================] - 0s 11ms/step - loss: 3.9368 - mae: 3.9368\n",
            "Epoch 16/50\n",
            "1/1 [==============================] - 0s 16ms/step - loss: 3.9841 - mae: 3.9841\n",
            "Epoch 17/50\n",
            "1/1 [==============================] - 0s 13ms/step - loss: 3.8869 - mae: 3.8869\n",
            "Epoch 18/50\n",
            "1/1 [==============================] - 0s 22ms/step - loss: 3.9993 - mae: 3.9993\n",
            "Epoch 19/50\n",
            "1/1 [==============================] - 0s 12ms/step - loss: 3.8349 - mae: 3.8349\n",
            "Epoch 20/50\n",
            "1/1 [==============================] - 0s 17ms/step - loss: 4.0154 - mae: 4.0154\n",
            "Epoch 21/50\n",
            "1/1 [==============================] - 0s 15ms/step - loss: 3.8222 - mae: 3.8222\n",
            "Epoch 22/50\n",
            "1/1 [==============================] - 0s 20ms/step - loss: 3.9708 - mae: 3.9708\n",
            "Epoch 23/50\n",
            "1/1 [==============================] - 0s 14ms/step - loss: 3.8614 - mae: 3.8614\n",
            "Epoch 24/50\n",
            "1/1 [==============================] - 0s 12ms/step - loss: 3.9189 - mae: 3.9189\n",
            "Epoch 25/50\n",
            "1/1 [==============================] - 0s 11ms/step - loss: 3.8779 - mae: 3.8779\n",
            "Epoch 26/50\n",
            "1/1 [==============================] - 0s 11ms/step - loss: 3.8655 - mae: 3.8655\n",
            "Epoch 27/50\n",
            "1/1 [==============================] - 0s 21ms/step - loss: 3.8961 - mae: 3.8961\n",
            "Epoch 28/50\n",
            "1/1 [==============================] - 0s 14ms/step - loss: 3.8099 - mae: 3.8099\n",
            "Epoch 29/50\n",
            "1/1 [==============================] - 0s 14ms/step - loss: 3.9153 - mae: 3.9153\n",
            "Epoch 30/50\n",
            "1/1 [==============================] - 0s 14ms/step - loss: 3.7601 - mae: 3.7601\n",
            "Epoch 31/50\n",
            "1/1 [==============================] - 0s 13ms/step - loss: 3.9698 - mae: 3.9698\n",
            "Epoch 32/50\n",
            "1/1 [==============================] - 0s 12ms/step - loss: 3.7678 - mae: 3.7678\n",
            "Epoch 33/50\n",
            "1/1 [==============================] - 0s 12ms/step - loss: 3.8839 - mae: 3.8839\n",
            "Epoch 34/50\n",
            "1/1 [==============================] - 0s 12ms/step - loss: 3.7871 - mae: 3.7871\n",
            "Epoch 35/50\n",
            "1/1 [==============================] - 0s 12ms/step - loss: 3.8259 - mae: 3.8259\n",
            "Epoch 36/50\n",
            "1/1 [==============================] - 0s 13ms/step - loss: 3.8089 - mae: 3.8089\n",
            "Epoch 37/50\n",
            "1/1 [==============================] - 0s 11ms/step - loss: 3.7654 - mae: 3.7654\n",
            "Epoch 38/50\n",
            "1/1 [==============================] - 0s 12ms/step - loss: 3.8311 - mae: 3.8311\n",
            "Epoch 39/50\n",
            "1/1 [==============================] - 0s 12ms/step - loss: 3.7031 - mae: 3.7031\n",
            "Epoch 40/50\n",
            "1/1 [==============================] - 0s 17ms/step - loss: 3.8550 - mae: 3.8550\n",
            "Epoch 41/50\n",
            "1/1 [==============================] - 0s 15ms/step - loss: 3.6712 - mae: 3.6712\n",
            "Epoch 42/50\n",
            "1/1 [==============================] - 0s 11ms/step - loss: 3.8224 - mae: 3.8224\n",
            "Epoch 43/50\n",
            "1/1 [==============================] - 0s 14ms/step - loss: 3.7191 - mae: 3.7191\n",
            "Epoch 44/50\n",
            "1/1 [==============================] - 0s 16ms/step - loss: 3.7585 - mae: 3.7585\n",
            "Epoch 45/50\n",
            "1/1 [==============================] - 0s 16ms/step - loss: 3.7427 - mae: 3.7427\n",
            "Epoch 46/50\n",
            "1/1 [==============================] - 0s 15ms/step - loss: 3.6927 - mae: 3.6927\n",
            "Epoch 47/50\n",
            "1/1 [==============================] - 0s 16ms/step - loss: 3.7678 - mae: 3.7678\n",
            "Epoch 48/50\n",
            "1/1 [==============================] - 0s 15ms/step - loss: 3.6246 - mae: 3.6246\n",
            "Epoch 49/50\n",
            "1/1 [==============================] - 0s 17ms/step - loss: 3.7941 - mae: 3.7941\n",
            "Epoch 50/50\n",
            "1/1 [==============================] - 0s 16ms/step - loss: 3.6040 - mae: 3.6040\n"
          ]
        },
        {
          "output_type": "execute_result",
          "data": {
            "text/plain": [
              "<keras.src.callbacks.History at 0x796803f745e0>"
            ]
          },
          "metadata": {},
          "execution_count": 18
        }
      ]
    },
    {
      "cell_type": "code",
      "source": [
        "# model\n",
        "\n",
        "# 1 creating the model\n",
        "model = tf.keras.Sequential([\n",
        "    tf.keras.layers.Dense(100,activation=\"relu\"),\n",
        "    tf.keras.layers.Dense(100,activation=\"relu\"),\n",
        "    tf.keras.layers.Dense(100,activation=\"relu\"),\n",
        "    tf.keras.layers.Dense(1)\n",
        "])\n",
        "\n",
        "# fitting the model\n",
        "model.compile(loss=tf.keras.losses.mae,\n",
        "              optimizer=tf.keras.optimizers.Adam(),\n",
        "              metrics = [\"mae\"])\n",
        "\n",
        "model.fit(tf.expand_dims(X,axis=-1), Y, epochs=100)"
      ],
      "metadata": {
        "colab": {
          "base_uri": "https://localhost:8080/"
        },
        "id": "-U6aKN1TOEXo",
        "outputId": "0a84ce4d-eefb-459f-f1d8-2a2be5a4807e"
      },
      "execution_count": 19,
      "outputs": [
        {
          "output_type": "stream",
          "name": "stdout",
          "text": [
            "Epoch 1/100\n",
            "1/1 [==============================] - 2s 2s/step - loss: 13.5133 - mae: 13.5133\n",
            "Epoch 2/100\n",
            "1/1 [==============================] - 0s 10ms/step - loss: 13.2042 - mae: 13.2042\n",
            "Epoch 3/100\n",
            "1/1 [==============================] - 0s 11ms/step - loss: 12.9259 - mae: 12.9259\n",
            "Epoch 4/100\n",
            "1/1 [==============================] - 0s 11ms/step - loss: 12.6609 - mae: 12.6609\n",
            "Epoch 5/100\n",
            "1/1 [==============================] - 0s 18ms/step - loss: 12.4019 - mae: 12.4019\n",
            "Epoch 6/100\n",
            "1/1 [==============================] - 0s 10ms/step - loss: 12.1517 - mae: 12.1517\n",
            "Epoch 7/100\n",
            "1/1 [==============================] - 0s 10ms/step - loss: 11.8951 - mae: 11.8951\n",
            "Epoch 8/100\n",
            "1/1 [==============================] - 0s 10ms/step - loss: 11.6281 - mae: 11.6281\n",
            "Epoch 9/100\n",
            "1/1 [==============================] - 0s 10ms/step - loss: 11.3529 - mae: 11.3529\n",
            "Epoch 10/100\n",
            "1/1 [==============================] - 0s 10ms/step - loss: 11.0641 - mae: 11.0641\n",
            "Epoch 11/100\n",
            "1/1 [==============================] - 0s 10ms/step - loss: 10.7541 - mae: 10.7541\n",
            "Epoch 12/100\n",
            "1/1 [==============================] - 0s 10ms/step - loss: 10.4289 - mae: 10.4289\n",
            "Epoch 13/100\n",
            "1/1 [==============================] - 0s 10ms/step - loss: 10.0898 - mae: 10.0898\n",
            "Epoch 14/100\n",
            "1/1 [==============================] - 0s 11ms/step - loss: 9.7319 - mae: 9.7319\n",
            "Epoch 15/100\n",
            "1/1 [==============================] - 0s 9ms/step - loss: 9.3534 - mae: 9.3534\n",
            "Epoch 16/100\n",
            "1/1 [==============================] - 0s 11ms/step - loss: 8.9544 - mae: 8.9544\n",
            "Epoch 17/100\n",
            "1/1 [==============================] - 0s 10ms/step - loss: 8.5526 - mae: 8.5526\n",
            "Epoch 18/100\n",
            "1/1 [==============================] - 0s 11ms/step - loss: 8.1810 - mae: 8.1810\n",
            "Epoch 19/100\n",
            "1/1 [==============================] - 0s 10ms/step - loss: 7.7893 - mae: 7.7893\n",
            "Epoch 20/100\n",
            "1/1 [==============================] - 0s 10ms/step - loss: 7.3878 - mae: 7.3878\n",
            "Epoch 21/100\n",
            "1/1 [==============================] - 0s 10ms/step - loss: 6.9611 - mae: 6.9611\n",
            "Epoch 22/100\n",
            "1/1 [==============================] - 0s 10ms/step - loss: 6.5069 - mae: 6.5069\n",
            "Epoch 23/100\n",
            "1/1 [==============================] - 0s 9ms/step - loss: 6.0253 - mae: 6.0253\n",
            "Epoch 24/100\n",
            "1/1 [==============================] - 0s 10ms/step - loss: 5.5135 - mae: 5.5135\n",
            "Epoch 25/100\n",
            "1/1 [==============================] - 0s 10ms/step - loss: 4.9706 - mae: 4.9706\n",
            "Epoch 26/100\n",
            "1/1 [==============================] - 0s 9ms/step - loss: 4.3940 - mae: 4.3940\n",
            "Epoch 27/100\n",
            "1/1 [==============================] - 0s 10ms/step - loss: 4.0572 - mae: 4.0572\n",
            "Epoch 28/100\n",
            "1/1 [==============================] - 0s 11ms/step - loss: 3.9069 - mae: 3.9069\n",
            "Epoch 29/100\n",
            "1/1 [==============================] - 0s 10ms/step - loss: 4.0334 - mae: 4.0334\n",
            "Epoch 30/100\n",
            "1/1 [==============================] - 0s 10ms/step - loss: 4.1437 - mae: 4.1437\n",
            "Epoch 31/100\n",
            "1/1 [==============================] - 0s 10ms/step - loss: 4.2382 - mae: 4.2382\n",
            "Epoch 32/100\n",
            "1/1 [==============================] - 0s 14ms/step - loss: 4.4315 - mae: 4.4315\n",
            "Epoch 33/100\n",
            "1/1 [==============================] - 0s 10ms/step - loss: 4.5725 - mae: 4.5725\n",
            "Epoch 34/100\n",
            "1/1 [==============================] - 0s 10ms/step - loss: 4.6394 - mae: 4.6394\n",
            "Epoch 35/100\n",
            "1/1 [==============================] - 0s 9ms/step - loss: 4.6425 - mae: 4.6425\n",
            "Epoch 36/100\n",
            "1/1 [==============================] - 0s 10ms/step - loss: 4.5885 - mae: 4.5885\n",
            "Epoch 37/100\n",
            "1/1 [==============================] - 0s 10ms/step - loss: 4.4863 - mae: 4.4863\n",
            "Epoch 38/100\n",
            "1/1 [==============================] - 0s 10ms/step - loss: 4.3449 - mae: 4.3449\n",
            "Epoch 39/100\n",
            "1/1 [==============================] - 0s 10ms/step - loss: 4.1849 - mae: 4.1849\n",
            "Epoch 40/100\n",
            "1/1 [==============================] - 0s 10ms/step - loss: 4.1154 - mae: 4.1154\n",
            "Epoch 41/100\n",
            "1/1 [==============================] - 0s 15ms/step - loss: 4.0459 - mae: 4.0459\n",
            "Epoch 42/100\n",
            "1/1 [==============================] - 0s 10ms/step - loss: 3.9767 - mae: 3.9767\n",
            "Epoch 43/100\n",
            "1/1 [==============================] - 0s 10ms/step - loss: 3.9080 - mae: 3.9080\n",
            "Epoch 44/100\n",
            "1/1 [==============================] - 0s 15ms/step - loss: 3.8399 - mae: 3.8399\n",
            "Epoch 45/100\n",
            "1/1 [==============================] - 0s 12ms/step - loss: 3.7732 - mae: 3.7732\n",
            "Epoch 46/100\n",
            "1/1 [==============================] - 0s 10ms/step - loss: 3.8300 - mae: 3.8300\n",
            "Epoch 47/100\n",
            "1/1 [==============================] - 0s 10ms/step - loss: 3.8789 - mae: 3.8789\n",
            "Epoch 48/100\n",
            "1/1 [==============================] - 0s 11ms/step - loss: 3.9119 - mae: 3.9119\n",
            "Epoch 49/100\n",
            "1/1 [==============================] - 0s 11ms/step - loss: 3.9309 - mae: 3.9309\n",
            "Epoch 50/100\n",
            "1/1 [==============================] - 0s 11ms/step - loss: 3.9377 - mae: 3.9377\n",
            "Epoch 51/100\n",
            "1/1 [==============================] - 0s 11ms/step - loss: 3.9338 - mae: 3.9338\n",
            "Epoch 52/100\n",
            "1/1 [==============================] - 0s 12ms/step - loss: 3.9196 - mae: 3.9196\n",
            "Epoch 53/100\n",
            "1/1 [==============================] - 0s 11ms/step - loss: 3.8964 - mae: 3.8964\n",
            "Epoch 54/100\n",
            "1/1 [==============================] - 0s 11ms/step - loss: 3.8645 - mae: 3.8645\n",
            "Epoch 55/100\n",
            "1/1 [==============================] - 0s 11ms/step - loss: 3.8240 - mae: 3.8240\n",
            "Epoch 56/100\n",
            "1/1 [==============================] - 0s 12ms/step - loss: 3.7784 - mae: 3.7784\n",
            "Epoch 57/100\n",
            "1/1 [==============================] - 0s 11ms/step - loss: 3.7229 - mae: 3.7229\n",
            "Epoch 58/100\n",
            "1/1 [==============================] - 0s 12ms/step - loss: 3.6601 - mae: 3.6601\n",
            "Epoch 59/100\n",
            "1/1 [==============================] - 0s 11ms/step - loss: 3.6730 - mae: 3.6730\n",
            "Epoch 60/100\n",
            "1/1 [==============================] - 0s 11ms/step - loss: 3.6986 - mae: 3.6986\n",
            "Epoch 61/100\n",
            "1/1 [==============================] - 0s 10ms/step - loss: 3.7146 - mae: 3.7146\n",
            "Epoch 62/100\n",
            "1/1 [==============================] - 0s 11ms/step - loss: 3.7216 - mae: 3.7216\n",
            "Epoch 63/100\n",
            "1/1 [==============================] - 0s 12ms/step - loss: 3.7200 - mae: 3.7200\n",
            "Epoch 64/100\n",
            "1/1 [==============================] - 0s 11ms/step - loss: 3.7104 - mae: 3.7104\n",
            "Epoch 65/100\n",
            "1/1 [==============================] - 0s 11ms/step - loss: 3.6935 - mae: 3.6935\n",
            "Epoch 66/100\n",
            "1/1 [==============================] - 0s 11ms/step - loss: 3.6796 - mae: 3.6796\n",
            "Epoch 67/100\n",
            "1/1 [==============================] - 0s 12ms/step - loss: 3.6478 - mae: 3.6478\n",
            "Epoch 68/100\n",
            "1/1 [==============================] - 0s 10ms/step - loss: 3.6191 - mae: 3.6191\n",
            "Epoch 69/100\n",
            "1/1 [==============================] - 0s 11ms/step - loss: 3.5852 - mae: 3.5852\n",
            "Epoch 70/100\n",
            "1/1 [==============================] - 0s 11ms/step - loss: 3.5670 - mae: 3.5670\n",
            "Epoch 71/100\n",
            "1/1 [==============================] - 0s 10ms/step - loss: 3.5835 - mae: 3.5835\n",
            "Epoch 72/100\n",
            "1/1 [==============================] - 0s 17ms/step - loss: 3.5830 - mae: 3.5830\n",
            "Epoch 73/100\n",
            "1/1 [==============================] - 0s 12ms/step - loss: 3.5673 - mae: 3.5673\n",
            "Epoch 74/100\n",
            "1/1 [==============================] - 0s 11ms/step - loss: 3.5379 - mae: 3.5379\n",
            "Epoch 75/100\n",
            "1/1 [==============================] - 0s 12ms/step - loss: 3.5163 - mae: 3.5163\n",
            "Epoch 76/100\n",
            "1/1 [==============================] - 0s 10ms/step - loss: 3.5184 - mae: 3.5184\n",
            "Epoch 77/100\n",
            "1/1 [==============================] - 0s 10ms/step - loss: 3.5161 - mae: 3.5161\n",
            "Epoch 78/100\n",
            "1/1 [==============================] - 0s 11ms/step - loss: 3.5051 - mae: 3.5051\n",
            "Epoch 79/100\n",
            "1/1 [==============================] - 0s 10ms/step - loss: 3.4864 - mae: 3.4864\n",
            "Epoch 80/100\n",
            "1/1 [==============================] - 0s 11ms/step - loss: 3.4618 - mae: 3.4618\n",
            "Epoch 81/100\n",
            "1/1 [==============================] - 0s 11ms/step - loss: 3.4694 - mae: 3.4694\n",
            "Epoch 82/100\n",
            "1/1 [==============================] - 0s 11ms/step - loss: 3.4665 - mae: 3.4665\n",
            "Epoch 83/100\n",
            "1/1 [==============================] - 0s 10ms/step - loss: 3.4455 - mae: 3.4455\n",
            "Epoch 84/100\n",
            "1/1 [==============================] - 0s 10ms/step - loss: 3.4137 - mae: 3.4137\n",
            "Epoch 85/100\n",
            "1/1 [==============================] - 0s 11ms/step - loss: 3.4043 - mae: 3.4043\n",
            "Epoch 86/100\n",
            "1/1 [==============================] - 0s 10ms/step - loss: 3.3895 - mae: 3.3895\n",
            "Epoch 87/100\n",
            "1/1 [==============================] - 0s 11ms/step - loss: 3.3727 - mae: 3.3727\n",
            "Epoch 88/100\n",
            "1/1 [==============================] - 0s 11ms/step - loss: 3.3624 - mae: 3.3624\n",
            "Epoch 89/100\n",
            "1/1 [==============================] - 0s 14ms/step - loss: 3.3432 - mae: 3.3432\n",
            "Epoch 90/100\n",
            "1/1 [==============================] - 0s 11ms/step - loss: 3.3449 - mae: 3.3449\n",
            "Epoch 91/100\n",
            "1/1 [==============================] - 0s 10ms/step - loss: 3.3376 - mae: 3.3376\n",
            "Epoch 92/100\n",
            "1/1 [==============================] - 0s 11ms/step - loss: 3.3196 - mae: 3.3196\n",
            "Epoch 93/100\n",
            "1/1 [==============================] - 0s 10ms/step - loss: 3.2928 - mae: 3.2928\n",
            "Epoch 94/100\n",
            "1/1 [==============================] - 0s 12ms/step - loss: 3.2872 - mae: 3.2872\n",
            "Epoch 95/100\n",
            "1/1 [==============================] - 0s 17ms/step - loss: 3.2898 - mae: 3.2898\n",
            "Epoch 96/100\n",
            "1/1 [==============================] - 0s 11ms/step - loss: 3.2456 - mae: 3.2456\n",
            "Epoch 97/100\n",
            "1/1 [==============================] - 0s 9ms/step - loss: 3.2458 - mae: 3.2458\n",
            "Epoch 98/100\n",
            "1/1 [==============================] - 0s 12ms/step - loss: 3.2419 - mae: 3.2419\n",
            "Epoch 99/100\n",
            "1/1 [==============================] - 0s 12ms/step - loss: 3.2310 - mae: 3.2310\n",
            "Epoch 100/100\n",
            "1/1 [==============================] - 0s 9ms/step - loss: 3.2089 - mae: 3.2089\n"
          ]
        },
        {
          "output_type": "execute_result",
          "data": {
            "text/plain": [
              "<keras.src.callbacks.History at 0x7967f1bb1330>"
            ]
          },
          "metadata": {},
          "execution_count": 19
        }
      ]
    },
    {
      "cell_type": "code",
      "source": [
        "model.predict([17.0])"
      ],
      "metadata": {
        "colab": {
          "base_uri": "https://localhost:8080/"
        },
        "id": "g0G-aJViUIym",
        "outputId": "2781e2c0-5c68-4b06-e36b-1bc7efa3a28b"
      },
      "execution_count": 20,
      "outputs": [
        {
          "output_type": "stream",
          "name": "stdout",
          "text": [
            "1/1 [==============================] - 0s 70ms/step\n"
          ]
        },
        {
          "output_type": "execute_result",
          "data": {
            "text/plain": [
              "array([[31.69008]], dtype=float32)"
            ]
          },
          "metadata": {},
          "execution_count": 20
        }
      ]
    },
    {
      "cell_type": "code",
      "source": [
        "# Lets create a new model\n",
        "model = tf.keras.Sequential([\n",
        "    tf.keras.layers.Dense(50, activation=None),\n",
        "    tf.keras.layers.Dense(1)\n",
        "])\n",
        "\n",
        "model.compile(loss=tf.keras.losses.mae,\n",
        "              optimizer=tf.keras.optimizers.Adam(0.01),\n",
        "              metrics = [\"mae\"])\n",
        "\n",
        "model.fit(tf.expand_dims(X,axis=-1), Y, epochs=100)"
      ],
      "metadata": {
        "id": "RIKd53jRWtgy",
        "colab": {
          "base_uri": "https://localhost:8080/"
        },
        "outputId": "edd4deca-1515-4ed6-cc06-5071bb307f45"
      },
      "execution_count": 21,
      "outputs": [
        {
          "output_type": "stream",
          "name": "stdout",
          "text": [
            "Epoch 1/100\n",
            "1/1 [==============================] - 1s 827ms/step - loss: 12.3194 - mae: 12.3194\n",
            "Epoch 2/100\n",
            "1/1 [==============================] - 0s 8ms/step - loss: 11.5924 - mae: 11.5924\n",
            "Epoch 3/100\n",
            "1/1 [==============================] - 0s 8ms/step - loss: 10.8546 - mae: 10.8546\n",
            "Epoch 4/100\n",
            "1/1 [==============================] - 0s 8ms/step - loss: 10.1045 - mae: 10.1045\n",
            "Epoch 5/100\n",
            "1/1 [==============================] - 0s 11ms/step - loss: 9.3390 - mae: 9.3390\n",
            "Epoch 6/100\n",
            "1/1 [==============================] - 0s 11ms/step - loss: 8.5551 - mae: 8.5551\n",
            "Epoch 7/100\n",
            "1/1 [==============================] - 0s 11ms/step - loss: 7.7500 - mae: 7.7500\n",
            "Epoch 8/100\n",
            "1/1 [==============================] - 0s 10ms/step - loss: 6.9208 - mae: 6.9208\n",
            "Epoch 9/100\n",
            "1/1 [==============================] - 0s 10ms/step - loss: 6.8973 - mae: 6.8973\n",
            "Epoch 10/100\n",
            "1/1 [==============================] - 0s 11ms/step - loss: 7.2415 - mae: 7.2415\n",
            "Epoch 11/100\n",
            "1/1 [==============================] - 0s 10ms/step - loss: 7.4594 - mae: 7.4594\n",
            "Epoch 12/100\n",
            "1/1 [==============================] - 0s 12ms/step - loss: 7.5854 - mae: 7.5854\n",
            "Epoch 13/100\n",
            "1/1 [==============================] - 0s 13ms/step - loss: 7.4847 - mae: 7.4847\n",
            "Epoch 14/100\n",
            "1/1 [==============================] - 0s 12ms/step - loss: 7.2164 - mae: 7.2164\n",
            "Epoch 15/100\n",
            "1/1 [==============================] - 0s 10ms/step - loss: 6.9552 - mae: 6.9552\n",
            "Epoch 16/100\n",
            "1/1 [==============================] - 0s 10ms/step - loss: 6.6776 - mae: 6.6776\n",
            "Epoch 17/100\n",
            "1/1 [==============================] - 0s 12ms/step - loss: 6.3812 - mae: 6.3812\n",
            "Epoch 18/100\n",
            "1/1 [==============================] - 0s 10ms/step - loss: 6.1920 - mae: 6.1920\n",
            "Epoch 19/100\n",
            "1/1 [==============================] - 0s 9ms/step - loss: 6.1393 - mae: 6.1393\n",
            "Epoch 20/100\n",
            "1/1 [==============================] - 0s 9ms/step - loss: 6.2258 - mae: 6.2258\n",
            "Epoch 21/100\n",
            "1/1 [==============================] - 0s 10ms/step - loss: 6.2943 - mae: 6.2943\n",
            "Epoch 22/100\n",
            "1/1 [==============================] - 0s 8ms/step - loss: 6.2512 - mae: 6.2512\n",
            "Epoch 23/100\n",
            "1/1 [==============================] - 0s 11ms/step - loss: 6.1108 - mae: 6.1108\n",
            "Epoch 24/100\n",
            "1/1 [==============================] - 0s 15ms/step - loss: 5.8840 - mae: 5.8840\n",
            "Epoch 25/100\n",
            "1/1 [==============================] - 0s 9ms/step - loss: 5.6490 - mae: 5.6490\n",
            "Epoch 26/100\n",
            "1/1 [==============================] - 0s 8ms/step - loss: 5.5418 - mae: 5.5418\n",
            "Epoch 27/100\n",
            "1/1 [==============================] - 0s 8ms/step - loss: 5.4321 - mae: 5.4321\n",
            "Epoch 28/100\n",
            "1/1 [==============================] - 0s 8ms/step - loss: 5.4319 - mae: 5.4319\n",
            "Epoch 29/100\n",
            "1/1 [==============================] - 0s 8ms/step - loss: 5.4156 - mae: 5.4156\n",
            "Epoch 30/100\n",
            "1/1 [==============================] - 0s 8ms/step - loss: 5.3509 - mae: 5.3509\n",
            "Epoch 31/100\n",
            "1/1 [==============================] - 0s 10ms/step - loss: 5.2421 - mae: 5.2421\n",
            "Epoch 32/100\n",
            "1/1 [==============================] - 0s 10ms/step - loss: 5.0933 - mae: 5.0933\n",
            "Epoch 33/100\n",
            "1/1 [==============================] - 0s 11ms/step - loss: 4.9084 - mae: 4.9084\n",
            "Epoch 34/100\n",
            "1/1 [==============================] - 0s 10ms/step - loss: 4.7386 - mae: 4.7386\n",
            "Epoch 35/100\n",
            "1/1 [==============================] - 0s 9ms/step - loss: 4.6442 - mae: 4.6442\n",
            "Epoch 36/100\n",
            "1/1 [==============================] - 0s 10ms/step - loss: 4.5429 - mae: 4.5429\n",
            "Epoch 37/100\n",
            "1/1 [==============================] - 0s 9ms/step - loss: 4.4404 - mae: 4.4404\n",
            "Epoch 38/100\n",
            "1/1 [==============================] - 0s 9ms/step - loss: 4.3096 - mae: 4.3096\n",
            "Epoch 39/100\n",
            "1/1 [==============================] - 0s 9ms/step - loss: 4.1780 - mae: 4.1780\n",
            "Epoch 40/100\n",
            "1/1 [==============================] - 0s 10ms/step - loss: 4.0398 - mae: 4.0398\n",
            "Epoch 41/100\n",
            "1/1 [==============================] - 0s 10ms/step - loss: 3.8949 - mae: 3.8949\n",
            "Epoch 42/100\n",
            "1/1 [==============================] - 0s 12ms/step - loss: 3.7430 - mae: 3.7430\n",
            "Epoch 43/100\n",
            "1/1 [==============================] - 0s 10ms/step - loss: 3.5838 - mae: 3.5838\n",
            "Epoch 44/100\n",
            "1/1 [==============================] - 0s 10ms/step - loss: 3.4171 - mae: 3.4171\n",
            "Epoch 45/100\n",
            "1/1 [==============================] - 0s 19ms/step - loss: 3.2548 - mae: 3.2548\n",
            "Epoch 46/100\n",
            "1/1 [==============================] - 0s 11ms/step - loss: 3.0878 - mae: 3.0878\n",
            "Epoch 47/100\n",
            "1/1 [==============================] - 0s 18ms/step - loss: 2.9053 - mae: 2.9053\n",
            "Epoch 48/100\n",
            "1/1 [==============================] - 0s 11ms/step - loss: 2.7283 - mae: 2.7283\n",
            "Epoch 49/100\n",
            "1/1 [==============================] - 0s 9ms/step - loss: 2.5411 - mae: 2.5411\n",
            "Epoch 50/100\n",
            "1/1 [==============================] - 0s 10ms/step - loss: 2.3436 - mae: 2.3436\n",
            "Epoch 51/100\n",
            "1/1 [==============================] - 0s 9ms/step - loss: 2.1355 - mae: 2.1355\n",
            "Epoch 52/100\n",
            "1/1 [==============================] - 0s 9ms/step - loss: 1.9167 - mae: 1.9167\n",
            "Epoch 53/100\n",
            "1/1 [==============================] - 0s 11ms/step - loss: 1.6869 - mae: 1.6869\n",
            "Epoch 54/100\n",
            "1/1 [==============================] - 0s 10ms/step - loss: 1.4461 - mae: 1.4461\n",
            "Epoch 55/100\n",
            "1/1 [==============================] - 0s 16ms/step - loss: 1.1939 - mae: 1.1939\n",
            "Epoch 56/100\n",
            "1/1 [==============================] - 0s 10ms/step - loss: 0.9855 - mae: 0.9855\n",
            "Epoch 57/100\n",
            "1/1 [==============================] - 0s 10ms/step - loss: 0.6901 - mae: 0.6901\n",
            "Epoch 58/100\n",
            "1/1 [==============================] - 0s 9ms/step - loss: 0.4987 - mae: 0.4987\n",
            "Epoch 59/100\n",
            "1/1 [==============================] - 0s 9ms/step - loss: 0.1867 - mae: 0.1867\n",
            "Epoch 60/100\n",
            "1/1 [==============================] - 0s 10ms/step - loss: 0.3288 - mae: 0.3288\n",
            "Epoch 61/100\n",
            "1/1 [==============================] - 0s 9ms/step - loss: 0.5521 - mae: 0.5521\n",
            "Epoch 62/100\n",
            "1/1 [==============================] - 0s 9ms/step - loss: 0.5578 - mae: 0.5578\n",
            "Epoch 63/100\n",
            "1/1 [==============================] - 0s 10ms/step - loss: 0.8172 - mae: 0.8172\n",
            "Epoch 64/100\n",
            "1/1 [==============================] - 0s 10ms/step - loss: 0.8140 - mae: 0.8140\n",
            "Epoch 65/100\n",
            "1/1 [==============================] - 0s 12ms/step - loss: 0.8268 - mae: 0.8268\n",
            "Epoch 66/100\n",
            "1/1 [==============================] - 0s 9ms/step - loss: 0.8587 - mae: 0.8587\n",
            "Epoch 67/100\n",
            "1/1 [==============================] - 0s 9ms/step - loss: 0.7104 - mae: 0.7104\n",
            "Epoch 68/100\n",
            "1/1 [==============================] - 0s 9ms/step - loss: 0.7226 - mae: 0.7226\n",
            "Epoch 69/100\n",
            "1/1 [==============================] - 0s 10ms/step - loss: 0.5808 - mae: 0.5808\n",
            "Epoch 70/100\n",
            "1/1 [==============================] - 0s 11ms/step - loss: 0.4558 - mae: 0.4558\n",
            "Epoch 71/100\n",
            "1/1 [==============================] - 0s 11ms/step - loss: 0.2901 - mae: 0.2901\n",
            "Epoch 72/100\n",
            "1/1 [==============================] - 0s 10ms/step - loss: 0.3414 - mae: 0.3414\n",
            "Epoch 73/100\n",
            "1/1 [==============================] - 0s 9ms/step - loss: 0.1939 - mae: 0.1939\n",
            "Epoch 74/100\n",
            "1/1 [==============================] - 0s 9ms/step - loss: 0.3318 - mae: 0.3318\n",
            "Epoch 75/100\n",
            "1/1 [==============================] - 0s 11ms/step - loss: 0.4464 - mae: 0.4464\n",
            "Epoch 76/100\n",
            "1/1 [==============================] - 0s 10ms/step - loss: 0.3360 - mae: 0.3360\n",
            "Epoch 77/100\n",
            "1/1 [==============================] - 0s 10ms/step - loss: 0.5778 - mae: 0.5778\n",
            "Epoch 78/100\n",
            "1/1 [==============================] - 0s 10ms/step - loss: 0.6541 - mae: 0.6541\n",
            "Epoch 79/100\n",
            "1/1 [==============================] - 0s 20ms/step - loss: 0.5566 - mae: 0.5566\n",
            "Epoch 80/100\n",
            "1/1 [==============================] - 0s 11ms/step - loss: 0.3173 - mae: 0.3173\n",
            "Epoch 81/100\n",
            "1/1 [==============================] - 0s 11ms/step - loss: 0.4568 - mae: 0.4568\n",
            "Epoch 82/100\n",
            "1/1 [==============================] - 0s 11ms/step - loss: 0.3887 - mae: 0.3887\n",
            "Epoch 83/100\n",
            "1/1 [==============================] - 0s 12ms/step - loss: 0.0803 - mae: 0.0803\n",
            "Epoch 84/100\n",
            "1/1 [==============================] - 0s 10ms/step - loss: 0.0954 - mae: 0.0954\n",
            "Epoch 85/100\n",
            "1/1 [==============================] - 0s 10ms/step - loss: 0.2106 - mae: 0.2106\n",
            "Epoch 86/100\n",
            "1/1 [==============================] - 0s 10ms/step - loss: 0.2514 - mae: 0.2514\n",
            "Epoch 87/100\n",
            "1/1 [==============================] - 0s 10ms/step - loss: 0.1838 - mae: 0.1838\n",
            "Epoch 88/100\n",
            "1/1 [==============================] - 0s 10ms/step - loss: 0.1566 - mae: 0.1566\n",
            "Epoch 89/100\n",
            "1/1 [==============================] - 0s 11ms/step - loss: 0.1819 - mae: 0.1819\n",
            "Epoch 90/100\n",
            "1/1 [==============================] - 0s 11ms/step - loss: 0.0666 - mae: 0.0666\n",
            "Epoch 91/100\n",
            "1/1 [==============================] - 0s 11ms/step - loss: 0.2438 - mae: 0.2438\n",
            "Epoch 92/100\n",
            "1/1 [==============================] - 0s 11ms/step - loss: 0.2271 - mae: 0.2271\n",
            "Epoch 93/100\n",
            "1/1 [==============================] - 0s 11ms/step - loss: 0.1941 - mae: 0.1941\n",
            "Epoch 94/100\n",
            "1/1 [==============================] - 0s 10ms/step - loss: 0.2209 - mae: 0.2209\n",
            "Epoch 95/100\n",
            "1/1 [==============================] - 0s 10ms/step - loss: 0.2137 - mae: 0.2137\n",
            "Epoch 96/100\n",
            "1/1 [==============================] - 0s 11ms/step - loss: 0.1631 - mae: 0.1631\n",
            "Epoch 97/100\n",
            "1/1 [==============================] - 0s 11ms/step - loss: 0.1951 - mae: 0.1951\n",
            "Epoch 98/100\n",
            "1/1 [==============================] - 0s 11ms/step - loss: 0.0890 - mae: 0.0890\n",
            "Epoch 99/100\n",
            "1/1 [==============================] - 0s 10ms/step - loss: 0.3150 - mae: 0.3150\n",
            "Epoch 100/100\n",
            "1/1 [==============================] - 0s 13ms/step - loss: 0.3674 - mae: 0.3674\n"
          ]
        },
        {
          "output_type": "execute_result",
          "data": {
            "text/plain": [
              "<keras.src.callbacks.History at 0x7967e0809390>"
            ]
          },
          "metadata": {},
          "execution_count": 21
        }
      ]
    },
    {
      "cell_type": "code",
      "source": [
        "model.predict([17.0])"
      ],
      "metadata": {
        "colab": {
          "base_uri": "https://localhost:8080/"
        },
        "id": "fOKdU7YEv2v4",
        "outputId": "4db802b1-6007-40af-caa0-59a1b84b68cd"
      },
      "execution_count": 22,
      "outputs": [
        {
          "output_type": "stream",
          "name": "stdout",
          "text": [
            "1/1 [==============================] - 0s 59ms/step\n"
          ]
        },
        {
          "output_type": "execute_result",
          "data": {
            "text/plain": [
              "array([[26.718489]], dtype=float32)"
            ]
          },
          "metadata": {},
          "execution_count": 22
        }
      ]
    },
    {
      "cell_type": "markdown",
      "source": [
        "## Evaluting a Model"
      ],
      "metadata": {
        "id": "butMlV282wv8"
      }
    },
    {
      "cell_type": "code",
      "source": [
        "# Lets make a bigger data set\n",
        "X = tf.range(-100,100,4)\n",
        "X"
      ],
      "metadata": {
        "colab": {
          "base_uri": "https://localhost:8080/"
        },
        "id": "qecjGyZNw4iD",
        "outputId": "a9b34420-16da-4e75-ca0f-d9c5c54534c9"
      },
      "execution_count": 3,
      "outputs": [
        {
          "output_type": "execute_result",
          "data": {
            "text/plain": [
              "<tf.Tensor: shape=(50,), dtype=int32, numpy=\n",
              "array([-100,  -96,  -92,  -88,  -84,  -80,  -76,  -72,  -68,  -64,  -60,\n",
              "        -56,  -52,  -48,  -44,  -40,  -36,  -32,  -28,  -24,  -20,  -16,\n",
              "        -12,   -8,   -4,    0,    4,    8,   12,   16,   20,   24,   28,\n",
              "         32,   36,   40,   44,   48,   52,   56,   60,   64,   68,   72,\n",
              "         76,   80,   84,   88,   92,   96], dtype=int32)>"
            ]
          },
          "metadata": {},
          "execution_count": 3
        }
      ]
    },
    {
      "cell_type": "code",
      "source": [
        "# Lets make the labels\n",
        "Y = X+ 10\n",
        "Y"
      ],
      "metadata": {
        "colab": {
          "base_uri": "https://localhost:8080/"
        },
        "id": "zVt7o3Ld3B2U",
        "outputId": "cd41d0d5-2cb1-4c84-9f0e-7df36727d528"
      },
      "execution_count": 4,
      "outputs": [
        {
          "output_type": "execute_result",
          "data": {
            "text/plain": [
              "<tf.Tensor: shape=(50,), dtype=int32, numpy=\n",
              "array([-90, -86, -82, -78, -74, -70, -66, -62, -58, -54, -50, -46, -42,\n",
              "       -38, -34, -30, -26, -22, -18, -14, -10,  -6,  -2,   2,   6,  10,\n",
              "        14,  18,  22,  26,  30,  34,  38,  42,  46,  50,  54,  58,  62,\n",
              "        66,  70,  74,  78,  82,  86,  90,  94,  98, 102, 106], dtype=int32)>"
            ]
          },
          "metadata": {},
          "execution_count": 4
        }
      ]
    },
    {
      "cell_type": "code",
      "source": [
        "# Lets visualize\n",
        "import matplotlib.pyplot as plt\n",
        "plt.scatter(X,Y);"
      ],
      "metadata": {
        "colab": {
          "base_uri": "https://localhost:8080/",
          "height": 430
        },
        "id": "jyDCYG-43D4b",
        "outputId": "8bcaf09b-ef62-4843-f95d-d63b23d5e65b"
      },
      "execution_count": 5,
      "outputs": [
        {
          "output_type": "display_data",
          "data": {
            "text/plain": [
              "<Figure size 640x480 with 1 Axes>"
            ],
            "image/png": "[encoded data removed]"
          },
          "metadata": {}
        }
      ]
    },
    {
      "cell_type": "markdown",
      "source": [
        "## the 3 stets"
      ],
      "metadata": {
        "id": "bXhLqnjN3jbr"
      }
    },
    {
      "cell_type": "code",
      "source": [
        "len(X)"
      ],
      "metadata": {
        "colab": {
          "base_uri": "https://localhost:8080/"
        },
        "id": "FEU7vo5B30C0",
        "outputId": "fb27d97f-1bf7-4d6d-8e82-df103dfbc208"
      },
      "execution_count": 6,
      "outputs": [
        {
          "output_type": "execute_result",
          "data": {
            "text/plain": [
              "50"
            ]
          },
          "metadata": {},
          "execution_count": 6
        }
      ]
    },
    {
      "cell_type": "code",
      "source": [
        "# Lets split the data into train test data sets\n",
        "x_train = X[:40]\n",
        "x_test = X[40:]\n",
        "y_train = Y[:40]\n",
        "y_test = Y[40:]\n",
        "len(x_test)"
      ],
      "metadata": {
        "colab": {
          "base_uri": "https://localhost:8080/"
        },
        "id": "OjmcrMHI42V9",
        "outputId": "3feff594-94b2-4f9c-afd5-c1b3c64811ed"
      },
      "execution_count": 15,
      "outputs": [
        {
          "output_type": "execute_result",
          "data": {
            "text/plain": [
              "10"
            ]
          },
          "metadata": {},
          "execution_count": 15
        }
      ]
    },
    {
      "cell_type": "code",
      "source": [
        "# Lets look how to make a nural network for our data\n",
        "\n",
        "# 1. Create Model\n",
        "model1 = tf.keras.Sequential([\n",
        "    tf.keras.layers.Dense(1)\n",
        "])\n",
        "\n",
        "#Lets compile the model\n",
        "model1.compile(loss=tf.keras.losses.mae, # mae = mean absulate error\n",
        "              optimizer=tf.keras.optimizers.SGD(), # sgd is short for stochachastic greadent descent\n",
        "              metrics=[\"mae\"])\n",
        "\n",
        "#Lets fit the model on training data set\n",
        "model1.fit(tf.expand_dims(x_train,axis=-1),y_train, epochs=100)"
      ],
      "metadata": {
        "colab": {
          "base_uri": "https://localhost:8080/"
        },
        "id": "k6ozCmCM5cQg",
        "outputId": "46e3c9f4-62d6-438f-f834-214db2b5fb8a"
      },
      "execution_count": 19,
      "outputs": [
        {
          "output_type": "stream",
          "name": "stdout",
          "text": [
            "Epoch 1/100\n",
            "2/2 [==============================] - 1s 30ms/step - loss: 39.8950 - mae: 39.8950\n",
            "Epoch 2/100\n",
            "2/2 [==============================] - 0s 26ms/step - loss: 11.3289 - mae: 11.3289\n",
            "Epoch 3/100\n",
            "2/2 [==============================] - 0s 14ms/step - loss: 12.7981 - mae: 12.7981\n",
            "Epoch 4/100\n",
            "2/2 [==============================] - 0s 10ms/step - loss: 12.6793 - mae: 12.6793\n",
            "Epoch 5/100\n",
            "2/2 [==============================] - 0s 8ms/step - loss: 9.1500 - mae: 9.1500\n",
            "Epoch 6/100\n",
            "2/2 [==============================] - 0s 10ms/step - loss: 9.2300 - mae: 9.2300\n",
            "Epoch 7/100\n",
            "2/2 [==============================] - 0s 11ms/step - loss: 7.8368 - mae: 7.8368\n",
            "Epoch 8/100\n",
            "2/2 [==============================] - 0s 8ms/step - loss: 11.5908 - mae: 11.5908\n",
            "Epoch 9/100\n",
            "2/2 [==============================] - 0s 8ms/step - loss: 8.9066 - mae: 8.9066\n",
            "Epoch 10/100\n",
            "2/2 [==============================] - 0s 18ms/step - loss: 9.1431 - mae: 9.1431\n",
            "Epoch 11/100\n",
            "2/2 [==============================] - 0s 7ms/step - loss: 11.9247 - mae: 11.9247\n",
            "Epoch 12/100\n",
            "2/2 [==============================] - 0s 10ms/step - loss: 13.7059 - mae: 13.7059\n",
            "Epoch 13/100\n",
            "2/2 [==============================] - 0s 9ms/step - loss: 8.3521 - mae: 8.3521\n",
            "Epoch 14/100\n",
            "2/2 [==============================] - 0s 8ms/step - loss: 10.1033 - mae: 10.1033\n",
            "Epoch 15/100\n",
            "2/2 [==============================] - 0s 9ms/step - loss: 9.4069 - mae: 9.4069\n",
            "Epoch 16/100\n",
            "2/2 [==============================] - 0s 9ms/step - loss: 10.9878 - mae: 10.9878\n",
            "Epoch 17/100\n",
            "2/2 [==============================] - 0s 13ms/step - loss: 12.6596 - mae: 12.6596\n",
            "Epoch 18/100\n",
            "2/2 [==============================] - 0s 13ms/step - loss: 14.5079 - mae: 14.5079\n",
            "Epoch 19/100\n",
            "2/2 [==============================] - 0s 9ms/step - loss: 9.6331 - mae: 9.6331\n",
            "Epoch 20/100\n",
            "2/2 [==============================] - 0s 16ms/step - loss: 8.3114 - mae: 8.3114\n",
            "Epoch 21/100\n",
            "2/2 [==============================] - 0s 17ms/step - loss: 10.4349 - mae: 10.4349\n",
            "Epoch 22/100\n",
            "2/2 [==============================] - 0s 13ms/step - loss: 7.7676 - mae: 7.7676\n",
            "Epoch 23/100\n",
            "2/2 [==============================] - 0s 12ms/step - loss: 14.4535 - mae: 14.4535\n",
            "Epoch 24/100\n",
            "2/2 [==============================] - 0s 22ms/step - loss: 12.7152 - mae: 12.7152\n",
            "Epoch 25/100\n",
            "2/2 [==============================] - 0s 21ms/step - loss: 8.4658 - mae: 8.4658\n",
            "Epoch 26/100\n",
            "2/2 [==============================] - 0s 16ms/step - loss: 9.6290 - mae: 9.6290\n",
            "Epoch 27/100\n",
            "2/2 [==============================] - 0s 18ms/step - loss: 14.2423 - mae: 14.2423\n",
            "Epoch 28/100\n",
            "2/2 [==============================] - 0s 17ms/step - loss: 7.4782 - mae: 7.4782\n",
            "Epoch 29/100\n",
            "2/2 [==============================] - 0s 20ms/step - loss: 7.6379 - mae: 7.6379\n",
            "Epoch 30/100\n",
            "2/2 [==============================] - 0s 15ms/step - loss: 10.1541 - mae: 10.1541\n",
            "Epoch 31/100\n",
            "2/2 [==============================] - 0s 28ms/step - loss: 13.6099 - mae: 13.6099\n",
            "Epoch 32/100\n",
            "2/2 [==============================] - 0s 30ms/step - loss: 7.7557 - mae: 7.7557\n",
            "Epoch 33/100\n",
            "2/2 [==============================] - 0s 16ms/step - loss: 11.0686 - mae: 11.0686\n",
            "Epoch 34/100\n",
            "2/2 [==============================] - 0s 15ms/step - loss: 10.3990 - mae: 10.3990\n",
            "Epoch 35/100\n",
            "2/2 [==============================] - 0s 14ms/step - loss: 10.0781 - mae: 10.0781\n",
            "Epoch 36/100\n",
            "2/2 [==============================] - 0s 27ms/step - loss: 9.3671 - mae: 9.3671\n",
            "Epoch 37/100\n",
            "2/2 [==============================] - 0s 15ms/step - loss: 9.9159 - mae: 9.9159\n",
            "Epoch 38/100\n",
            "2/2 [==============================] - 0s 16ms/step - loss: 16.0587 - mae: 16.0587\n",
            "Epoch 39/100\n",
            "2/2 [==============================] - 0s 16ms/step - loss: 7.9570 - mae: 7.9570\n",
            "Epoch 40/100\n",
            "2/2 [==============================] - 0s 16ms/step - loss: 12.9951 - mae: 12.9951\n",
            "Epoch 41/100\n",
            "2/2 [==============================] - 0s 17ms/step - loss: 7.2684 - mae: 7.2684\n",
            "Epoch 42/100\n",
            "2/2 [==============================] - 0s 7ms/step - loss: 11.6031 - mae: 11.6031\n",
            "Epoch 43/100\n",
            "2/2 [==============================] - 0s 7ms/step - loss: 12.2909 - mae: 12.2909\n",
            "Epoch 44/100\n",
            "2/2 [==============================] - 0s 7ms/step - loss: 13.7703 - mae: 13.7703\n",
            "Epoch 45/100\n",
            "2/2 [==============================] - 0s 8ms/step - loss: 11.4977 - mae: 11.4977\n",
            "Epoch 46/100\n",
            "2/2 [==============================] - 0s 8ms/step - loss: 9.1039 - mae: 9.1039\n",
            "Epoch 47/100\n",
            "2/2 [==============================] - 0s 6ms/step - loss: 11.8443 - mae: 11.8443\n",
            "Epoch 48/100\n",
            "2/2 [==============================] - 0s 6ms/step - loss: 12.2793 - mae: 12.2793\n",
            "Epoch 49/100\n",
            "2/2 [==============================] - 0s 7ms/step - loss: 9.4669 - mae: 9.4669\n",
            "Epoch 50/100\n",
            "2/2 [==============================] - 0s 7ms/step - loss: 9.9453 - mae: 9.9453\n",
            "Epoch 51/100\n",
            "2/2 [==============================] - 0s 7ms/step - loss: 15.5255 - mae: 15.5255\n",
            "Epoch 52/100\n",
            "2/2 [==============================] - 0s 8ms/step - loss: 13.7496 - mae: 13.7496\n",
            "Epoch 53/100\n",
            "2/2 [==============================] - 0s 8ms/step - loss: 12.6935 - mae: 12.6935\n",
            "Epoch 54/100\n",
            "2/2 [==============================] - 0s 8ms/step - loss: 11.3584 - mae: 11.3584\n",
            "Epoch 55/100\n",
            "2/2 [==============================] - 0s 9ms/step - loss: 9.9320 - mae: 9.9320\n",
            "Epoch 56/100\n",
            "2/2 [==============================] - 0s 10ms/step - loss: 7.3769 - mae: 7.3769\n",
            "Epoch 57/100\n",
            "2/2 [==============================] - 0s 8ms/step - loss: 14.9691 - mae: 14.9691\n",
            "Epoch 58/100\n",
            "2/2 [==============================] - 0s 10ms/step - loss: 11.2598 - mae: 11.2598\n",
            "Epoch 59/100\n",
            "2/2 [==============================] - 0s 12ms/step - loss: 9.3735 - mae: 9.3735\n",
            "Epoch 60/100\n",
            "2/2 [==============================] - 0s 8ms/step - loss: 8.9051 - mae: 8.9051\n",
            "Epoch 61/100\n",
            "2/2 [==============================] - 0s 7ms/step - loss: 8.4443 - mae: 8.4443\n",
            "Epoch 62/100\n",
            "2/2 [==============================] - 0s 8ms/step - loss: 7.3536 - mae: 7.3536\n",
            "Epoch 63/100\n",
            "2/2 [==============================] - 0s 7ms/step - loss: 10.5228 - mae: 10.5228\n",
            "Epoch 64/100\n",
            "2/2 [==============================] - 0s 7ms/step - loss: 16.7431 - mae: 16.7431\n",
            "Epoch 65/100\n",
            "2/2 [==============================] - 0s 7ms/step - loss: 16.9380 - mae: 16.9380\n",
            "Epoch 66/100\n",
            "2/2 [==============================] - 0s 8ms/step - loss: 13.8410 - mae: 13.8410\n",
            "Epoch 67/100\n",
            "2/2 [==============================] - 0s 10ms/step - loss: 10.1370 - mae: 10.1370\n",
            "Epoch 68/100\n",
            "2/2 [==============================] - 0s 8ms/step - loss: 7.9179 - mae: 7.9179\n",
            "Epoch 69/100\n",
            "2/2 [==============================] - 0s 7ms/step - loss: 14.3947 - mae: 14.3947\n",
            "Epoch 70/100\n",
            "2/2 [==============================] - 0s 7ms/step - loss: 11.2580 - mae: 11.2580\n",
            "Epoch 71/100\n",
            "2/2 [==============================] - 0s 7ms/step - loss: 9.8285 - mae: 9.8285\n",
            "Epoch 72/100\n",
            "2/2 [==============================] - 0s 7ms/step - loss: 9.6466 - mae: 9.6466\n",
            "Epoch 73/100\n",
            "2/2 [==============================] - 0s 7ms/step - loss: 14.0365 - mae: 14.0365\n",
            "Epoch 74/100\n",
            "2/2 [==============================] - 0s 9ms/step - loss: 8.3239 - mae: 8.3239\n",
            "Epoch 75/100\n",
            "2/2 [==============================] - 0s 7ms/step - loss: 12.0063 - mae: 12.0063\n",
            "Epoch 76/100\n",
            "2/2 [==============================] - 0s 7ms/step - loss: 10.8157 - mae: 10.8157\n",
            "Epoch 77/100\n",
            "2/2 [==============================] - 0s 9ms/step - loss: 8.2837 - mae: 8.2837\n",
            "Epoch 78/100\n",
            "2/2 [==============================] - 0s 8ms/step - loss: 10.3404 - mae: 10.3404\n",
            "Epoch 79/100\n",
            "2/2 [==============================] - 0s 7ms/step - loss: 16.0984 - mae: 16.0984\n",
            "Epoch 80/100\n",
            "2/2 [==============================] - 0s 8ms/step - loss: 9.2180 - mae: 9.2180\n",
            "Epoch 81/100\n",
            "2/2 [==============================] - 0s 8ms/step - loss: 11.6986 - mae: 11.6986\n",
            "Epoch 82/100\n",
            "2/2 [==============================] - 0s 7ms/step - loss: 8.4216 - mae: 8.4216\n",
            "Epoch 83/100\n",
            "2/2 [==============================] - 0s 15ms/step - loss: 15.7210 - mae: 15.7210\n",
            "Epoch 84/100\n",
            "2/2 [==============================] - 0s 8ms/step - loss: 9.2362 - mae: 9.2362\n",
            "Epoch 85/100\n",
            "2/2 [==============================] - 0s 9ms/step - loss: 7.0595 - mae: 7.0595\n",
            "Epoch 86/100\n",
            "2/2 [==============================] - 0s 7ms/step - loss: 8.5707 - mae: 8.5707\n",
            "Epoch 87/100\n",
            "2/2 [==============================] - 0s 7ms/step - loss: 13.1608 - mae: 13.1608\n",
            "Epoch 88/100\n",
            "2/2 [==============================] - 0s 8ms/step - loss: 11.0088 - mae: 11.0088\n",
            "Epoch 89/100\n",
            "2/2 [==============================] - 0s 7ms/step - loss: 7.5414 - mae: 7.5414\n",
            "Epoch 90/100\n",
            "2/2 [==============================] - 0s 8ms/step - loss: 7.6728 - mae: 7.6728\n",
            "Epoch 91/100\n",
            "2/2 [==============================] - 0s 7ms/step - loss: 14.7256 - mae: 14.7256\n",
            "Epoch 92/100\n",
            "2/2 [==============================] - 0s 7ms/step - loss: 7.3796 - mae: 7.3796\n",
            "Epoch 93/100\n",
            "2/2 [==============================] - 0s 7ms/step - loss: 9.9061 - mae: 9.9061\n",
            "Epoch 94/100\n",
            "2/2 [==============================] - 0s 7ms/step - loss: 7.8851 - mae: 7.8851\n",
            "Epoch 95/100\n",
            "2/2 [==============================] - 0s 13ms/step - loss: 11.9721 - mae: 11.9721\n",
            "Epoch 96/100\n",
            "2/2 [==============================] - 0s 8ms/step - loss: 9.6180 - mae: 9.6180\n",
            "Epoch 97/100\n",
            "2/2 [==============================] - 0s 6ms/step - loss: 11.2178 - mae: 11.2178\n",
            "Epoch 98/100\n",
            "2/2 [==============================] - 0s 8ms/step - loss: 6.7375 - mae: 6.7375\n",
            "Epoch 99/100\n",
            "2/2 [==============================] - 0s 8ms/step - loss: 8.7774 - mae: 8.7774\n",
            "Epoch 100/100\n",
            "2/2 [==============================] - 0s 7ms/step - loss: 10.4059 - mae: 10.4059\n"
          ]
        },
        {
          "output_type": "execute_result",
          "data": {
            "text/plain": [
              "<keras.src.callbacks.History at 0x7d03ccbca2c0>"
            ]
          },
          "metadata": {},
          "execution_count": 19
        }
      ]
    },
    {
      "cell_type": "code",
      "source": [
        "model = tf.keras.Sequential([\n",
        "    tf.keras.layers.Dense(10, input_shape=[1])\n",
        "])\n",
        "\n",
        "model.compile(loss=tf.keras.losses.mae,\n",
        "              optimizer=tf.keras.optimizers.SGD(),\n",
        "              metrics=[\"mae\"])"
      ],
      "metadata": {
        "id": "2HyRUS2o8fPt"
      },
      "execution_count": 9,
      "outputs": []
    },
    {
      "cell_type": "code",
      "source": [
        "model.fit(x_train,y_train,epochs=100,verbose=0)"
      ],
      "metadata": {
        "colab": {
          "base_uri": "https://localhost:8080/"
        },
        "id": "GZWxkenI9_kb",
        "outputId": "75bfa14b-e40c-4ff2-89e1-9687f740745a"
      },
      "execution_count": 10,
      "outputs": [
        {
          "output_type": "execute_result",
          "data": {
            "text/plain": [
              "<keras.src.callbacks.History at 0x7d04223bed10>"
            ]
          },
          "metadata": {},
          "execution_count": 10
        }
      ]
    },
    {
      "cell_type": "code",
      "source": [
        "model.summary()"
      ],
      "metadata": {
        "colab": {
          "base_uri": "https://localhost:8080/"
        },
        "id": "9fsyykyO40od",
        "outputId": "ed3593c2-a82d-4b9e-f0fc-a9804c68db83"
      },
      "execution_count": 11,
      "outputs": [
        {
          "output_type": "stream",
          "name": "stdout",
          "text": [
            "Model: \"sequential_1\"\n",
            "_________________________________________________________________\n",
            " Layer (type)                Output Shape              Param #   \n",
            "=================================================================\n",
            " dense_1 (Dense)             (None, 10)                20        \n",
            "                                                                 \n",
            "=================================================================\n",
            "Total params: 20 (80.00 Byte)\n",
            "Trainable params: 20 (80.00 Byte)\n",
            "Non-trainable params: 0 (0.00 Byte)\n",
            "_________________________________________________________________\n"
          ]
        }
      ]
    },
    {
      "cell_type": "code",
      "source": [
        "from tensorflow.keras.utils import plot_model\n",
        "\n",
        "plot_model(model=model,show_shapes=True)"
      ],
      "metadata": {
        "colab": {
          "base_uri": "https://localhost:8080/",
          "height": 201
        },
        "id": "tDNrda4J45eI",
        "outputId": "b601cb7b-23f2-4270-be31-6aa08e7d7911"
      },
      "execution_count": 12,
      "outputs": [
        {
          "output_type": "execute_result",
          "data": {
            "image/png": "[encoded data removed]",
            "text/plain": [
              "<IPython.core.display.Image object>"
            ]
          },
          "metadata": {},
          "execution_count": 12
        }
      ]
    },
    {
      "cell_type": "markdown",
      "source": [
        "### Visualizing our model pridiction"
      ],
      "metadata": {
        "id": "8qOjHfzl59pI"
      }
    },
    {
      "cell_type": "code",
      "source": [
        "y_preds = model1.predict(x_test)\n",
        "\n",
        "y_preds"
      ],
      "metadata": {
        "colab": {
          "base_uri": "https://localhost:8080/"
        },
        "id": "YuF0TLAq7Li-",
        "outputId": "9f5527a6-2987-44a9-ca31-b0e3e929807e"
      },
      "execution_count": 20,
      "outputs": [
        {
          "output_type": "stream",
          "name": "stdout",
          "text": [
            "1/1 [==============================] - 0s 39ms/step\n"
          ]
        },
        {
          "output_type": "execute_result",
          "data": {
            "text/plain": [
              "array([[ 68.352806],\n",
              "       [ 72.819954],\n",
              "       [ 77.2871  ],\n",
              "       [ 81.75424 ],\n",
              "       [ 86.22139 ],\n",
              "       [ 90.68854 ],\n",
              "       [ 95.15568 ],\n",
              "       [ 99.622826],\n",
              "       [104.08997 ],\n",
              "       [108.55711 ]], dtype=float32)"
            ]
          },
          "metadata": {},
          "execution_count": 20
        }
      ]
    },
    {
      "cell_type": "code",
      "source": [
        "y_test"
      ],
      "metadata": {
        "colab": {
          "base_uri": "https://localhost:8080/"
        },
        "id": "zEG9pIa2jEtw",
        "outputId": "0466617e-80f2-4f16-8d0f-2328695df740"
      },
      "execution_count": 17,
      "outputs": [
        {
          "output_type": "execute_result",
          "data": {
            "text/plain": [
              "<tf.Tensor: shape=(10,), dtype=int32, numpy=array([ 70,  74,  78,  82,  86,  90,  94,  98, 102, 106], dtype=int32)>"
            ]
          },
          "metadata": {},
          "execution_count": 17
        }
      ]
    },
    {
      "cell_type": "code",
      "source": [
        "# Lets create a ploting function\n",
        "def plot_prediction(train_data=x_train,\n",
        "                    train_labels=y_train,\n",
        "                    test_data = x_test,\n",
        "                    test_labels=y_test,\n",
        "                    prediction = y_preds):\n",
        "  \"\"\"\n",
        "  Plots traning data , testing data and comparing prediction to ground truth labels\n",
        "  \"\"\"\n",
        "  plt.figure(figsize=(10,7))\n",
        "  plt.scatter(train_data, train_labels, c=\"b\", label = \"Traning data\")\n",
        "  plt.scatter(test_data, test_labels, c=\"g\", label = \"Testing data\")\n",
        "  plt.scatter(test_data, prediction, c=\"r\", label = \"Predictions\")\n",
        "  plt.legend();\n"
      ],
      "metadata": {
        "id": "eYMpRm2NjgpH"
      },
      "execution_count": 24,
      "outputs": []
    },
    {
      "cell_type": "code",
      "source": [
        "plot_prediction()"
      ],
      "metadata": {
        "colab": {
          "base_uri": "https://localhost:8080/",
          "height": 599
        },
        "id": "BVR1FohRmb3m",
        "outputId": "cc979738-9c24-4adf-d004-fae87671dc9d"
      },
      "execution_count": 25,
      "outputs": [
        {
          "output_type": "display_data",
          "data": {
            "text/plain": [
              "<Figure size 1000x700 with 1 Axes>"
            ],
            "image/png": "[encoded data removed]"
          },
          "metadata": {}
        }
      ]
    },
    {
      "cell_type": "code",
      "source": [
        "#Calculating mean absolute error\n",
        "mae=tf.metrics.mean_absolute_error(y_true=y_test, y_pred=tf.squeeze(y_preds))\n",
        "\n",
        "mae"
      ],
      "metadata": {
        "colab": {
          "base_uri": "https://localhost:8080/"
        },
        "id": "LFin73mCmgAW",
        "outputId": "9d3e22f4-0b1e-4bd9-9b8b-9d9bfce11909"
      },
      "execution_count": 29,
      "outputs": [
        {
          "output_type": "execute_result",
          "data": {
            "text/plain": [
              "<tf.Tensor: shape=(), dtype=float32, numpy=1.2121414>"
            ]
          },
          "metadata": {},
          "execution_count": 29
        }
      ]
    },
    {
      "cell_type": "code",
      "source": [
        "def mae(y_true, y_preds):\n",
        "  return tf.metrics.mean_absolute_error(y_true=y_test, y_pred=y_preds)\n",
        "\n",
        "def mse(y_true, y_preds):\n",
        "  return tf.merics.mean_squared_error(y_true=y_test, y_pred=y_preds)"
      ],
      "metadata": {
        "id": "51Azy2X4oeu7"
      },
      "execution_count": 31,
      "outputs": []
    },
    {
      "cell_type": "code",
      "source": [],
      "metadata": {
        "id": "6mRMcFKRqKeg"
      },
      "execution_count": null,
      "outputs": []
    }
  ]
}