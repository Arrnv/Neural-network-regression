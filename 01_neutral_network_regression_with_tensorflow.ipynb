{
  "nbformat": 4,
  "nbformat_minor": 0,
  "metadata": {
    "colab": {
      "provenance": [],
      "gpuType": "T4",
      "authorship_tag": "ABX9TyN492y3B0W7Zb6VN1A2KzsK",
      "include_colab_link": true
    },
    "kernelspec": {
      "name": "python3",
      "display_name": "Python 3"
    },
    "language_info": {
      "name": "python"
    },
    "accelerator": "GPU"
  },
  "cells": [
    {
      "cell_type": "markdown",
      "metadata": {
        "id": "view-in-github",
        "colab_type": "text"
      },
      "source": [
        "<a href=\"https://colab.research.google.com/github/Arrnv/Neural-network-regression/blob/main/01_neutral_network_regression_with_tensorflow.ipynb\" target=\"_parent\"><img src=\"https://colab.research.google.com/assets/colab-badge.svg\" alt=\"Open In Colab\"/></a>"
      ]
    },
    {
      "cell_type": "markdown",
      "source": [
        "# introduction to regression with neutral network in tensorflow"
      ],
      "metadata": {
        "id": "5QrkXII-Z3Bv"
      }
    },
    {
      "cell_type": "markdown",
      "source": [
        "Predecting a numerical variable based on some other combination of variables,"
      ],
      "metadata": {
        "id": "IFlHLEB8Zdkh"
      }
    },
    {
      "cell_type": "code",
      "source": [
        "# import tensorflow\n",
        "import tensorflow as tf\n",
        "print(tf.__version__)"
      ],
      "metadata": {
        "colab": {
          "base_uri": "https://localhost:8080/"
        },
        "id": "GXtduXfiaJgd",
        "outputId": "75b1134b-2983-4e5c-a981-df8fb64d9661"
      },
      "execution_count": 1,
      "outputs": [
        {
          "output_type": "stream",
          "name": "stdout",
          "text": [
            "2.13.0\n"
          ]
        }
      ]
    },
    {
      "cell_type": "markdown",
      "source": [
        "### Creating the data to view and fit"
      ],
      "metadata": {
        "id": "jLrVbrySavE-"
      }
    },
    {
      "cell_type": "code",
      "source": [
        "import numpy as np\n",
        "import matplotlib.pyplot as plt\n",
        "\n",
        "# creation of features\n",
        "X = np.array([-7.0, -4.0, -1.0, 2.0, 5.0, 8.0, 11.0, 14.0])\n",
        "\n",
        "# create labels\n",
        "Y = np.array([3.0, 6.0, 9.0, 12.0, 15.0, 18.0, 21.0, 24.0])\n",
        "\n",
        "# visualize it\n",
        "plt.scatter(X,Y)"
      ],
      "metadata": {
        "colab": {
          "base_uri": "https://localhost:8080/",
          "height": 453
        },
        "id": "_ob3cl_Ba3mz",
        "outputId": "8b8dea08-866e-4fa9-9596-a3e3ce256d5a"
      },
      "execution_count": 2,
      "outputs": [
        {
          "output_type": "execute_result",
          "data": {
            "text/plain": [
              "<matplotlib.collections.PathCollection at 0x7d5731059e10>"
            ]
          },
          "metadata": {},
          "execution_count": 2
        },
        {
          "output_type": "display_data",
          "data": {
            "text/plain": [
              "<Figure size 640x480 with 1 Axes>"
            ],
            "image/png": "[encoded data removed]"
          },
          "metadata": {}
        }
      ]
    },
    {
      "cell_type": "code",
      "source": [
        "Y == X + 10"
      ],
      "metadata": {
        "colab": {
          "base_uri": "https://localhost:8080/"
        },
        "id": "ITm9ZtcCb12h",
        "outputId": "72d0ca98-b3b4-47a9-ec0e-c054908a7483"
      },
      "execution_count": 3,
      "outputs": [
        {
          "output_type": "execute_result",
          "data": {
            "text/plain": [
              "array([ True,  True,  True,  True,  True,  True,  True,  True])"
            ]
          },
          "metadata": {},
          "execution_count": 3
        }
      ]
    },
    {
      "cell_type": "markdown",
      "source": [
        "## Input and Output shapes"
      ],
      "metadata": {
        "id": "gTOQ8zbscHFD"
      }
    },
    {
      "cell_type": "code",
      "source": [
        "# Create a demo tensor for our housing prise problem\n",
        "house_info = tf.constant([\"bedroom\",\"bathroom\",\"garage\"])\n",
        "house_prise = tf.constant([939700])\n",
        "house_info, house_prise"
      ],
      "metadata": {
        "colab": {
          "base_uri": "https://localhost:8080/"
        },
        "id": "_n0ZgmICcTLm",
        "outputId": "7361ed69-6c2b-448f-ed4a-920f81a9533a"
      },
      "execution_count": 4,
      "outputs": [
        {
          "output_type": "execute_result",
          "data": {
            "text/plain": [
              "(<tf.Tensor: shape=(3,), dtype=string, numpy=array([b'bedroom', b'bathroom', b'garage'], dtype=object)>,\n",
              " <tf.Tensor: shape=(1,), dtype=int32, numpy=array([939700], dtype=int32)>)"
            ]
          },
          "metadata": {},
          "execution_count": 4
        }
      ]
    },
    {
      "cell_type": "code",
      "source": [
        "X[0], Y[0]"
      ],
      "metadata": {
        "colab": {
          "base_uri": "https://localhost:8080/"
        },
        "id": "dSkB5XmPdQyk",
        "outputId": "942a4952-470b-4cea-f709-668b6905f141"
      },
      "execution_count": 5,
      "outputs": [
        {
          "output_type": "execute_result",
          "data": {
            "text/plain": [
              "(-7.0, 3.0)"
            ]
          },
          "metadata": {},
          "execution_count": 5
        }
      ]
    },
    {
      "cell_type": "code",
      "source": [
        "input_shape = X[0].shape\n",
        "output_shape = Y[0].shape\n",
        "input_shape, output_shape"
      ],
      "metadata": {
        "colab": {
          "base_uri": "https://localhost:8080/"
        },
        "id": "gnsaQCx8c6zu",
        "outputId": "471efd9e-f316-4988-cf10-5a6263de70c2"
      },
      "execution_count": 6,
      "outputs": [
        {
          "output_type": "execute_result",
          "data": {
            "text/plain": [
              "((), ())"
            ]
          },
          "metadata": {},
          "execution_count": 6
        }
      ]
    },
    {
      "cell_type": "code",
      "source": [
        "X[0].ndim"
      ],
      "metadata": {
        "colab": {
          "base_uri": "https://localhost:8080/"
        },
        "id": "vnk7Zia5dLhC",
        "outputId": "8dd3b1d7-5ed2-4471-ec55-f998f4d31d08"
      },
      "execution_count": 7,
      "outputs": [
        {
          "output_type": "execute_result",
          "data": {
            "text/plain": [
              "0"
            ]
          },
          "metadata": {},
          "execution_count": 7
        }
      ]
    },
    {
      "cell_type": "code",
      "source": [
        "# Turning our numpy array into tensors\n",
        "X = tf.cast(tf.constant(X), dtype=tf.float32)\n",
        "y = tf.cast(tf.constant(Y), dtype=tf.float32)\n",
        "X, Y\n",
        "\n",
        "# Set random.set_seed\n",
        "tf.random.set_seed(42)\n",
        "\n",
        "# 1. Create a model using the Sequential API\n",
        "model = tf.keras.Sequential([\n",
        "    tf.keras.layers.Dense(1)\n",
        "])\n",
        "\n",
        "# 2. Compile the model\n",
        "model.compile(loss=tf.keras.losses.mae, # mae = mean absulate error\n",
        "              optimizer=tf.keras.optimizers.SGD(), # sgd is short for stochachastic greadent descent\n",
        "              metrics=[\"mae\"])\n",
        "# 3. fit the model\n",
        "model.fit(tf.expand_dims(X,axis=-1), Y, epochs=5)"
      ],
      "metadata": {
        "colab": {
          "base_uri": "https://localhost:8080/"
        },
        "id": "iKbbL4-0diUs",
        "outputId": "2a2882c6-796e-411a-801a-476a1a3bd869"
      },
      "execution_count": 8,
      "outputs": [
        {
          "output_type": "stream",
          "name": "stdout",
          "text": [
            "Epoch 1/5\n",
            "1/1 [==============================] - 5s 5s/step - loss: 13.1472 - mae: 13.1472\n",
            "Epoch 2/5\n",
            "1/1 [==============================] - 0s 15ms/step - loss: 13.0147 - mae: 13.0147\n",
            "Epoch 3/5\n",
            "1/1 [==============================] - 0s 10ms/step - loss: 12.8822 - mae: 12.8822\n",
            "Epoch 4/5\n",
            "1/1 [==============================] - 0s 11ms/step - loss: 12.7497 - mae: 12.7497\n",
            "Epoch 5/5\n",
            "1/1 [==============================] - 0s 12ms/step - loss: 12.6172 - mae: 12.6172\n"
          ]
        },
        {
          "output_type": "execute_result",
          "data": {
            "text/plain": [
              "<keras.src.callbacks.History at 0x7d5726765fc0>"
            ]
          },
          "metadata": {},
          "execution_count": 8
        }
      ]
    },
    {
      "cell_type": "code",
      "source": [
        "input_shape = X[0].shape\n",
        "output_shape = Y[0].shape\n",
        "input_shape, output_shape"
      ],
      "metadata": {
        "colab": {
          "base_uri": "https://localhost:8080/"
        },
        "id": "xRtZVMByeMaW",
        "outputId": "1765c96c-6d5b-42b6-8f59-3ba6509efbdd"
      },
      "execution_count": 9,
      "outputs": [
        {
          "output_type": "execute_result",
          "data": {
            "text/plain": [
              "(TensorShape([]), ())"
            ]
          },
          "metadata": {},
          "execution_count": 9
        }
      ]
    },
    {
      "cell_type": "code",
      "source": [
        "plt.scatter(X,Y)"
      ],
      "metadata": {
        "colab": {
          "base_uri": "https://localhost:8080/",
          "height": 453
        },
        "id": "eKy7tq_Pee0l",
        "outputId": "79a882d0-f839-4021-b8ff-72771e03626a"
      },
      "execution_count": 10,
      "outputs": [
        {
          "output_type": "execute_result",
          "data": {
            "text/plain": [
              "<matplotlib.collections.PathCollection at 0x7d57209f8fa0>"
            ]
          },
          "metadata": {},
          "execution_count": 10
        },
        {
          "output_type": "display_data",
          "data": {
            "text/plain": [
              "<Figure size 640x480 with 1 Axes>"
            ],
            "image/png": "[encoded data removed]"
          },
          "metadata": {}
        }
      ]
    },
    {
      "cell_type": "markdown",
      "source": [
        "## Steps in modelling with Tensorflow\n",
        "1. Creating a model - defin theinput and output layers as well as the hidden layers of deep learning model.\n",
        "2. compiling a model - define the loss function(in other words , the function which tells our model how wrong it is) and\n",
        "the optimizer(tells our model how to improve the patterns its learning) and evaluate matrices ( what can we use to interpret the performance of our model).\n",
        "3. Fitting a  model - letting the model try to find patterns between X & Y(features and ladels)"
      ],
      "metadata": {
        "id": "M4mjDWXHftcJ"
      }
    },
    {
      "cell_type": "code",
      "source": [
        "\n",
        "# Set random.set_seed\n",
        "tf.random.set_seed(42)\n",
        "\n",
        "# 1. Create a model using the Sequential API\n",
        "model = tf.keras.Sequential([\n",
        "    tf.keras.layers.Dense(1)\n",
        "])\n",
        "\n",
        "# 2. Compile the model\n",
        "model.compile(loss=tf.keras.losses.mae, # mae = mean absulate error\n",
        "              optimizer=tf.keras.optimizers.SGD(), # sgd is short for stochachastic greadent descent\n",
        "              metrics=[\"mae\"])\n",
        "# 3. fit the model\n",
        "model.fit(tf.expand_dims(X,axis=-1), Y, epochs=50)"
      ],
      "metadata": {
        "colab": {
          "base_uri": "https://localhost:8080/"
        },
        "id": "n54iqbMVhFol",
        "outputId": "44ee75aa-94f5-4568-ee5b-58c1a8026458"
      },
      "execution_count": 11,
      "outputs": [
        {
          "output_type": "stream",
          "name": "stdout",
          "text": [
            "Epoch 1/50\n",
            "1/1 [==============================] - 1s 684ms/step - loss: 14.2453 - mae: 14.2453\n",
            "Epoch 2/50\n",
            "1/1 [==============================] - 0s 12ms/step - loss: 14.1128 - mae: 14.1128\n",
            "Epoch 3/50\n",
            "1/1 [==============================] - 0s 22ms/step - loss: 13.9803 - mae: 13.9803\n",
            "Epoch 4/50\n",
            "1/1 [==============================] - 0s 17ms/step - loss: 13.8478 - mae: 13.8478\n",
            "Epoch 5/50\n",
            "1/1 [==============================] - 0s 21ms/step - loss: 13.7153 - mae: 13.7153\n",
            "Epoch 6/50\n",
            "1/1 [==============================] - 0s 12ms/step - loss: 13.5828 - mae: 13.5828\n",
            "Epoch 7/50\n",
            "1/1 [==============================] - 0s 18ms/step - loss: 13.4503 - mae: 13.4503\n",
            "Epoch 8/50\n",
            "1/1 [==============================] - 0s 28ms/step - loss: 13.3178 - mae: 13.3178\n",
            "Epoch 9/50\n",
            "1/1 [==============================] - 0s 17ms/step - loss: 13.1853 - mae: 13.1853\n",
            "Epoch 10/50\n",
            "1/1 [==============================] - 0s 21ms/step - loss: 13.0528 - mae: 13.0528\n",
            "Epoch 11/50\n",
            "1/1 [==============================] - 0s 17ms/step - loss: 12.9203 - mae: 12.9203\n",
            "Epoch 12/50\n",
            "1/1 [==============================] - 0s 18ms/step - loss: 12.7878 - mae: 12.7878\n",
            "Epoch 13/50\n",
            "1/1 [==============================] - 0s 13ms/step - loss: 12.6553 - mae: 12.6553\n",
            "Epoch 14/50\n",
            "1/1 [==============================] - 0s 17ms/step - loss: 12.5228 - mae: 12.5228\n",
            "Epoch 15/50\n",
            "1/1 [==============================] - 0s 35ms/step - loss: 12.3903 - mae: 12.3903\n",
            "Epoch 16/50\n",
            "1/1 [==============================] - 0s 20ms/step - loss: 12.2578 - mae: 12.2578\n",
            "Epoch 17/50\n",
            "1/1 [==============================] - 0s 37ms/step - loss: 12.1253 - mae: 12.1253\n",
            "Epoch 18/50\n",
            "1/1 [==============================] - 0s 28ms/step - loss: 11.9928 - mae: 11.9928\n",
            "Epoch 19/50\n",
            "1/1 [==============================] - 0s 37ms/step - loss: 11.8603 - mae: 11.8603\n",
            "Epoch 20/50\n",
            "1/1 [==============================] - 0s 34ms/step - loss: 11.7278 - mae: 11.7278\n",
            "Epoch 21/50\n",
            "1/1 [==============================] - 0s 29ms/step - loss: 11.5953 - mae: 11.5953\n",
            "Epoch 22/50\n",
            "1/1 [==============================] - 0s 30ms/step - loss: 11.4628 - mae: 11.4628\n",
            "Epoch 23/50\n",
            "1/1 [==============================] - 0s 29ms/step - loss: 11.3303 - mae: 11.3303\n",
            "Epoch 24/50\n",
            "1/1 [==============================] - 0s 31ms/step - loss: 11.1978 - mae: 11.1978\n",
            "Epoch 25/50\n",
            "1/1 [==============================] - 0s 22ms/step - loss: 11.0653 - mae: 11.0653\n",
            "Epoch 26/50\n",
            "1/1 [==============================] - 0s 28ms/step - loss: 10.9328 - mae: 10.9328\n",
            "Epoch 27/50\n",
            "1/1 [==============================] - 0s 45ms/step - loss: 10.8003 - mae: 10.8003\n",
            "Epoch 28/50\n",
            "1/1 [==============================] - 0s 28ms/step - loss: 10.6678 - mae: 10.6678\n",
            "Epoch 29/50\n",
            "1/1 [==============================] - 0s 28ms/step - loss: 10.5353 - mae: 10.5353\n",
            "Epoch 30/50\n",
            "1/1 [==============================] - 0s 23ms/step - loss: 10.4028 - mae: 10.4028\n",
            "Epoch 31/50\n",
            "1/1 [==============================] - 0s 16ms/step - loss: 10.2703 - mae: 10.2703\n",
            "Epoch 32/50\n",
            "1/1 [==============================] - 0s 27ms/step - loss: 10.1378 - mae: 10.1378\n",
            "Epoch 33/50\n",
            "1/1 [==============================] - 0s 19ms/step - loss: 10.0053 - mae: 10.0053\n",
            "Epoch 34/50\n",
            "1/1 [==============================] - 0s 15ms/step - loss: 9.8728 - mae: 9.8728\n",
            "Epoch 35/50\n",
            "1/1 [==============================] - 0s 14ms/step - loss: 9.7403 - mae: 9.7403\n",
            "Epoch 36/50\n",
            "1/1 [==============================] - 0s 16ms/step - loss: 9.6078 - mae: 9.6078\n",
            "Epoch 37/50\n",
            "1/1 [==============================] - 0s 14ms/step - loss: 9.4753 - mae: 9.4753\n",
            "Epoch 38/50\n",
            "1/1 [==============================] - 0s 9ms/step - loss: 9.3428 - mae: 9.3428\n",
            "Epoch 39/50\n",
            "1/1 [==============================] - 0s 9ms/step - loss: 9.2103 - mae: 9.2103\n",
            "Epoch 40/50\n",
            "1/1 [==============================] - 0s 12ms/step - loss: 9.0778 - mae: 9.0778\n",
            "Epoch 41/50\n",
            "1/1 [==============================] - 0s 17ms/step - loss: 8.9453 - mae: 8.9453\n",
            "Epoch 42/50\n",
            "1/1 [==============================] - 0s 16ms/step - loss: 8.8128 - mae: 8.8128\n",
            "Epoch 43/50\n",
            "1/1 [==============================] - 0s 18ms/step - loss: 8.6803 - mae: 8.6803\n",
            "Epoch 44/50\n",
            "1/1 [==============================] - 0s 16ms/step - loss: 8.5478 - mae: 8.5478\n",
            "Epoch 45/50\n",
            "1/1 [==============================] - 0s 35ms/step - loss: 8.4153 - mae: 8.4153\n",
            "Epoch 46/50\n",
            "1/1 [==============================] - 0s 18ms/step - loss: 8.2828 - mae: 8.2828\n",
            "Epoch 47/50\n",
            "1/1 [==============================] - 0s 20ms/step - loss: 8.1503 - mae: 8.1503\n",
            "Epoch 48/50\n",
            "1/1 [==============================] - 0s 17ms/step - loss: 8.0178 - mae: 8.0178\n",
            "Epoch 49/50\n",
            "1/1 [==============================] - 0s 14ms/step - loss: 7.8853 - mae: 7.8853\n",
            "Epoch 50/50\n",
            "1/1 [==============================] - 0s 15ms/step - loss: 7.7528 - mae: 7.7528\n"
          ]
        },
        {
          "output_type": "execute_result",
          "data": {
            "text/plain": [
              "<keras.src.callbacks.History at 0x7d56eb9bc1c0>"
            ]
          },
          "metadata": {},
          "execution_count": 11
        }
      ]
    },
    {
      "cell_type": "code",
      "source": [
        "model.predict([17.0])"
      ],
      "metadata": {
        "colab": {
          "base_uri": "https://localhost:8080/"
        },
        "id": "eujvjY7plpEj",
        "outputId": "5a04b645-8367-4dd3-cc3c-52325c161ed1"
      },
      "execution_count": 12,
      "outputs": [
        {
          "output_type": "stream",
          "name": "stdout",
          "text": [
            "1/1 [==============================] - 0s 414ms/step\n"
          ]
        },
        {
          "output_type": "execute_result",
          "data": {
            "text/plain": [
              "array([[26.629803]], dtype=float32)"
            ]
          },
          "metadata": {},
          "execution_count": 12
        }
      ]
    },
    {
      "cell_type": "code",
      "source": [
        "y_pred = model.predict([17.0])\n",
        "y_pred"
      ],
      "metadata": {
        "colab": {
          "base_uri": "https://localhost:8080/"
        },
        "id": "tYpjYYSjlpzX",
        "outputId": "5bb06d91-eae2-46d5-b420-c3b3e63caa6e"
      },
      "execution_count": 13,
      "outputs": [
        {
          "output_type": "stream",
          "name": "stdout",
          "text": [
            "1/1 [==============================] - 0s 128ms/step\n"
          ]
        },
        {
          "output_type": "execute_result",
          "data": {
            "text/plain": [
              "array([[26.629803]], dtype=float32)"
            ]
          },
          "metadata": {},
          "execution_count": 13
        }
      ]
    },
    {
      "cell_type": "code",
      "source": [
        "y_pred + 17"
      ],
      "metadata": {
        "colab": {
          "base_uri": "https://localhost:8080/"
        },
        "id": "azwWG6LYs47I",
        "outputId": "23bd82a0-5655-46d1-cea5-04c4e03c6dbd"
      },
      "execution_count": 14,
      "outputs": [
        {
          "output_type": "execute_result",
          "data": {
            "text/plain": [
              "array([[43.629803]], dtype=float32)"
            ]
          },
          "metadata": {},
          "execution_count": 14
        }
      ]
    },
    {
      "cell_type": "markdown",
      "source": [
        "### Improving our model\n",
        "\n",
        "We can improve our model , by altering the steps to create a mobel\n",
        "\n",
        "1) **Createing a model** - here we might add more layers,\n",
        "increasing the number of hidden units(all called neurons)\n",
        "within each of the hidden layers, change the activation function of each layers,\n",
        "\n",
        "2) **Compiling a model** - Here we might change the optimization function or perhaps the **learning rate** of optimization function.\n",
        "\n",
        "3) **Fitting a model** - Here we might fit a model for more **epochs**"
      ],
      "metadata": {
        "id": "1FXDiOlVs9ii"
      }
    },
    {
      "cell_type": "code",
      "source": [
        "# Set random.set_seed\n",
        "tf.random.set_seed(42)\n",
        "\n",
        "# 1. Create a model using the Sequential API\n",
        "model = tf.keras.Sequential([\n",
        "    tf.keras.layers.Dense(1)\n",
        "])\n",
        "\n",
        "# 2. Compile the model\n",
        "model.compile(loss=tf.keras.losses.mae, # mae = mean absulate error\n",
        "              optimizer=tf.keras.optimizers.Adam(lr=0.01), # sgd is short for stochachastic greadent descent\n",
        "              metrics=[\"mae\"])\n",
        "# 3. fit the model\n",
        "model.fit(tf.expand_dims(X,axis=-1), Y, epochs=500)"
      ],
      "metadata": {
        "id": "R62D6u26tzw2",
        "colab": {
          "base_uri": "https://localhost:8080/"
        },
        "outputId": "6952aaea-1fcf-41c1-99a3-573e77cdeeab"
      },
      "execution_count": 15,
      "outputs": [
        {
          "output_type": "stream",
          "name": "stderr",
          "text": [
            "WARNING:absl:`lr` is deprecated in Keras optimizer, please use `learning_rate` or use the legacy optimizer, e.g.,tf.keras.optimizers.legacy.Adam.\n"
          ]
        },
        {
          "output_type": "stream",
          "name": "stdout",
          "text": [
            "Epoch 1/500\n",
            "1/1 [==============================] - 2s 2s/step - loss: 12.1423 - mae: 12.1423\n",
            "Epoch 2/500\n",
            "1/1 [==============================] - 0s 12ms/step - loss: 12.1378 - mae: 12.1378\n",
            "Epoch 3/500\n",
            "1/1 [==============================] - 0s 17ms/step - loss: 12.1333 - mae: 12.1333\n",
            "Epoch 4/500\n",
            "1/1 [==============================] - 0s 12ms/step - loss: 12.1288 - mae: 12.1288\n",
            "Epoch 5/500\n",
            "1/1 [==============================] - 0s 11ms/step - loss: 12.1243 - mae: 12.1243\n",
            "Epoch 6/500\n",
            "1/1 [==============================] - 0s 23ms/step - loss: 12.1198 - mae: 12.1198\n",
            "Epoch 7/500\n",
            "1/1 [==============================] - 0s 21ms/step - loss: 12.1153 - mae: 12.1153\n",
            "Epoch 8/500\n",
            "1/1 [==============================] - 0s 15ms/step - loss: 12.1108 - mae: 12.1108\n",
            "Epoch 9/500\n",
            "1/1 [==============================] - 0s 22ms/step - loss: 12.1063 - mae: 12.1063\n",
            "Epoch 10/500\n",
            "1/1 [==============================] - 0s 15ms/step - loss: 12.1018 - mae: 12.1018\n",
            "Epoch 11/500\n",
            "1/1 [==============================] - 0s 20ms/step - loss: 12.0973 - mae: 12.0973\n",
            "Epoch 12/500\n",
            "1/1 [==============================] - 0s 24ms/step - loss: 12.0928 - mae: 12.0928\n",
            "Epoch 13/500\n",
            "1/1 [==============================] - 0s 11ms/step - loss: 12.0883 - mae: 12.0883\n",
            "Epoch 14/500\n",
            "1/1 [==============================] - 0s 18ms/step - loss: 12.0838 - mae: 12.0838\n",
            "Epoch 15/500\n",
            "1/1 [==============================] - 0s 11ms/step - loss: 12.0793 - mae: 12.0793\n",
            "Epoch 16/500\n",
            "1/1 [==============================] - 0s 44ms/step - loss: 12.0748 - mae: 12.0748\n",
            "Epoch 17/500\n",
            "1/1 [==============================] - 0s 15ms/step - loss: 12.0703 - mae: 12.0703\n",
            "Epoch 18/500\n",
            "1/1 [==============================] - 0s 26ms/step - loss: 12.0658 - mae: 12.0658\n",
            "Epoch 19/500\n",
            "1/1 [==============================] - 0s 13ms/step - loss: 12.0613 - mae: 12.0613\n",
            "Epoch 20/500\n",
            "1/1 [==============================] - 0s 11ms/step - loss: 12.0568 - mae: 12.0568\n",
            "Epoch 21/500\n",
            "1/1 [==============================] - 0s 14ms/step - loss: 12.0523 - mae: 12.0523\n",
            "Epoch 22/500\n",
            "1/1 [==============================] - 0s 29ms/step - loss: 12.0478 - mae: 12.0478\n",
            "Epoch 23/500\n",
            "1/1 [==============================] - 0s 14ms/step - loss: 12.0433 - mae: 12.0433\n",
            "Epoch 24/500\n",
            "1/1 [==============================] - 0s 21ms/step - loss: 12.0388 - mae: 12.0388\n",
            "Epoch 25/500\n",
            "1/1 [==============================] - 0s 13ms/step - loss: 12.0343 - mae: 12.0343\n",
            "Epoch 26/500\n",
            "1/1 [==============================] - 0s 18ms/step - loss: 12.0298 - mae: 12.0298\n",
            "Epoch 27/500\n",
            "1/1 [==============================] - 0s 16ms/step - loss: 12.0253 - mae: 12.0253\n",
            "Epoch 28/500\n",
            "1/1 [==============================] - 0s 15ms/step - loss: 12.0208 - mae: 12.0208\n",
            "Epoch 29/500\n",
            "1/1 [==============================] - 0s 11ms/step - loss: 12.0163 - mae: 12.0163\n",
            "Epoch 30/500\n",
            "1/1 [==============================] - 0s 22ms/step - loss: 12.0118 - mae: 12.0118\n",
            "Epoch 31/500\n",
            "1/1 [==============================] - 0s 16ms/step - loss: 12.0073 - mae: 12.0073\n",
            "Epoch 32/500\n",
            "1/1 [==============================] - 0s 15ms/step - loss: 12.0028 - mae: 12.0028\n",
            "Epoch 33/500\n",
            "1/1 [==============================] - 0s 10ms/step - loss: 11.9983 - mae: 11.9983\n",
            "Epoch 34/500\n",
            "1/1 [==============================] - 0s 23ms/step - loss: 11.9938 - mae: 11.9938\n",
            "Epoch 35/500\n",
            "1/1 [==============================] - 0s 12ms/step - loss: 11.9893 - mae: 11.9893\n",
            "Epoch 36/500\n",
            "1/1 [==============================] - 0s 21ms/step - loss: 11.9848 - mae: 11.9848\n",
            "Epoch 37/500\n",
            "1/1 [==============================] - 0s 13ms/step - loss: 11.9803 - mae: 11.9803\n",
            "Epoch 38/500\n",
            "1/1 [==============================] - 0s 23ms/step - loss: 11.9758 - mae: 11.9758\n",
            "Epoch 39/500\n",
            "1/1 [==============================] - 0s 17ms/step - loss: 11.9713 - mae: 11.9713\n",
            "Epoch 40/500\n",
            "1/1 [==============================] - 0s 19ms/step - loss: 11.9668 - mae: 11.9668\n",
            "Epoch 41/500\n",
            "1/1 [==============================] - 0s 13ms/step - loss: 11.9623 - mae: 11.9623\n",
            "Epoch 42/500\n",
            "1/1 [==============================] - 0s 13ms/step - loss: 11.9578 - mae: 11.9578\n",
            "Epoch 43/500\n",
            "1/1 [==============================] - 0s 12ms/step - loss: 11.9533 - mae: 11.9533\n",
            "Epoch 44/500\n",
            "1/1 [==============================] - 0s 12ms/step - loss: 11.9488 - mae: 11.9488\n",
            "Epoch 45/500\n",
            "1/1 [==============================] - 0s 12ms/step - loss: 11.9443 - mae: 11.9443\n",
            "Epoch 46/500\n",
            "1/1 [==============================] - 0s 12ms/step - loss: 11.9398 - mae: 11.9398\n",
            "Epoch 47/500\n",
            "1/1 [==============================] - 0s 16ms/step - loss: 11.9353 - mae: 11.9353\n",
            "Epoch 48/500\n",
            "1/1 [==============================] - 0s 11ms/step - loss: 11.9308 - mae: 11.9308\n",
            "Epoch 49/500\n",
            "1/1 [==============================] - 0s 10ms/step - loss: 11.9263 - mae: 11.9263\n",
            "Epoch 50/500\n",
            "1/1 [==============================] - 0s 13ms/step - loss: 11.9218 - mae: 11.9218\n",
            "Epoch 51/500\n",
            "1/1 [==============================] - 0s 13ms/step - loss: 11.9173 - mae: 11.9173\n",
            "Epoch 52/500\n",
            "1/1 [==============================] - 0s 18ms/step - loss: 11.9128 - mae: 11.9128\n",
            "Epoch 53/500\n",
            "1/1 [==============================] - 0s 14ms/step - loss: 11.9083 - mae: 11.9083\n",
            "Epoch 54/500\n",
            "1/1 [==============================] - 0s 13ms/step - loss: 11.9038 - mae: 11.9038\n",
            "Epoch 55/500\n",
            "1/1 [==============================] - 0s 13ms/step - loss: 11.8993 - mae: 11.8993\n",
            "Epoch 56/500\n",
            "1/1 [==============================] - 0s 14ms/step - loss: 11.8948 - mae: 11.8948\n",
            "Epoch 57/500\n",
            "1/1 [==============================] - 0s 13ms/step - loss: 11.8903 - mae: 11.8903\n",
            "Epoch 58/500\n",
            "1/1 [==============================] - 0s 12ms/step - loss: 11.8858 - mae: 11.8858\n",
            "Epoch 59/500\n",
            "1/1 [==============================] - 0s 18ms/step - loss: 11.8813 - mae: 11.8813\n",
            "Epoch 60/500\n",
            "1/1 [==============================] - 0s 12ms/step - loss: 11.8768 - mae: 11.8768\n",
            "Epoch 61/500\n",
            "1/1 [==============================] - 0s 13ms/step - loss: 11.8723 - mae: 11.8723\n",
            "Epoch 62/500\n",
            "1/1 [==============================] - 0s 14ms/step - loss: 11.8678 - mae: 11.8678\n",
            "Epoch 63/500\n",
            "1/1 [==============================] - 0s 14ms/step - loss: 11.8633 - mae: 11.8633\n",
            "Epoch 64/500\n",
            "1/1 [==============================] - 0s 23ms/step - loss: 11.8588 - mae: 11.8588\n",
            "Epoch 65/500\n",
            "1/1 [==============================] - 0s 12ms/step - loss: 11.8543 - mae: 11.8543\n",
            "Epoch 66/500\n",
            "1/1 [==============================] - 0s 12ms/step - loss: 11.8498 - mae: 11.8498\n",
            "Epoch 67/500\n",
            "1/1 [==============================] - 0s 16ms/step - loss: 11.8453 - mae: 11.8453\n",
            "Epoch 68/500\n",
            "1/1 [==============================] - 0s 13ms/step - loss: 11.8408 - mae: 11.8408\n",
            "Epoch 69/500\n",
            "1/1 [==============================] - 0s 13ms/step - loss: 11.8363 - mae: 11.8363\n",
            "Epoch 70/500\n",
            "1/1 [==============================] - 0s 17ms/step - loss: 11.8318 - mae: 11.8318\n",
            "Epoch 71/500\n",
            "1/1 [==============================] - 0s 10ms/step - loss: 11.8273 - mae: 11.8273\n",
            "Epoch 72/500\n",
            "1/1 [==============================] - 0s 28ms/step - loss: 11.8228 - mae: 11.8228\n",
            "Epoch 73/500\n",
            "1/1 [==============================] - 0s 13ms/step - loss: 11.8183 - mae: 11.8183\n",
            "Epoch 74/500\n",
            "1/1 [==============================] - 0s 13ms/step - loss: 11.8138 - mae: 11.8138\n",
            "Epoch 75/500\n",
            "1/1 [==============================] - 0s 15ms/step - loss: 11.8093 - mae: 11.8093\n",
            "Epoch 76/500\n",
            "1/1 [==============================] - 0s 11ms/step - loss: 11.8048 - mae: 11.8048\n",
            "Epoch 77/500\n",
            "1/1 [==============================] - 0s 12ms/step - loss: 11.8003 - mae: 11.8003\n",
            "Epoch 78/500\n",
            "1/1 [==============================] - 0s 12ms/step - loss: 11.7958 - mae: 11.7958\n",
            "Epoch 79/500\n",
            "1/1 [==============================] - 0s 11ms/step - loss: 11.7913 - mae: 11.7913\n",
            "Epoch 80/500\n",
            "1/1 [==============================] - 0s 10ms/step - loss: 11.7868 - mae: 11.7868\n",
            "Epoch 81/500\n",
            "1/1 [==============================] - 0s 19ms/step - loss: 11.7823 - mae: 11.7823\n",
            "Epoch 82/500\n",
            "1/1 [==============================] - 0s 13ms/step - loss: 11.7778 - mae: 11.7778\n",
            "Epoch 83/500\n",
            "1/1 [==============================] - 0s 13ms/step - loss: 11.7733 - mae: 11.7733\n",
            "Epoch 84/500\n",
            "1/1 [==============================] - 0s 15ms/step - loss: 11.7688 - mae: 11.7688\n",
            "Epoch 85/500\n",
            "1/1 [==============================] - 0s 14ms/step - loss: 11.7643 - mae: 11.7643\n",
            "Epoch 86/500\n",
            "1/1 [==============================] - 0s 13ms/step - loss: 11.7598 - mae: 11.7598\n",
            "Epoch 87/500\n",
            "1/1 [==============================] - 0s 12ms/step - loss: 11.7553 - mae: 11.7553\n",
            "Epoch 88/500\n",
            "1/1 [==============================] - 0s 17ms/step - loss: 11.7508 - mae: 11.7508\n",
            "Epoch 89/500\n",
            "1/1 [==============================] - 0s 12ms/step - loss: 11.7463 - mae: 11.7463\n",
            "Epoch 90/500\n",
            "1/1 [==============================] - 0s 29ms/step - loss: 11.7418 - mae: 11.7418\n",
            "Epoch 91/500\n",
            "1/1 [==============================] - 0s 12ms/step - loss: 11.7373 - mae: 11.7373\n",
            "Epoch 92/500\n",
            "1/1 [==============================] - 0s 11ms/step - loss: 11.7328 - mae: 11.7328\n",
            "Epoch 93/500\n",
            "1/1 [==============================] - 0s 11ms/step - loss: 11.7283 - mae: 11.7283\n",
            "Epoch 94/500\n",
            "1/1 [==============================] - 0s 11ms/step - loss: 11.7238 - mae: 11.7238\n",
            "Epoch 95/500\n",
            "1/1 [==============================] - 0s 11ms/step - loss: 11.7193 - mae: 11.7193\n",
            "Epoch 96/500\n",
            "1/1 [==============================] - 0s 11ms/step - loss: 11.7148 - mae: 11.7148\n",
            "Epoch 97/500\n",
            "1/1 [==============================] - 0s 12ms/step - loss: 11.7103 - mae: 11.7103\n",
            "Epoch 98/500\n",
            "1/1 [==============================] - 0s 11ms/step - loss: 11.7058 - mae: 11.7058\n",
            "Epoch 99/500\n",
            "1/1 [==============================] - 0s 11ms/step - loss: 11.7013 - mae: 11.7013\n",
            "Epoch 100/500\n",
            "1/1 [==============================] - 0s 16ms/step - loss: 11.6968 - mae: 11.6968\n",
            "Epoch 101/500\n",
            "1/1 [==============================] - 0s 12ms/step - loss: 11.6923 - mae: 11.6923\n",
            "Epoch 102/500\n",
            "1/1 [==============================] - 0s 11ms/step - loss: 11.6878 - mae: 11.6878\n",
            "Epoch 103/500\n",
            "1/1 [==============================] - 0s 15ms/step - loss: 11.6833 - mae: 11.6833\n",
            "Epoch 104/500\n",
            "1/1 [==============================] - 0s 11ms/step - loss: 11.6788 - mae: 11.6788\n",
            "Epoch 105/500\n",
            "1/1 [==============================] - 0s 11ms/step - loss: 11.6743 - mae: 11.6743\n",
            "Epoch 106/500\n",
            "1/1 [==============================] - 0s 11ms/step - loss: 11.6698 - mae: 11.6698\n",
            "Epoch 107/500\n",
            "1/1 [==============================] - 0s 10ms/step - loss: 11.6653 - mae: 11.6653\n",
            "Epoch 108/500\n",
            "1/1 [==============================] - 0s 11ms/step - loss: 11.6608 - mae: 11.6608\n",
            "Epoch 109/500\n",
            "1/1 [==============================] - 0s 10ms/step - loss: 11.6563 - mae: 11.6563\n",
            "Epoch 110/500\n",
            "1/1 [==============================] - 0s 11ms/step - loss: 11.6518 - mae: 11.6518\n",
            "Epoch 111/500\n",
            "1/1 [==============================] - 0s 12ms/step - loss: 11.6473 - mae: 11.6473\n",
            "Epoch 112/500\n",
            "1/1 [==============================] - 0s 12ms/step - loss: 11.6428 - mae: 11.6428\n",
            "Epoch 113/500\n",
            "1/1 [==============================] - 0s 12ms/step - loss: 11.6383 - mae: 11.6383\n",
            "Epoch 114/500\n",
            "1/1 [==============================] - 0s 11ms/step - loss: 11.6338 - mae: 11.6338\n",
            "Epoch 115/500\n",
            "1/1 [==============================] - 0s 13ms/step - loss: 11.6293 - mae: 11.6293\n",
            "Epoch 116/500\n",
            "1/1 [==============================] - 0s 12ms/step - loss: 11.6248 - mae: 11.6248\n",
            "Epoch 117/500\n",
            "1/1 [==============================] - 0s 12ms/step - loss: 11.6203 - mae: 11.6203\n",
            "Epoch 118/500\n",
            "1/1 [==============================] - 0s 20ms/step - loss: 11.6158 - mae: 11.6158\n",
            "Epoch 119/500\n",
            "1/1 [==============================] - 0s 20ms/step - loss: 11.6113 - mae: 11.6113\n",
            "Epoch 120/500\n",
            "1/1 [==============================] - 0s 15ms/step - loss: 11.6068 - mae: 11.6068\n",
            "Epoch 121/500\n",
            "1/1 [==============================] - 0s 11ms/step - loss: 11.6023 - mae: 11.6023\n",
            "Epoch 122/500\n",
            "1/1 [==============================] - 0s 10ms/step - loss: 11.5978 - mae: 11.5978\n",
            "Epoch 123/500\n",
            "1/1 [==============================] - 0s 11ms/step - loss: 11.5933 - mae: 11.5933\n",
            "Epoch 124/500\n",
            "1/1 [==============================] - 0s 12ms/step - loss: 11.5888 - mae: 11.5888\n",
            "Epoch 125/500\n",
            "1/1 [==============================] - 0s 12ms/step - loss: 11.5843 - mae: 11.5843\n",
            "Epoch 126/500\n",
            "1/1 [==============================] - 0s 15ms/step - loss: 11.5798 - mae: 11.5798\n",
            "Epoch 127/500\n",
            "1/1 [==============================] - 0s 12ms/step - loss: 11.5753 - mae: 11.5753\n",
            "Epoch 128/500\n",
            "1/1 [==============================] - 0s 16ms/step - loss: 11.5708 - mae: 11.5708\n",
            "Epoch 129/500\n",
            "1/1 [==============================] - 0s 11ms/step - loss: 11.5663 - mae: 11.5663\n",
            "Epoch 130/500\n",
            "1/1 [==============================] - 0s 12ms/step - loss: 11.5618 - mae: 11.5618\n",
            "Epoch 131/500\n",
            "1/1 [==============================] - 0s 22ms/step - loss: 11.5573 - mae: 11.5573\n",
            "Epoch 132/500\n",
            "1/1 [==============================] - 0s 12ms/step - loss: 11.5528 - mae: 11.5528\n",
            "Epoch 133/500\n",
            "1/1 [==============================] - 0s 11ms/step - loss: 11.5483 - mae: 11.5483\n",
            "Epoch 134/500\n",
            "1/1 [==============================] - 0s 10ms/step - loss: 11.5438 - mae: 11.5438\n",
            "Epoch 135/500\n",
            "1/1 [==============================] - 0s 11ms/step - loss: 11.5393 - mae: 11.5393\n",
            "Epoch 136/500\n",
            "1/1 [==============================] - 0s 15ms/step - loss: 11.5348 - mae: 11.5348\n",
            "Epoch 137/500\n",
            "1/1 [==============================] - 0s 13ms/step - loss: 11.5303 - mae: 11.5303\n",
            "Epoch 138/500\n",
            "1/1 [==============================] - 0s 11ms/step - loss: 11.5258 - mae: 11.5258\n",
            "Epoch 139/500\n",
            "1/1 [==============================] - 0s 24ms/step - loss: 11.5213 - mae: 11.5213\n",
            "Epoch 140/500\n",
            "1/1 [==============================] - 0s 15ms/step - loss: 11.5168 - mae: 11.5168\n",
            "Epoch 141/500\n",
            "1/1 [==============================] - 0s 20ms/step - loss: 11.5123 - mae: 11.5123\n",
            "Epoch 142/500\n",
            "1/1 [==============================] - 0s 15ms/step - loss: 11.5078 - mae: 11.5078\n",
            "Epoch 143/500\n",
            "1/1 [==============================] - 0s 15ms/step - loss: 11.5033 - mae: 11.5033\n",
            "Epoch 144/500\n",
            "1/1 [==============================] - 0s 16ms/step - loss: 11.4988 - mae: 11.4988\n",
            "Epoch 145/500\n",
            "1/1 [==============================] - 0s 15ms/step - loss: 11.4943 - mae: 11.4943\n",
            "Epoch 146/500\n",
            "1/1 [==============================] - 0s 13ms/step - loss: 11.4898 - mae: 11.4898\n",
            "Epoch 147/500\n",
            "1/1 [==============================] - 0s 11ms/step - loss: 11.4853 - mae: 11.4853\n",
            "Epoch 148/500\n",
            "1/1 [==============================] - 0s 11ms/step - loss: 11.4808 - mae: 11.4808\n",
            "Epoch 149/500\n",
            "1/1 [==============================] - 0s 30ms/step - loss: 11.4763 - mae: 11.4763\n",
            "Epoch 150/500\n",
            "1/1 [==============================] - 0s 11ms/step - loss: 11.4718 - mae: 11.4718\n",
            "Epoch 151/500\n",
            "1/1 [==============================] - 0s 11ms/step - loss: 11.4673 - mae: 11.4673\n",
            "Epoch 152/500\n",
            "1/1 [==============================] - 0s 14ms/step - loss: 11.4628 - mae: 11.4628\n",
            "Epoch 153/500\n",
            "1/1 [==============================] - 0s 17ms/step - loss: 11.4583 - mae: 11.4583\n",
            "Epoch 154/500\n",
            "1/1 [==============================] - 0s 19ms/step - loss: 11.4538 - mae: 11.4538\n",
            "Epoch 155/500\n",
            "1/1 [==============================] - 0s 13ms/step - loss: 11.4493 - mae: 11.4493\n",
            "Epoch 156/500\n",
            "1/1 [==============================] - 0s 12ms/step - loss: 11.4448 - mae: 11.4448\n",
            "Epoch 157/500\n",
            "1/1 [==============================] - 0s 49ms/step - loss: 11.4403 - mae: 11.4403\n",
            "Epoch 158/500\n",
            "1/1 [==============================] - 0s 29ms/step - loss: 11.4358 - mae: 11.4358\n",
            "Epoch 159/500\n",
            "1/1 [==============================] - 0s 20ms/step - loss: 11.4313 - mae: 11.4313\n",
            "Epoch 160/500\n",
            "1/1 [==============================] - 0s 17ms/step - loss: 11.4268 - mae: 11.4268\n",
            "Epoch 161/500\n",
            "1/1 [==============================] - 0s 23ms/step - loss: 11.4223 - mae: 11.4223\n",
            "Epoch 162/500\n",
            "1/1 [==============================] - 0s 19ms/step - loss: 11.4178 - mae: 11.4178\n",
            "Epoch 163/500\n",
            "1/1 [==============================] - 0s 14ms/step - loss: 11.4133 - mae: 11.4133\n",
            "Epoch 164/500\n",
            "1/1 [==============================] - 0s 15ms/step - loss: 11.4088 - mae: 11.4088\n",
            "Epoch 165/500\n",
            "1/1 [==============================] - 0s 17ms/step - loss: 11.4043 - mae: 11.4043\n",
            "Epoch 166/500\n",
            "1/1 [==============================] - 0s 24ms/step - loss: 11.3998 - mae: 11.3998\n",
            "Epoch 167/500\n",
            "1/1 [==============================] - 0s 35ms/step - loss: 11.3953 - mae: 11.3953\n",
            "Epoch 168/500\n",
            "1/1 [==============================] - 0s 16ms/step - loss: 11.3908 - mae: 11.3908\n",
            "Epoch 169/500\n",
            "1/1 [==============================] - 0s 16ms/step - loss: 11.3863 - mae: 11.3863\n",
            "Epoch 170/500\n",
            "1/1 [==============================] - 0s 15ms/step - loss: 11.3818 - mae: 11.3818\n",
            "Epoch 171/500\n",
            "1/1 [==============================] - 0s 14ms/step - loss: 11.3773 - mae: 11.3773\n",
            "Epoch 172/500\n",
            "1/1 [==============================] - 0s 14ms/step - loss: 11.3728 - mae: 11.3728\n",
            "Epoch 173/500\n",
            "1/1 [==============================] - 0s 13ms/step - loss: 11.3683 - mae: 11.3683\n",
            "Epoch 174/500\n",
            "1/1 [==============================] - 0s 14ms/step - loss: 11.3638 - mae: 11.3638\n",
            "Epoch 175/500\n",
            "1/1 [==============================] - 0s 15ms/step - loss: 11.3593 - mae: 11.3593\n",
            "Epoch 176/500\n",
            "1/1 [==============================] - 0s 12ms/step - loss: 11.3548 - mae: 11.3548\n",
            "Epoch 177/500\n",
            "1/1 [==============================] - 0s 13ms/step - loss: 11.3503 - mae: 11.3503\n",
            "Epoch 178/500\n",
            "1/1 [==============================] - 0s 13ms/step - loss: 11.3458 - mae: 11.3458\n",
            "Epoch 179/500\n",
            "1/1 [==============================] - 0s 14ms/step - loss: 11.3413 - mae: 11.3413\n",
            "Epoch 180/500\n",
            "1/1 [==============================] - 0s 13ms/step - loss: 11.3368 - mae: 11.3368\n",
            "Epoch 181/500\n",
            "1/1 [==============================] - 0s 17ms/step - loss: 11.3323 - mae: 11.3323\n",
            "Epoch 182/500\n",
            "1/1 [==============================] - 0s 18ms/step - loss: 11.3278 - mae: 11.3278\n",
            "Epoch 183/500\n",
            "1/1 [==============================] - 0s 19ms/step - loss: 11.3233 - mae: 11.3233\n",
            "Epoch 184/500\n",
            "1/1 [==============================] - 0s 15ms/step - loss: 11.3188 - mae: 11.3188\n",
            "Epoch 185/500\n",
            "1/1 [==============================] - 0s 17ms/step - loss: 11.3143 - mae: 11.3143\n",
            "Epoch 186/500\n",
            "1/1 [==============================] - 0s 24ms/step - loss: 11.3098 - mae: 11.3098\n",
            "Epoch 187/500\n",
            "1/1 [==============================] - 0s 15ms/step - loss: 11.3053 - mae: 11.3053\n",
            "Epoch 188/500\n",
            "1/1 [==============================] - 0s 27ms/step - loss: 11.3008 - mae: 11.3008\n",
            "Epoch 189/500\n",
            "1/1 [==============================] - 0s 20ms/step - loss: 11.2963 - mae: 11.2963\n",
            "Epoch 190/500\n",
            "1/1 [==============================] - 0s 14ms/step - loss: 11.2918 - mae: 11.2918\n",
            "Epoch 191/500\n",
            "1/1 [==============================] - 0s 16ms/step - loss: 11.2873 - mae: 11.2873\n",
            "Epoch 192/500\n",
            "1/1 [==============================] - 0s 16ms/step - loss: 11.2828 - mae: 11.2828\n",
            "Epoch 193/500\n",
            "1/1 [==============================] - 0s 20ms/step - loss: 11.2783 - mae: 11.2783\n",
            "Epoch 194/500\n",
            "1/1 [==============================] - 0s 16ms/step - loss: 11.2738 - mae: 11.2738\n",
            "Epoch 195/500\n",
            "1/1 [==============================] - 0s 15ms/step - loss: 11.2693 - mae: 11.2693\n",
            "Epoch 196/500\n",
            "1/1 [==============================] - 0s 15ms/step - loss: 11.2648 - mae: 11.2648\n",
            "Epoch 197/500\n",
            "1/1 [==============================] - 0s 18ms/step - loss: 11.2603 - mae: 11.2603\n",
            "Epoch 198/500\n",
            "1/1 [==============================] - 0s 24ms/step - loss: 11.2558 - mae: 11.2558\n",
            "Epoch 199/500\n",
            "1/1 [==============================] - 0s 33ms/step - loss: 11.2513 - mae: 11.2513\n",
            "Epoch 200/500\n",
            "1/1 [==============================] - 0s 15ms/step - loss: 11.2468 - mae: 11.2468\n",
            "Epoch 201/500\n",
            "1/1 [==============================] - 0s 23ms/step - loss: 11.2423 - mae: 11.2423\n",
            "Epoch 202/500\n",
            "1/1 [==============================] - 0s 28ms/step - loss: 11.2378 - mae: 11.2378\n",
            "Epoch 203/500\n",
            "1/1 [==============================] - 0s 21ms/step - loss: 11.2333 - mae: 11.2333\n",
            "Epoch 204/500\n",
            "1/1 [==============================] - 0s 27ms/step - loss: 11.2288 - mae: 11.2288\n",
            "Epoch 205/500\n",
            "1/1 [==============================] - 0s 17ms/step - loss: 11.2243 - mae: 11.2243\n",
            "Epoch 206/500\n",
            "1/1 [==============================] - 0s 18ms/step - loss: 11.2198 - mae: 11.2198\n",
            "Epoch 207/500\n",
            "1/1 [==============================] - 0s 22ms/step - loss: 11.2153 - mae: 11.2153\n",
            "Epoch 208/500\n",
            "1/1 [==============================] - 0s 21ms/step - loss: 11.2108 - mae: 11.2108\n",
            "Epoch 209/500\n",
            "1/1 [==============================] - 0s 15ms/step - loss: 11.2063 - mae: 11.2063\n",
            "Epoch 210/500\n",
            "1/1 [==============================] - 0s 21ms/step - loss: 11.2018 - mae: 11.2018\n",
            "Epoch 211/500\n",
            "1/1 [==============================] - 0s 17ms/step - loss: 11.1973 - mae: 11.1973\n",
            "Epoch 212/500\n",
            "1/1 [==============================] - 0s 14ms/step - loss: 11.1928 - mae: 11.1928\n",
            "Epoch 213/500\n",
            "1/1 [==============================] - 0s 14ms/step - loss: 11.1883 - mae: 11.1883\n",
            "Epoch 214/500\n",
            "1/1 [==============================] - 0s 13ms/step - loss: 11.1838 - mae: 11.1838\n",
            "Epoch 215/500\n",
            "1/1 [==============================] - 0s 15ms/step - loss: 11.1793 - mae: 11.1793\n",
            "Epoch 216/500\n",
            "1/1 [==============================] - 0s 14ms/step - loss: 11.1748 - mae: 11.1748\n",
            "Epoch 217/500\n",
            "1/1 [==============================] - 0s 14ms/step - loss: 11.1703 - mae: 11.1703\n",
            "Epoch 218/500\n",
            "1/1 [==============================] - 0s 15ms/step - loss: 11.1658 - mae: 11.1658\n",
            "Epoch 219/500\n",
            "1/1 [==============================] - 0s 15ms/step - loss: 11.1613 - mae: 11.1613\n",
            "Epoch 220/500\n",
            "1/1 [==============================] - 0s 16ms/step - loss: 11.1568 - mae: 11.1568\n",
            "Epoch 221/500\n",
            "1/1 [==============================] - 0s 13ms/step - loss: 11.1523 - mae: 11.1523\n",
            "Epoch 222/500\n",
            "1/1 [==============================] - 0s 13ms/step - loss: 11.1478 - mae: 11.1478\n",
            "Epoch 223/500\n",
            "1/1 [==============================] - 0s 19ms/step - loss: 11.1433 - mae: 11.1433\n",
            "Epoch 224/500\n",
            "1/1 [==============================] - 0s 19ms/step - loss: 11.1388 - mae: 11.1388\n",
            "Epoch 225/500\n",
            "1/1 [==============================] - 0s 15ms/step - loss: 11.1343 - mae: 11.1343\n",
            "Epoch 226/500\n",
            "1/1 [==============================] - 0s 26ms/step - loss: 11.1298 - mae: 11.1298\n",
            "Epoch 227/500\n",
            "1/1 [==============================] - 0s 13ms/step - loss: 11.1253 - mae: 11.1253\n",
            "Epoch 228/500\n",
            "1/1 [==============================] - 0s 13ms/step - loss: 11.1208 - mae: 11.1208\n",
            "Epoch 229/500\n",
            "1/1 [==============================] - 0s 15ms/step - loss: 11.1163 - mae: 11.1163\n",
            "Epoch 230/500\n",
            "1/1 [==============================] - 0s 13ms/step - loss: 11.1118 - mae: 11.1118\n",
            "Epoch 231/500\n",
            "1/1 [==============================] - 0s 15ms/step - loss: 11.1073 - mae: 11.1073\n",
            "Epoch 232/500\n",
            "1/1 [==============================] - 0s 26ms/step - loss: 11.1028 - mae: 11.1028\n",
            "Epoch 233/500\n",
            "1/1 [==============================] - 0s 26ms/step - loss: 11.0983 - mae: 11.0983\n",
            "Epoch 234/500\n",
            "1/1 [==============================] - 0s 24ms/step - loss: 11.0938 - mae: 11.0938\n",
            "Epoch 235/500\n",
            "1/1 [==============================] - 0s 14ms/step - loss: 11.0893 - mae: 11.0893\n",
            "Epoch 236/500\n",
            "1/1 [==============================] - 0s 21ms/step - loss: 11.0848 - mae: 11.0848\n",
            "Epoch 237/500\n",
            "1/1 [==============================] - 0s 26ms/step - loss: 11.0803 - mae: 11.0803\n",
            "Epoch 238/500\n",
            "1/1 [==============================] - 0s 29ms/step - loss: 11.0758 - mae: 11.0758\n",
            "Epoch 239/500\n",
            "1/1 [==============================] - 0s 19ms/step - loss: 11.0713 - mae: 11.0713\n",
            "Epoch 240/500\n",
            "1/1 [==============================] - 0s 30ms/step - loss: 11.0668 - mae: 11.0668\n",
            "Epoch 241/500\n",
            "1/1 [==============================] - 0s 26ms/step - loss: 11.0623 - mae: 11.0623\n",
            "Epoch 242/500\n",
            "1/1 [==============================] - 0s 21ms/step - loss: 11.0578 - mae: 11.0578\n",
            "Epoch 243/500\n",
            "1/1 [==============================] - 0s 14ms/step - loss: 11.0533 - mae: 11.0533\n",
            "Epoch 244/500\n",
            "1/1 [==============================] - 0s 20ms/step - loss: 11.0488 - mae: 11.0488\n",
            "Epoch 245/500\n",
            "1/1 [==============================] - 0s 14ms/step - loss: 11.0443 - mae: 11.0443\n",
            "Epoch 246/500\n",
            "1/1 [==============================] - 0s 24ms/step - loss: 11.0398 - mae: 11.0398\n",
            "Epoch 247/500\n",
            "1/1 [==============================] - 0s 15ms/step - loss: 11.0353 - mae: 11.0353\n",
            "Epoch 248/500\n",
            "1/1 [==============================] - 0s 15ms/step - loss: 11.0308 - mae: 11.0308\n",
            "Epoch 249/500\n",
            "1/1 [==============================] - 0s 56ms/step - loss: 11.0263 - mae: 11.0263\n",
            "Epoch 250/500\n",
            "1/1 [==============================] - 0s 27ms/step - loss: 11.0218 - mae: 11.0218\n",
            "Epoch 251/500\n",
            "1/1 [==============================] - 0s 23ms/step - loss: 11.0173 - mae: 11.0173\n",
            "Epoch 252/500\n",
            "1/1 [==============================] - 0s 21ms/step - loss: 11.0128 - mae: 11.0128\n",
            "Epoch 253/500\n",
            "1/1 [==============================] - 0s 17ms/step - loss: 11.0083 - mae: 11.0083\n",
            "Epoch 254/500\n",
            "1/1 [==============================] - 0s 15ms/step - loss: 11.0038 - mae: 11.0038\n",
            "Epoch 255/500\n",
            "1/1 [==============================] - 0s 15ms/step - loss: 10.9993 - mae: 10.9993\n",
            "Epoch 256/500\n",
            "1/1 [==============================] - 0s 14ms/step - loss: 10.9948 - mae: 10.9948\n",
            "Epoch 257/500\n",
            "1/1 [==============================] - 0s 15ms/step - loss: 10.9903 - mae: 10.9903\n",
            "Epoch 258/500\n",
            "1/1 [==============================] - 0s 20ms/step - loss: 10.9858 - mae: 10.9858\n",
            "Epoch 259/500\n",
            "1/1 [==============================] - 0s 17ms/step - loss: 10.9813 - mae: 10.9813\n",
            "Epoch 260/500\n",
            "1/1 [==============================] - 0s 17ms/step - loss: 10.9768 - mae: 10.9768\n",
            "Epoch 261/500\n",
            "1/1 [==============================] - 0s 33ms/step - loss: 10.9723 - mae: 10.9723\n",
            "Epoch 262/500\n",
            "1/1 [==============================] - 0s 27ms/step - loss: 10.9678 - mae: 10.9678\n",
            "Epoch 263/500\n",
            "1/1 [==============================] - 0s 17ms/step - loss: 10.9633 - mae: 10.9633\n",
            "Epoch 264/500\n",
            "1/1 [==============================] - 0s 17ms/step - loss: 10.9588 - mae: 10.9588\n",
            "Epoch 265/500\n",
            "1/1 [==============================] - 0s 17ms/step - loss: 10.9543 - mae: 10.9543\n",
            "Epoch 266/500\n",
            "1/1 [==============================] - 0s 23ms/step - loss: 10.9498 - mae: 10.9498\n",
            "Epoch 267/500\n",
            "1/1 [==============================] - 0s 14ms/step - loss: 10.9453 - mae: 10.9453\n",
            "Epoch 268/500\n",
            "1/1 [==============================] - 0s 13ms/step - loss: 10.9408 - mae: 10.9408\n",
            "Epoch 269/500\n",
            "1/1 [==============================] - 0s 17ms/step - loss: 10.9363 - mae: 10.9363\n",
            "Epoch 270/500\n",
            "1/1 [==============================] - 0s 26ms/step - loss: 10.9318 - mae: 10.9318\n",
            "Epoch 271/500\n",
            "1/1 [==============================] - 0s 20ms/step - loss: 10.9273 - mae: 10.9273\n",
            "Epoch 272/500\n",
            "1/1 [==============================] - 0s 27ms/step - loss: 10.9228 - mae: 10.9228\n",
            "Epoch 273/500\n",
            "1/1 [==============================] - 0s 23ms/step - loss: 10.9183 - mae: 10.9183\n",
            "Epoch 274/500\n",
            "1/1 [==============================] - 0s 23ms/step - loss: 10.9138 - mae: 10.9138\n",
            "Epoch 275/500\n",
            "1/1 [==============================] - 0s 17ms/step - loss: 10.9093 - mae: 10.9093\n",
            "Epoch 276/500\n",
            "1/1 [==============================] - 0s 23ms/step - loss: 10.9048 - mae: 10.9048\n",
            "Epoch 277/500\n",
            "1/1 [==============================] - 0s 20ms/step - loss: 10.9003 - mae: 10.9003\n",
            "Epoch 278/500\n",
            "1/1 [==============================] - 0s 16ms/step - loss: 10.8958 - mae: 10.8958\n",
            "Epoch 279/500\n",
            "1/1 [==============================] - 0s 15ms/step - loss: 10.8913 - mae: 10.8913\n",
            "Epoch 280/500\n",
            "1/1 [==============================] - 0s 14ms/step - loss: 10.8868 - mae: 10.8868\n",
            "Epoch 281/500\n",
            "1/1 [==============================] - 0s 49ms/step - loss: 10.8823 - mae: 10.8823\n",
            "Epoch 282/500\n",
            "1/1 [==============================] - 0s 15ms/step - loss: 10.8778 - mae: 10.8778\n",
            "Epoch 283/500\n",
            "1/1 [==============================] - 0s 25ms/step - loss: 10.8733 - mae: 10.8733\n",
            "Epoch 284/500\n",
            "1/1 [==============================] - 0s 15ms/step - loss: 10.8688 - mae: 10.8688\n",
            "Epoch 285/500\n",
            "1/1 [==============================] - 0s 16ms/step - loss: 10.8643 - mae: 10.8643\n",
            "Epoch 286/500\n",
            "1/1 [==============================] - 0s 15ms/step - loss: 10.8598 - mae: 10.8598\n",
            "Epoch 287/500\n",
            "1/1 [==============================] - 0s 33ms/step - loss: 10.8553 - mae: 10.8553\n",
            "Epoch 288/500\n",
            "1/1 [==============================] - 0s 25ms/step - loss: 10.8508 - mae: 10.8508\n",
            "Epoch 289/500\n",
            "1/1 [==============================] - 0s 21ms/step - loss: 10.8463 - mae: 10.8463\n",
            "Epoch 290/500\n",
            "1/1 [==============================] - 0s 19ms/step - loss: 10.8418 - mae: 10.8418\n",
            "Epoch 291/500\n",
            "1/1 [==============================] - 0s 14ms/step - loss: 10.8373 - mae: 10.8373\n",
            "Epoch 292/500\n",
            "1/1 [==============================] - 0s 16ms/step - loss: 10.8328 - mae: 10.8328\n",
            "Epoch 293/500\n",
            "1/1 [==============================] - 0s 16ms/step - loss: 10.8283 - mae: 10.8283\n",
            "Epoch 294/500\n",
            "1/1 [==============================] - 0s 14ms/step - loss: 10.8238 - mae: 10.8238\n",
            "Epoch 295/500\n",
            "1/1 [==============================] - 0s 11ms/step - loss: 10.8193 - mae: 10.8193\n",
            "Epoch 296/500\n",
            "1/1 [==============================] - 0s 11ms/step - loss: 10.8148 - mae: 10.8148\n",
            "Epoch 297/500\n",
            "1/1 [==============================] - 0s 14ms/step - loss: 10.8103 - mae: 10.8103\n",
            "Epoch 298/500\n",
            "1/1 [==============================] - 0s 11ms/step - loss: 10.8058 - mae: 10.8058\n",
            "Epoch 299/500\n",
            "1/1 [==============================] - 0s 10ms/step - loss: 10.8013 - mae: 10.8013\n",
            "Epoch 300/500\n",
            "1/1 [==============================] - 0s 9ms/step - loss: 10.7968 - mae: 10.7968\n",
            "Epoch 301/500\n",
            "1/1 [==============================] - 0s 14ms/step - loss: 10.7923 - mae: 10.7923\n",
            "Epoch 302/500\n",
            "1/1 [==============================] - 0s 13ms/step - loss: 10.7878 - mae: 10.7878\n",
            "Epoch 303/500\n",
            "1/1 [==============================] - 0s 14ms/step - loss: 10.7833 - mae: 10.7833\n",
            "Epoch 304/500\n",
            "1/1 [==============================] - 0s 15ms/step - loss: 10.7788 - mae: 10.7788\n",
            "Epoch 305/500\n",
            "1/1 [==============================] - 0s 17ms/step - loss: 10.7743 - mae: 10.7743\n",
            "Epoch 306/500\n",
            "1/1 [==============================] - 0s 14ms/step - loss: 10.7698 - mae: 10.7698\n",
            "Epoch 307/500\n",
            "1/1 [==============================] - 0s 12ms/step - loss: 10.7653 - mae: 10.7653\n",
            "Epoch 308/500\n",
            "1/1 [==============================] - 0s 14ms/step - loss: 10.7608 - mae: 10.7608\n",
            "Epoch 309/500\n",
            "1/1 [==============================] - 0s 14ms/step - loss: 10.7563 - mae: 10.7563\n",
            "Epoch 310/500\n",
            "1/1 [==============================] - 0s 13ms/step - loss: 10.7518 - mae: 10.7518\n",
            "Epoch 311/500\n",
            "1/1 [==============================] - 0s 13ms/step - loss: 10.7473 - mae: 10.7473\n",
            "Epoch 312/500\n",
            "1/1 [==============================] - 0s 12ms/step - loss: 10.7428 - mae: 10.7428\n",
            "Epoch 313/500\n",
            "1/1 [==============================] - 0s 14ms/step - loss: 10.7383 - mae: 10.7383\n",
            "Epoch 314/500\n",
            "1/1 [==============================] - 0s 13ms/step - loss: 10.7338 - mae: 10.7338\n",
            "Epoch 315/500\n",
            "1/1 [==============================] - 0s 14ms/step - loss: 10.7293 - mae: 10.7293\n",
            "Epoch 316/500\n",
            "1/1 [==============================] - 0s 14ms/step - loss: 10.7248 - mae: 10.7248\n",
            "Epoch 317/500\n",
            "1/1 [==============================] - 0s 13ms/step - loss: 10.7203 - mae: 10.7203\n",
            "Epoch 318/500\n",
            "1/1 [==============================] - 0s 16ms/step - loss: 10.7158 - mae: 10.7158\n",
            "Epoch 319/500\n",
            "1/1 [==============================] - 0s 20ms/step - loss: 10.7113 - mae: 10.7113\n",
            "Epoch 320/500\n",
            "1/1 [==============================] - 0s 21ms/step - loss: 10.7068 - mae: 10.7068\n",
            "Epoch 321/500\n",
            "1/1 [==============================] - 0s 24ms/step - loss: 10.7023 - mae: 10.7023\n",
            "Epoch 322/500\n",
            "1/1 [==============================] - 0s 12ms/step - loss: 10.6978 - mae: 10.6978\n",
            "Epoch 323/500\n",
            "1/1 [==============================] - 0s 17ms/step - loss: 10.6933 - mae: 10.6933\n",
            "Epoch 324/500\n",
            "1/1 [==============================] - 0s 18ms/step - loss: 10.6888 - mae: 10.6888\n",
            "Epoch 325/500\n",
            "1/1 [==============================] - 0s 20ms/step - loss: 10.6843 - mae: 10.6843\n",
            "Epoch 326/500\n",
            "1/1 [==============================] - 0s 9ms/step - loss: 10.6798 - mae: 10.6798\n",
            "Epoch 327/500\n",
            "1/1 [==============================] - 0s 10ms/step - loss: 10.6753 - mae: 10.6753\n",
            "Epoch 328/500\n",
            "1/1 [==============================] - 0s 13ms/step - loss: 10.6708 - mae: 10.6708\n",
            "Epoch 329/500\n",
            "1/1 [==============================] - 0s 10ms/step - loss: 10.6663 - mae: 10.6663\n",
            "Epoch 330/500\n",
            "1/1 [==============================] - 0s 10ms/step - loss: 10.6618 - mae: 10.6618\n",
            "Epoch 331/500\n",
            "1/1 [==============================] - 0s 11ms/step - loss: 10.6573 - mae: 10.6573\n",
            "Epoch 332/500\n",
            "1/1 [==============================] - 0s 10ms/step - loss: 10.6528 - mae: 10.6528\n",
            "Epoch 333/500\n",
            "1/1 [==============================] - 0s 11ms/step - loss: 10.6483 - mae: 10.6483\n",
            "Epoch 334/500\n",
            "1/1 [==============================] - 0s 10ms/step - loss: 10.6438 - mae: 10.6438\n",
            "Epoch 335/500\n",
            "1/1 [==============================] - 0s 11ms/step - loss: 10.6393 - mae: 10.6393\n",
            "Epoch 336/500\n",
            "1/1 [==============================] - 0s 11ms/step - loss: 10.6348 - mae: 10.6348\n",
            "Epoch 337/500\n",
            "1/1 [==============================] - 0s 9ms/step - loss: 10.6303 - mae: 10.6303\n",
            "Epoch 338/500\n",
            "1/1 [==============================] - 0s 10ms/step - loss: 10.6258 - mae: 10.6258\n",
            "Epoch 339/500\n",
            "1/1 [==============================] - 0s 9ms/step - loss: 10.6213 - mae: 10.6213\n",
            "Epoch 340/500\n",
            "1/1 [==============================] - 0s 10ms/step - loss: 10.6168 - mae: 10.6168\n",
            "Epoch 341/500\n",
            "1/1 [==============================] - 0s 10ms/step - loss: 10.6123 - mae: 10.6123\n",
            "Epoch 342/500\n",
            "1/1 [==============================] - 0s 9ms/step - loss: 10.6078 - mae: 10.6078\n",
            "Epoch 343/500\n",
            "1/1 [==============================] - 0s 10ms/step - loss: 10.6033 - mae: 10.6033\n",
            "Epoch 344/500\n",
            "1/1 [==============================] - 0s 10ms/step - loss: 10.5988 - mae: 10.5988\n",
            "Epoch 345/500\n",
            "1/1 [==============================] - 0s 10ms/step - loss: 10.5943 - mae: 10.5943\n",
            "Epoch 346/500\n",
            "1/1 [==============================] - 0s 16ms/step - loss: 10.5898 - mae: 10.5898\n",
            "Epoch 347/500\n",
            "1/1 [==============================] - 0s 16ms/step - loss: 10.5853 - mae: 10.5853\n",
            "Epoch 348/500\n",
            "1/1 [==============================] - 0s 11ms/step - loss: 10.5808 - mae: 10.5808\n",
            "Epoch 349/500\n",
            "1/1 [==============================] - 0s 10ms/step - loss: 10.5763 - mae: 10.5763\n",
            "Epoch 350/500\n",
            "1/1 [==============================] - 0s 10ms/step - loss: 10.5718 - mae: 10.5718\n",
            "Epoch 351/500\n",
            "1/1 [==============================] - 0s 9ms/step - loss: 10.5673 - mae: 10.5673\n",
            "Epoch 352/500\n",
            "1/1 [==============================] - 0s 16ms/step - loss: 10.5628 - mae: 10.5628\n",
            "Epoch 353/500\n",
            "1/1 [==============================] - 0s 15ms/step - loss: 10.5583 - mae: 10.5583\n",
            "Epoch 354/500\n",
            "1/1 [==============================] - 0s 19ms/step - loss: 10.5538 - mae: 10.5538\n",
            "Epoch 355/500\n",
            "1/1 [==============================] - 0s 11ms/step - loss: 10.5493 - mae: 10.5493\n",
            "Epoch 356/500\n",
            "1/1 [==============================] - 0s 10ms/step - loss: 10.5448 - mae: 10.5448\n",
            "Epoch 357/500\n",
            "1/1 [==============================] - 0s 10ms/step - loss: 10.5403 - mae: 10.5403\n",
            "Epoch 358/500\n",
            "1/1 [==============================] - 0s 10ms/step - loss: 10.5358 - mae: 10.5358\n",
            "Epoch 359/500\n",
            "1/1 [==============================] - 0s 11ms/step - loss: 10.5313 - mae: 10.5313\n",
            "Epoch 360/500\n",
            "1/1 [==============================] - 0s 13ms/step - loss: 10.5268 - mae: 10.5268\n",
            "Epoch 361/500\n",
            "1/1 [==============================] - 0s 17ms/step - loss: 10.5223 - mae: 10.5223\n",
            "Epoch 362/500\n",
            "1/1 [==============================] - 0s 13ms/step - loss: 10.5178 - mae: 10.5178\n",
            "Epoch 363/500\n",
            "1/1 [==============================] - 0s 10ms/step - loss: 10.5133 - mae: 10.5133\n",
            "Epoch 364/500\n",
            "1/1 [==============================] - 0s 10ms/step - loss: 10.5088 - mae: 10.5088\n",
            "Epoch 365/500\n",
            "1/1 [==============================] - 0s 9ms/step - loss: 10.5043 - mae: 10.5043\n",
            "Epoch 366/500\n",
            "1/1 [==============================] - 0s 13ms/step - loss: 10.4998 - mae: 10.4998\n",
            "Epoch 367/500\n",
            "1/1 [==============================] - 0s 13ms/step - loss: 10.4953 - mae: 10.4953\n",
            "Epoch 368/500\n",
            "1/1 [==============================] - 0s 14ms/step - loss: 10.4908 - mae: 10.4908\n",
            "Epoch 369/500\n",
            "1/1 [==============================] - 0s 16ms/step - loss: 10.4863 - mae: 10.4863\n",
            "Epoch 370/500\n",
            "1/1 [==============================] - 0s 15ms/step - loss: 10.4818 - mae: 10.4818\n",
            "Epoch 371/500\n",
            "1/1 [==============================] - 0s 13ms/step - loss: 10.4773 - mae: 10.4773\n",
            "Epoch 372/500\n",
            "1/1 [==============================] - 0s 12ms/step - loss: 10.4728 - mae: 10.4728\n",
            "Epoch 373/500\n",
            "1/1 [==============================] - 0s 14ms/step - loss: 10.4683 - mae: 10.4683\n",
            "Epoch 374/500\n",
            "1/1 [==============================] - 0s 18ms/step - loss: 10.4638 - mae: 10.4638\n",
            "Epoch 375/500\n",
            "1/1 [==============================] - 0s 15ms/step - loss: 10.4593 - mae: 10.4593\n",
            "Epoch 376/500\n",
            "1/1 [==============================] - 0s 13ms/step - loss: 10.4548 - mae: 10.4548\n",
            "Epoch 377/500\n",
            "1/1 [==============================] - 0s 12ms/step - loss: 10.4503 - mae: 10.4503\n",
            "Epoch 378/500\n",
            "1/1 [==============================] - 0s 18ms/step - loss: 10.4458 - mae: 10.4458\n",
            "Epoch 379/500\n",
            "1/1 [==============================] - 0s 11ms/step - loss: 10.4413 - mae: 10.4413\n",
            "Epoch 380/500\n",
            "1/1 [==============================] - 0s 28ms/step - loss: 10.4368 - mae: 10.4368\n",
            "Epoch 381/500\n",
            "1/1 [==============================] - 0s 14ms/step - loss: 10.4323 - mae: 10.4323\n",
            "Epoch 382/500\n",
            "1/1 [==============================] - 0s 10ms/step - loss: 10.4278 - mae: 10.4278\n",
            "Epoch 383/500\n",
            "1/1 [==============================] - 0s 12ms/step - loss: 10.4233 - mae: 10.4233\n",
            "Epoch 384/500\n",
            "1/1 [==============================] - 0s 19ms/step - loss: 10.4188 - mae: 10.4188\n",
            "Epoch 385/500\n",
            "1/1 [==============================] - 0s 20ms/step - loss: 10.4143 - mae: 10.4143\n",
            "Epoch 386/500\n",
            "1/1 [==============================] - 0s 21ms/step - loss: 10.4098 - mae: 10.4098\n",
            "Epoch 387/500\n",
            "1/1 [==============================] - 0s 16ms/step - loss: 10.4053 - mae: 10.4053\n",
            "Epoch 388/500\n",
            "1/1 [==============================] - 0s 18ms/step - loss: 10.4008 - mae: 10.4008\n",
            "Epoch 389/500\n",
            "1/1 [==============================] - 0s 16ms/step - loss: 10.3963 - mae: 10.3963\n",
            "Epoch 390/500\n",
            "1/1 [==============================] - 0s 16ms/step - loss: 10.3918 - mae: 10.3918\n",
            "Epoch 391/500\n",
            "1/1 [==============================] - 0s 13ms/step - loss: 10.3873 - mae: 10.3873\n",
            "Epoch 392/500\n",
            "1/1 [==============================] - 0s 13ms/step - loss: 10.3828 - mae: 10.3828\n",
            "Epoch 393/500\n",
            "1/1 [==============================] - 0s 11ms/step - loss: 10.3783 - mae: 10.3783\n",
            "Epoch 394/500\n",
            "1/1 [==============================] - 0s 16ms/step - loss: 10.3738 - mae: 10.3738\n",
            "Epoch 395/500\n",
            "1/1 [==============================] - 0s 14ms/step - loss: 10.3693 - mae: 10.3693\n",
            "Epoch 396/500\n",
            "1/1 [==============================] - 0s 14ms/step - loss: 10.3648 - mae: 10.3648\n",
            "Epoch 397/500\n",
            "1/1 [==============================] - 0s 12ms/step - loss: 10.3603 - mae: 10.3603\n",
            "Epoch 398/500\n",
            "1/1 [==============================] - 0s 16ms/step - loss: 10.3558 - mae: 10.3558\n",
            "Epoch 399/500\n",
            "1/1 [==============================] - 0s 15ms/step - loss: 10.3513 - mae: 10.3513\n",
            "Epoch 400/500\n",
            "1/1 [==============================] - 0s 17ms/step - loss: 10.3468 - mae: 10.3468\n",
            "Epoch 401/500\n",
            "1/1 [==============================] - 0s 16ms/step - loss: 10.3423 - mae: 10.3423\n",
            "Epoch 402/500\n",
            "1/1 [==============================] - 0s 12ms/step - loss: 10.3378 - mae: 10.3378\n",
            "Epoch 403/500\n",
            "1/1 [==============================] - 0s 16ms/step - loss: 10.3333 - mae: 10.3333\n",
            "Epoch 404/500\n",
            "1/1 [==============================] - 0s 13ms/step - loss: 10.3288 - mae: 10.3288\n",
            "Epoch 405/500\n",
            "1/1 [==============================] - 0s 16ms/step - loss: 10.3243 - mae: 10.3243\n",
            "Epoch 406/500\n",
            "1/1 [==============================] - 0s 10ms/step - loss: 10.3198 - mae: 10.3198\n",
            "Epoch 407/500\n",
            "1/1 [==============================] - 0s 13ms/step - loss: 10.3153 - mae: 10.3153\n",
            "Epoch 408/500\n",
            "1/1 [==============================] - 0s 12ms/step - loss: 10.3108 - mae: 10.3108\n",
            "Epoch 409/500\n",
            "1/1 [==============================] - 0s 12ms/step - loss: 10.3063 - mae: 10.3063\n",
            "Epoch 410/500\n",
            "1/1 [==============================] - 0s 9ms/step - loss: 10.3018 - mae: 10.3018\n",
            "Epoch 411/500\n",
            "1/1 [==============================] - 0s 11ms/step - loss: 10.2973 - mae: 10.2973\n",
            "Epoch 412/500\n",
            "1/1 [==============================] - 0s 17ms/step - loss: 10.2928 - mae: 10.2928\n",
            "Epoch 413/500\n",
            "1/1 [==============================] - 0s 15ms/step - loss: 10.2883 - mae: 10.2883\n",
            "Epoch 414/500\n",
            "1/1 [==============================] - 0s 9ms/step - loss: 10.2838 - mae: 10.2838\n",
            "Epoch 415/500\n",
            "1/1 [==============================] - 0s 9ms/step - loss: 10.2793 - mae: 10.2793\n",
            "Epoch 416/500\n",
            "1/1 [==============================] - 0s 16ms/step - loss: 10.2748 - mae: 10.2748\n",
            "Epoch 417/500\n",
            "1/1 [==============================] - 0s 15ms/step - loss: 10.2703 - mae: 10.2703\n",
            "Epoch 418/500\n",
            "1/1 [==============================] - 0s 10ms/step - loss: 10.2658 - mae: 10.2658\n",
            "Epoch 419/500\n",
            "1/1 [==============================] - 0s 9ms/step - loss: 10.2613 - mae: 10.2613\n",
            "Epoch 420/500\n",
            "1/1 [==============================] - 0s 9ms/step - loss: 10.2568 - mae: 10.2568\n",
            "Epoch 421/500\n",
            "1/1 [==============================] - 0s 9ms/step - loss: 10.2523 - mae: 10.2523\n",
            "Epoch 422/500\n",
            "1/1 [==============================] - 0s 12ms/step - loss: 10.2478 - mae: 10.2478\n",
            "Epoch 423/500\n",
            "1/1 [==============================] - 0s 17ms/step - loss: 10.2433 - mae: 10.2433\n",
            "Epoch 424/500\n",
            "1/1 [==============================] - 0s 13ms/step - loss: 10.2388 - mae: 10.2388\n",
            "Epoch 425/500\n",
            "1/1 [==============================] - 0s 15ms/step - loss: 10.2343 - mae: 10.2343\n",
            "Epoch 426/500\n",
            "1/1 [==============================] - 0s 17ms/step - loss: 10.2298 - mae: 10.2298\n",
            "Epoch 427/500\n",
            "1/1 [==============================] - 0s 17ms/step - loss: 10.2253 - mae: 10.2253\n",
            "Epoch 428/500\n",
            "1/1 [==============================] - 0s 12ms/step - loss: 10.2208 - mae: 10.2208\n",
            "Epoch 429/500\n",
            "1/1 [==============================] - 0s 13ms/step - loss: 10.2163 - mae: 10.2163\n",
            "Epoch 430/500\n",
            "1/1 [==============================] - 0s 17ms/step - loss: 10.2118 - mae: 10.2118\n",
            "Epoch 431/500\n",
            "1/1 [==============================] - 0s 15ms/step - loss: 10.2073 - mae: 10.2073\n",
            "Epoch 432/500\n",
            "1/1 [==============================] - 0s 11ms/step - loss: 10.2028 - mae: 10.2028\n",
            "Epoch 433/500\n",
            "1/1 [==============================] - 0s 15ms/step - loss: 10.1983 - mae: 10.1983\n",
            "Epoch 434/500\n",
            "1/1 [==============================] - 0s 13ms/step - loss: 10.1938 - mae: 10.1938\n",
            "Epoch 435/500\n",
            "1/1 [==============================] - 0s 14ms/step - loss: 10.1893 - mae: 10.1893\n",
            "Epoch 436/500\n",
            "1/1 [==============================] - 0s 11ms/step - loss: 10.1848 - mae: 10.1848\n",
            "Epoch 437/500\n",
            "1/1 [==============================] - 0s 20ms/step - loss: 10.1803 - mae: 10.1803\n",
            "Epoch 438/500\n",
            "1/1 [==============================] - 0s 22ms/step - loss: 10.1758 - mae: 10.1758\n",
            "Epoch 439/500\n",
            "1/1 [==============================] - 0s 14ms/step - loss: 10.1713 - mae: 10.1713\n",
            "Epoch 440/500\n",
            "1/1 [==============================] - 0s 12ms/step - loss: 10.1668 - mae: 10.1668\n",
            "Epoch 441/500\n",
            "1/1 [==============================] - 0s 16ms/step - loss: 10.1623 - mae: 10.1623\n",
            "Epoch 442/500\n",
            "1/1 [==============================] - 0s 16ms/step - loss: 10.1578 - mae: 10.1578\n",
            "Epoch 443/500\n",
            "1/1 [==============================] - 0s 23ms/step - loss: 10.1533 - mae: 10.1533\n",
            "Epoch 444/500\n",
            "1/1 [==============================] - 0s 20ms/step - loss: 10.1488 - mae: 10.1488\n",
            "Epoch 445/500\n",
            "1/1 [==============================] - 0s 17ms/step - loss: 10.1443 - mae: 10.1443\n",
            "Epoch 446/500\n",
            "1/1 [==============================] - 0s 20ms/step - loss: 10.1398 - mae: 10.1398\n",
            "Epoch 447/500\n",
            "1/1 [==============================] - 0s 18ms/step - loss: 10.1353 - mae: 10.1353\n",
            "Epoch 448/500\n",
            "1/1 [==============================] - 0s 17ms/step - loss: 10.1308 - mae: 10.1308\n",
            "Epoch 449/500\n",
            "1/1 [==============================] - 0s 15ms/step - loss: 10.1263 - mae: 10.1263\n",
            "Epoch 450/500\n",
            "1/1 [==============================] - 0s 13ms/step - loss: 10.1218 - mae: 10.1218\n",
            "Epoch 451/500\n",
            "1/1 [==============================] - 0s 15ms/step - loss: 10.1173 - mae: 10.1173\n",
            "Epoch 452/500\n",
            "1/1 [==============================] - 0s 17ms/step - loss: 10.1128 - mae: 10.1128\n",
            "Epoch 453/500\n",
            "1/1 [==============================] - 0s 14ms/step - loss: 10.1083 - mae: 10.1083\n",
            "Epoch 454/500\n",
            "1/1 [==============================] - 0s 22ms/step - loss: 10.1038 - mae: 10.1038\n",
            "Epoch 455/500\n",
            "1/1 [==============================] - 0s 20ms/step - loss: 10.0993 - mae: 10.0993\n",
            "Epoch 456/500\n",
            "1/1 [==============================] - 0s 19ms/step - loss: 10.0948 - mae: 10.0948\n",
            "Epoch 457/500\n",
            "1/1 [==============================] - 0s 12ms/step - loss: 10.0903 - mae: 10.0903\n",
            "Epoch 458/500\n",
            "1/1 [==============================] - 0s 14ms/step - loss: 10.0858 - mae: 10.0858\n",
            "Epoch 459/500\n",
            "1/1 [==============================] - 0s 20ms/step - loss: 10.0813 - mae: 10.0813\n",
            "Epoch 460/500\n",
            "1/1 [==============================] - 0s 23ms/step - loss: 10.0768 - mae: 10.0768\n",
            "Epoch 461/500\n",
            "1/1 [==============================] - 0s 15ms/step - loss: 10.0723 - mae: 10.0723\n",
            "Epoch 462/500\n",
            "1/1 [==============================] - 0s 18ms/step - loss: 10.0678 - mae: 10.0678\n",
            "Epoch 463/500\n",
            "1/1 [==============================] - 0s 17ms/step - loss: 10.0633 - mae: 10.0633\n",
            "Epoch 464/500\n",
            "1/1 [==============================] - 0s 13ms/step - loss: 10.0588 - mae: 10.0588\n",
            "Epoch 465/500\n",
            "1/1 [==============================] - 0s 16ms/step - loss: 10.0543 - mae: 10.0543\n",
            "Epoch 466/500\n",
            "1/1 [==============================] - 0s 15ms/step - loss: 10.0498 - mae: 10.0498\n",
            "Epoch 467/500\n",
            "1/1 [==============================] - 0s 14ms/step - loss: 10.0453 - mae: 10.0453\n",
            "Epoch 468/500\n",
            "1/1 [==============================] - 0s 12ms/step - loss: 10.0408 - mae: 10.0408\n",
            "Epoch 469/500\n",
            "1/1 [==============================] - 0s 18ms/step - loss: 10.0363 - mae: 10.0363\n",
            "Epoch 470/500\n",
            "1/1 [==============================] - 0s 12ms/step - loss: 10.0318 - mae: 10.0318\n",
            "Epoch 471/500\n",
            "1/1 [==============================] - 0s 31ms/step - loss: 10.0273 - mae: 10.0273\n",
            "Epoch 472/500\n",
            "1/1 [==============================] - 0s 34ms/step - loss: 10.0228 - mae: 10.0228\n",
            "Epoch 473/500\n",
            "1/1 [==============================] - 0s 14ms/step - loss: 10.0183 - mae: 10.0183\n",
            "Epoch 474/500\n",
            "1/1 [==============================] - 0s 14ms/step - loss: 10.0138 - mae: 10.0138\n",
            "Epoch 475/500\n",
            "1/1 [==============================] - 0s 31ms/step - loss: 10.0093 - mae: 10.0093\n",
            "Epoch 476/500\n",
            "1/1 [==============================] - 0s 29ms/step - loss: 10.0048 - mae: 10.0048\n",
            "Epoch 477/500\n",
            "1/1 [==============================] - 0s 30ms/step - loss: 10.0003 - mae: 10.0003\n",
            "Epoch 478/500\n",
            "1/1 [==============================] - 0s 13ms/step - loss: 9.9958 - mae: 9.9958\n",
            "Epoch 479/500\n",
            "1/1 [==============================] - 0s 18ms/step - loss: 9.9913 - mae: 9.9913\n",
            "Epoch 480/500\n",
            "1/1 [==============================] - 0s 13ms/step - loss: 9.9868 - mae: 9.9868\n",
            "Epoch 481/500\n",
            "1/1 [==============================] - 0s 12ms/step - loss: 9.9823 - mae: 9.9823\n",
            "Epoch 482/500\n",
            "1/1 [==============================] - 0s 16ms/step - loss: 9.9778 - mae: 9.9778\n",
            "Epoch 483/500\n",
            "1/1 [==============================] - 0s 28ms/step - loss: 9.9733 - mae: 9.9733\n",
            "Epoch 484/500\n",
            "1/1 [==============================] - 0s 19ms/step - loss: 9.9688 - mae: 9.9688\n",
            "Epoch 485/500\n",
            "1/1 [==============================] - 0s 16ms/step - loss: 9.9643 - mae: 9.9643\n",
            "Epoch 486/500\n",
            "1/1 [==============================] - 0s 14ms/step - loss: 9.9598 - mae: 9.9598\n",
            "Epoch 487/500\n",
            "1/1 [==============================] - 0s 14ms/step - loss: 9.9553 - mae: 9.9553\n",
            "Epoch 488/500\n",
            "1/1 [==============================] - 0s 12ms/step - loss: 9.9508 - mae: 9.9508\n",
            "Epoch 489/500\n",
            "1/1 [==============================] - 0s 22ms/step - loss: 9.9463 - mae: 9.9463\n",
            "Epoch 490/500\n",
            "1/1 [==============================] - 0s 19ms/step - loss: 9.9418 - mae: 9.9418\n",
            "Epoch 491/500\n",
            "1/1 [==============================] - 0s 17ms/step - loss: 9.9373 - mae: 9.9373\n",
            "Epoch 492/500\n",
            "1/1 [==============================] - 0s 14ms/step - loss: 9.9328 - mae: 9.9328\n",
            "Epoch 493/500\n",
            "1/1 [==============================] - 0s 14ms/step - loss: 9.9283 - mae: 9.9283\n",
            "Epoch 494/500\n",
            "1/1 [==============================] - 0s 17ms/step - loss: 9.9238 - mae: 9.9238\n",
            "Epoch 495/500\n",
            "1/1 [==============================] - 0s 15ms/step - loss: 9.9193 - mae: 9.9193\n",
            "Epoch 496/500\n",
            "1/1 [==============================] - 0s 18ms/step - loss: 9.9148 - mae: 9.9148\n",
            "Epoch 497/500\n",
            "1/1 [==============================] - 0s 20ms/step - loss: 9.9103 - mae: 9.9103\n",
            "Epoch 498/500\n",
            "1/1 [==============================] - 0s 15ms/step - loss: 9.9058 - mae: 9.9058\n",
            "Epoch 499/500\n",
            "1/1 [==============================] - 0s 17ms/step - loss: 9.9013 - mae: 9.9013\n",
            "Epoch 500/500\n",
            "1/1 [==============================] - 0s 18ms/step - loss: 9.8968 - mae: 9.8968\n"
          ]
        },
        {
          "output_type": "execute_result",
          "data": {
            "text/plain": [
              "<keras.src.callbacks.History at 0x7d56e81b95d0>"
            ]
          },
          "metadata": {},
          "execution_count": 15
        }
      ]
    },
    {
      "cell_type": "code",
      "source": [
        "model.predict([17.0])"
      ],
      "metadata": {
        "colab": {
          "base_uri": "https://localhost:8080/"
        },
        "id": "oGlPqZSVmEGW",
        "outputId": "d74e1fda-771b-4d48-8ffa-1d1b8dad3297"
      },
      "execution_count": 16,
      "outputs": [
        {
          "output_type": "stream",
          "name": "stdout",
          "text": [
            "1/1 [==============================] - 0s 53ms/step\n"
          ]
        },
        {
          "output_type": "execute_result",
          "data": {
            "text/plain": [
              "array([[15.594433]], dtype=float32)"
            ]
          },
          "metadata": {},
          "execution_count": 16
        }
      ]
    },
    {
      "cell_type": "code",
      "source": [
        "# Set random.set_seed\n",
        "tf.random.set_seed(42)\n",
        "\n",
        "# 1. Create a model using the Sequential API\n",
        "model = tf.keras.Sequential([\n",
        "    tf.keras.layers.Dense(100,activation=\"relu\"),\n",
        "    tf.keras.layers.Dense(100,activation=\"relu\"),\n",
        "    tf.keras.layers.Dense(100,activation=\"relu\"),\n",
        "    tf.keras.layers.Dense(1)\n",
        "])\n",
        "\n",
        "# 2. Compile the model\n",
        "model.compile(loss=tf.keras.losses.mae, # mae = mean absulate error\n",
        "              optimizer=tf.keras.optimizers.SGD(), # sgd is short for stochachastic greadent descent\n",
        "              metrics=[\"mae\"])\n",
        "# 3. fit the model\n",
        "model.fit(tf.expand_dims(X,axis=-1), Y, epochs=50)"
      ],
      "metadata": {
        "id": "Tkr2OWzCmb56",
        "colab": {
          "base_uri": "https://localhost:8080/"
        },
        "outputId": "31684093-2d36-4ce2-d69f-4a127e0667d8"
      },
      "execution_count": 17,
      "outputs": [
        {
          "output_type": "stream",
          "name": "stdout",
          "text": [
            "Epoch 1/50\n",
            "1/1 [==============================] - 2s 2s/step - loss: 14.5955 - mae: 14.5955\n",
            "Epoch 2/50\n",
            "1/1 [==============================] - 0s 21ms/step - loss: 13.9903 - mae: 13.9903\n",
            "Epoch 3/50\n",
            "1/1 [==============================] - 0s 22ms/step - loss: 13.4752 - mae: 13.4752\n",
            "Epoch 4/50\n",
            "1/1 [==============================] - 0s 18ms/step - loss: 13.0129 - mae: 13.0129\n",
            "Epoch 5/50\n",
            "1/1 [==============================] - 0s 14ms/step - loss: 12.6001 - mae: 12.6001\n",
            "Epoch 6/50\n",
            "1/1 [==============================] - 0s 13ms/step - loss: 12.1996 - mae: 12.1996\n",
            "Epoch 7/50\n",
            "1/1 [==============================] - 0s 42ms/step - loss: 11.7743 - mae: 11.7743\n",
            "Epoch 8/50\n",
            "1/1 [==============================] - 0s 19ms/step - loss: 11.3161 - mae: 11.3161\n",
            "Epoch 9/50\n",
            "1/1 [==============================] - 0s 23ms/step - loss: 10.8036 - mae: 10.8036\n",
            "Epoch 10/50\n",
            "1/1 [==============================] - 0s 19ms/step - loss: 10.1933 - mae: 10.1933\n",
            "Epoch 11/50\n",
            "1/1 [==============================] - 0s 26ms/step - loss: 9.4468 - mae: 9.4468\n",
            "Epoch 12/50\n",
            "1/1 [==============================] - 0s 16ms/step - loss: 8.4996 - mae: 8.4996\n",
            "Epoch 13/50\n",
            "1/1 [==============================] - 0s 17ms/step - loss: 7.2469 - mae: 7.2469\n",
            "Epoch 14/50\n",
            "1/1 [==============================] - 0s 15ms/step - loss: 5.6156 - mae: 5.6156\n",
            "Epoch 15/50\n",
            "1/1 [==============================] - 0s 15ms/step - loss: 3.9621 - mae: 3.9621\n",
            "Epoch 16/50\n",
            "1/1 [==============================] - 0s 17ms/step - loss: 4.0077 - mae: 4.0077\n",
            "Epoch 17/50\n",
            "1/1 [==============================] - 0s 17ms/step - loss: 3.9193 - mae: 3.9193\n",
            "Epoch 18/50\n",
            "1/1 [==============================] - 0s 15ms/step - loss: 4.0187 - mae: 4.0187\n",
            "Epoch 19/50\n",
            "1/1 [==============================] - 0s 17ms/step - loss: 3.8728 - mae: 3.8728\n",
            "Epoch 20/50\n",
            "1/1 [==============================] - 0s 15ms/step - loss: 4.0322 - mae: 4.0322\n",
            "Epoch 21/50\n",
            "1/1 [==============================] - 0s 12ms/step - loss: 3.8298 - mae: 3.8298\n",
            "Epoch 22/50\n",
            "1/1 [==============================] - 0s 21ms/step - loss: 4.0299 - mae: 4.0299\n",
            "Epoch 23/50\n",
            "1/1 [==============================] - 0s 13ms/step - loss: 3.8452 - mae: 3.8452\n",
            "Epoch 24/50\n",
            "1/1 [==============================] - 0s 38ms/step - loss: 3.9822 - mae: 3.9822\n",
            "Epoch 25/50\n",
            "1/1 [==============================] - 0s 20ms/step - loss: 3.8607 - mae: 3.8607\n",
            "Epoch 26/50\n",
            "1/1 [==============================] - 0s 18ms/step - loss: 3.9337 - mae: 3.9337\n",
            "Epoch 27/50\n",
            "1/1 [==============================] - 0s 22ms/step - loss: 3.8768 - mae: 3.8768\n",
            "Epoch 28/50\n",
            "1/1 [==============================] - 0s 42ms/step - loss: 3.8846 - mae: 3.8846\n",
            "Epoch 29/50\n",
            "1/1 [==============================] - 0s 26ms/step - loss: 3.8952 - mae: 3.8952\n",
            "Epoch 30/50\n",
            "1/1 [==============================] - 0s 13ms/step - loss: 3.8315 - mae: 3.8315\n",
            "Epoch 31/50\n",
            "1/1 [==============================] - 0s 15ms/step - loss: 3.9129 - mae: 3.9129\n",
            "Epoch 32/50\n",
            "1/1 [==============================] - 0s 17ms/step - loss: 3.7791 - mae: 3.7791\n",
            "Epoch 33/50\n",
            "1/1 [==============================] - 0s 12ms/step - loss: 3.9305 - mae: 3.9305\n",
            "Epoch 34/50\n",
            "1/1 [==============================] - 0s 13ms/step - loss: 3.7350 - mae: 3.7350\n",
            "Epoch 35/50\n",
            "1/1 [==============================] - 0s 29ms/step - loss: 3.9078 - mae: 3.9078\n",
            "Epoch 36/50\n",
            "1/1 [==============================] - 0s 16ms/step - loss: 3.7872 - mae: 3.7872\n",
            "Epoch 37/50\n",
            "1/1 [==============================] - 0s 12ms/step - loss: 3.8536 - mae: 3.8536\n",
            "Epoch 38/50\n",
            "1/1 [==============================] - 0s 14ms/step - loss: 3.8067 - mae: 3.8067\n",
            "Epoch 39/50\n",
            "1/1 [==============================] - 0s 13ms/step - loss: 3.7976 - mae: 3.7976\n",
            "Epoch 40/50\n",
            "1/1 [==============================] - 0s 20ms/step - loss: 3.8260 - mae: 3.8260\n",
            "Epoch 41/50\n",
            "1/1 [==============================] - 0s 12ms/step - loss: 3.7392 - mae: 3.7392\n",
            "Epoch 42/50\n",
            "1/1 [==============================] - 0s 21ms/step - loss: 3.8472 - mae: 3.8472\n",
            "Epoch 43/50\n",
            "1/1 [==============================] - 0s 21ms/step - loss: 3.6822 - mae: 3.6822\n",
            "Epoch 44/50\n",
            "1/1 [==============================] - 0s 26ms/step - loss: 3.9065 - mae: 3.9065\n",
            "Epoch 45/50\n",
            "1/1 [==============================] - 0s 15ms/step - loss: 3.7075 - mae: 3.7075\n",
            "Epoch 46/50\n",
            "1/1 [==============================] - 0s 16ms/step - loss: 3.8071 - mae: 3.8071\n",
            "Epoch 47/50\n",
            "1/1 [==============================] - 0s 18ms/step - loss: 3.7299 - mae: 3.7299\n",
            "Epoch 48/50\n",
            "1/1 [==============================] - 0s 18ms/step - loss: 3.7465 - mae: 3.7465\n",
            "Epoch 49/50\n",
            "1/1 [==============================] - 0s 19ms/step - loss: 3.7529 - mae: 3.7529\n",
            "Epoch 50/50\n",
            "1/1 [==============================] - 0s 22ms/step - loss: 3.6838 - mae: 3.6838\n"
          ]
        },
        {
          "output_type": "execute_result",
          "data": {
            "text/plain": [
              "<keras.src.callbacks.History at 0x7d56d0779840>"
            ]
          },
          "metadata": {},
          "execution_count": 17
        }
      ]
    },
    {
      "cell_type": "code",
      "source": [
        "# model\n",
        "\n",
        "# 1 creating the model\n",
        "model = tf.keras.Sequential([\n",
        "    tf.keras.layers.Dense(100,activation=\"relu\"),\n",
        "    tf.keras.layers.Dense(100,activation=\"relu\"),\n",
        "    tf.keras.layers.Dense(100,activation=\"relu\"),\n",
        "    tf.keras.layers.Dense(1)\n",
        "])\n",
        "\n",
        "# fitting the model\n",
        "model.compile(loss=tf.keras.losses.mae,\n",
        "              optimizer=tf.keras.optimizers.Adam(),\n",
        "              metrics = [\"mae\"])\n",
        "\n",
        "model.fit(tf.expand_dims(X,axis=-1), Y, epochs=100)"
      ],
      "metadata": {
        "colab": {
          "base_uri": "https://localhost:8080/"
        },
        "id": "-U6aKN1TOEXo",
        "outputId": "fc8bbe15-5a9f-4899-ee9e-4275ac216eb9"
      },
      "execution_count": 18,
      "outputs": [
        {
          "output_type": "stream",
          "name": "stdout",
          "text": [
            "Epoch 1/100\n",
            "1/1 [==============================] - 2s 2s/step - loss: 13.1736 - mae: 13.1736\n",
            "Epoch 2/100\n",
            "1/1 [==============================] - 0s 24ms/step - loss: 12.7837 - mae: 12.7837\n",
            "Epoch 3/100\n",
            "1/1 [==============================] - 0s 18ms/step - loss: 12.4147 - mae: 12.4147\n",
            "Epoch 4/100\n",
            "1/1 [==============================] - 0s 20ms/step - loss: 12.0526 - mae: 12.0526\n",
            "Epoch 5/100\n",
            "1/1 [==============================] - 0s 20ms/step - loss: 11.6961 - mae: 11.6961\n",
            "Epoch 6/100\n",
            "1/1 [==============================] - 0s 23ms/step - loss: 11.4798 - mae: 11.4798\n",
            "Epoch 7/100\n",
            "1/1 [==============================] - 0s 18ms/step - loss: 11.2667 - mae: 11.2667\n",
            "Epoch 8/100\n",
            "1/1 [==============================] - 0s 18ms/step - loss: 11.0478 - mae: 11.0478\n",
            "Epoch 9/100\n",
            "1/1 [==============================] - 0s 21ms/step - loss: 10.8246 - mae: 10.8246\n",
            "Epoch 10/100\n",
            "1/1 [==============================] - 0s 18ms/step - loss: 10.5869 - mae: 10.5869\n",
            "Epoch 11/100\n",
            "1/1 [==============================] - 0s 29ms/step - loss: 10.3331 - mae: 10.3331\n",
            "Epoch 12/100\n",
            "1/1 [==============================] - 0s 19ms/step - loss: 10.0641 - mae: 10.0641\n",
            "Epoch 13/100\n",
            "1/1 [==============================] - 0s 15ms/step - loss: 9.7750 - mae: 9.7750\n",
            "Epoch 14/100\n",
            "1/1 [==============================] - 0s 41ms/step - loss: 9.4737 - mae: 9.4737\n",
            "Epoch 15/100\n",
            "1/1 [==============================] - 0s 19ms/step - loss: 9.1532 - mae: 9.1532\n",
            "Epoch 16/100\n",
            "1/1 [==============================] - 0s 16ms/step - loss: 8.8168 - mae: 8.8168\n",
            "Epoch 17/100\n",
            "1/1 [==============================] - 0s 20ms/step - loss: 8.4674 - mae: 8.4674\n",
            "Epoch 18/100\n",
            "1/1 [==============================] - 0s 16ms/step - loss: 8.0957 - mae: 8.0957\n",
            "Epoch 19/100\n",
            "1/1 [==============================] - 0s 19ms/step - loss: 7.7025 - mae: 7.7025\n",
            "Epoch 20/100\n",
            "1/1 [==============================] - 0s 21ms/step - loss: 7.2830 - mae: 7.2830\n",
            "Epoch 21/100\n",
            "1/1 [==============================] - 0s 19ms/step - loss: 6.8354 - mae: 6.8354\n",
            "Epoch 22/100\n",
            "1/1 [==============================] - 0s 17ms/step - loss: 6.3594 - mae: 6.3594\n",
            "Epoch 23/100\n",
            "1/1 [==============================] - 0s 11ms/step - loss: 5.8491 - mae: 5.8491\n",
            "Epoch 24/100\n",
            "1/1 [==============================] - 0s 10ms/step - loss: 5.3060 - mae: 5.3060\n",
            "Epoch 25/100\n",
            "1/1 [==============================] - 0s 11ms/step - loss: 4.7281 - mae: 4.7281\n",
            "Epoch 26/100\n",
            "1/1 [==============================] - 0s 12ms/step - loss: 4.1541 - mae: 4.1541\n",
            "Epoch 27/100\n",
            "1/1 [==============================] - 0s 11ms/step - loss: 3.9546 - mae: 3.9546\n",
            "Epoch 28/100\n",
            "1/1 [==============================] - 0s 12ms/step - loss: 3.9429 - mae: 3.9429\n",
            "Epoch 29/100\n",
            "1/1 [==============================] - 0s 11ms/step - loss: 4.0575 - mae: 4.0575\n",
            "Epoch 30/100\n",
            "1/1 [==============================] - 0s 15ms/step - loss: 4.1558 - mae: 4.1558\n",
            "Epoch 31/100\n",
            "1/1 [==============================] - 0s 11ms/step - loss: 4.3173 - mae: 4.3173\n",
            "Epoch 32/100\n",
            "1/1 [==============================] - 0s 12ms/step - loss: 4.4778 - mae: 4.4778\n",
            "Epoch 33/100\n",
            "1/1 [==============================] - 0s 12ms/step - loss: 4.5594 - mae: 4.5594\n",
            "Epoch 34/100\n",
            "1/1 [==============================] - 0s 14ms/step - loss: 4.5700 - mae: 4.5700\n",
            "Epoch 35/100\n",
            "1/1 [==============================] - 0s 13ms/step - loss: 4.5181 - mae: 4.5181\n",
            "Epoch 36/100\n",
            "1/1 [==============================] - 0s 17ms/step - loss: 4.4142 - mae: 4.4142\n",
            "Epoch 37/100\n",
            "1/1 [==============================] - 0s 11ms/step - loss: 4.2678 - mae: 4.2678\n",
            "Epoch 38/100\n",
            "1/1 [==============================] - 0s 11ms/step - loss: 4.0903 - mae: 4.0903\n",
            "Epoch 39/100\n",
            "1/1 [==============================] - 0s 11ms/step - loss: 4.0156 - mae: 4.0156\n",
            "Epoch 40/100\n",
            "1/1 [==============================] - 0s 12ms/step - loss: 3.9415 - mae: 3.9415\n",
            "Epoch 41/100\n",
            "1/1 [==============================] - 0s 22ms/step - loss: 3.8983 - mae: 3.8983\n",
            "Epoch 42/100\n",
            "1/1 [==============================] - 0s 26ms/step - loss: 3.8280 - mae: 3.8280\n",
            "Epoch 43/100\n",
            "1/1 [==============================] - 0s 14ms/step - loss: 3.7417 - mae: 3.7417\n",
            "Epoch 44/100\n",
            "1/1 [==============================] - 0s 17ms/step - loss: 3.6810 - mae: 3.6810\n",
            "Epoch 45/100\n",
            "1/1 [==============================] - 0s 50ms/step - loss: 3.7358 - mae: 3.7358\n",
            "Epoch 46/100\n",
            "1/1 [==============================] - 0s 18ms/step - loss: 3.7722 - mae: 3.7722\n",
            "Epoch 47/100\n",
            "1/1 [==============================] - 0s 17ms/step - loss: 3.7936 - mae: 3.7936\n",
            "Epoch 48/100\n",
            "1/1 [==============================] - 0s 20ms/step - loss: 3.8006 - mae: 3.8006\n",
            "Epoch 49/100\n",
            "1/1 [==============================] - 0s 19ms/step - loss: 3.7936 - mae: 3.7936\n",
            "Epoch 50/100\n",
            "1/1 [==============================] - 0s 15ms/step - loss: 3.7722 - mae: 3.7722\n",
            "Epoch 51/100\n",
            "1/1 [==============================] - 0s 13ms/step - loss: 3.7396 - mae: 3.7396\n",
            "Epoch 52/100\n",
            "1/1 [==============================] - 0s 13ms/step - loss: 3.6954 - mae: 3.6954\n",
            "Epoch 53/100\n",
            "1/1 [==============================] - 0s 12ms/step - loss: 3.6411 - mae: 3.6411\n",
            "Epoch 54/100\n",
            "1/1 [==============================] - 0s 11ms/step - loss: 3.5927 - mae: 3.5927\n",
            "Epoch 55/100\n",
            "1/1 [==============================] - 0s 13ms/step - loss: 3.6042 - mae: 3.6042\n",
            "Epoch 56/100\n",
            "1/1 [==============================] - 0s 11ms/step - loss: 3.6070 - mae: 3.6070\n",
            "Epoch 57/100\n",
            "1/1 [==============================] - 0s 14ms/step - loss: 3.6267 - mae: 3.6267\n",
            "Epoch 58/100\n",
            "1/1 [==============================] - 0s 28ms/step - loss: 3.5954 - mae: 3.5954\n",
            "Epoch 59/100\n",
            "1/1 [==============================] - 0s 13ms/step - loss: 3.5885 - mae: 3.5885\n",
            "Epoch 60/100\n",
            "1/1 [==============================] - 0s 16ms/step - loss: 3.5740 - mae: 3.5740\n",
            "Epoch 61/100\n",
            "1/1 [==============================] - 0s 19ms/step - loss: 3.5518 - mae: 3.5518\n",
            "Epoch 62/100\n",
            "1/1 [==============================] - 0s 16ms/step - loss: 3.5228 - mae: 3.5228\n",
            "Epoch 63/100\n",
            "1/1 [==============================] - 0s 13ms/step - loss: 3.5342 - mae: 3.5342\n",
            "Epoch 64/100\n",
            "1/1 [==============================] - 0s 11ms/step - loss: 3.5407 - mae: 3.5407\n",
            "Epoch 65/100\n",
            "1/1 [==============================] - 0s 11ms/step - loss: 3.5294 - mae: 3.5294\n",
            "Epoch 66/100\n",
            "1/1 [==============================] - 0s 11ms/step - loss: 3.4981 - mae: 3.4981\n",
            "Epoch 67/100\n",
            "1/1 [==============================] - 0s 47ms/step - loss: 3.4494 - mae: 3.4494\n",
            "Epoch 68/100\n",
            "1/1 [==============================] - 0s 11ms/step - loss: 3.4623 - mae: 3.4623\n",
            "Epoch 69/100\n",
            "1/1 [==============================] - 0s 15ms/step - loss: 3.4656 - mae: 3.4656\n",
            "Epoch 70/100\n",
            "1/1 [==============================] - 0s 15ms/step - loss: 3.4560 - mae: 3.4560\n",
            "Epoch 71/100\n",
            "1/1 [==============================] - 0s 12ms/step - loss: 3.4349 - mae: 3.4349\n",
            "Epoch 72/100\n",
            "1/1 [==============================] - 0s 13ms/step - loss: 3.4040 - mae: 3.4040\n",
            "Epoch 73/100\n",
            "1/1 [==============================] - 0s 19ms/step - loss: 3.3685 - mae: 3.3685\n",
            "Epoch 74/100\n",
            "1/1 [==============================] - 0s 13ms/step - loss: 3.3602 - mae: 3.3602\n",
            "Epoch 75/100\n",
            "1/1 [==============================] - 0s 18ms/step - loss: 3.3056 - mae: 3.3056\n",
            "Epoch 76/100\n",
            "1/1 [==============================] - 0s 12ms/step - loss: 3.2871 - mae: 3.2871\n",
            "Epoch 77/100\n",
            "1/1 [==============================] - 0s 22ms/step - loss: 3.2623 - mae: 3.2623\n",
            "Epoch 78/100\n",
            "1/1 [==============================] - 0s 10ms/step - loss: 3.2488 - mae: 3.2488\n",
            "Epoch 79/100\n",
            "1/1 [==============================] - 0s 15ms/step - loss: 3.2401 - mae: 3.2401\n",
            "Epoch 80/100\n",
            "1/1 [==============================] - 0s 14ms/step - loss: 3.2208 - mae: 3.2208\n",
            "Epoch 81/100\n",
            "1/1 [==============================] - 0s 11ms/step - loss: 3.2001 - mae: 3.2001\n",
            "Epoch 82/100\n",
            "1/1 [==============================] - 0s 14ms/step - loss: 3.1873 - mae: 3.1873\n",
            "Epoch 83/100\n",
            "1/1 [==============================] - 0s 12ms/step - loss: 3.1544 - mae: 3.1544\n",
            "Epoch 84/100\n",
            "1/1 [==============================] - 0s 13ms/step - loss: 3.1510 - mae: 3.1510\n",
            "Epoch 85/100\n",
            "1/1 [==============================] - 0s 11ms/step - loss: 3.1328 - mae: 3.1328\n",
            "Epoch 86/100\n",
            "1/1 [==============================] - 0s 20ms/step - loss: 3.1001 - mae: 3.1001\n",
            "Epoch 87/100\n",
            "1/1 [==============================] - 0s 12ms/step - loss: 3.0581 - mae: 3.0581\n",
            "Epoch 88/100\n",
            "1/1 [==============================] - 0s 12ms/step - loss: 2.9971 - mae: 2.9971\n",
            "Epoch 89/100\n",
            "1/1 [==============================] - 0s 12ms/step - loss: 2.9890 - mae: 2.9890\n",
            "Epoch 90/100\n",
            "1/1 [==============================] - 0s 12ms/step - loss: 2.9499 - mae: 2.9499\n",
            "Epoch 91/100\n",
            "1/1 [==============================] - 0s 17ms/step - loss: 2.9134 - mae: 2.9134\n",
            "Epoch 92/100\n",
            "1/1 [==============================] - 0s 13ms/step - loss: 2.8577 - mae: 2.8577\n",
            "Epoch 93/100\n",
            "1/1 [==============================] - 0s 21ms/step - loss: 2.8209 - mae: 2.8209\n",
            "Epoch 94/100\n",
            "1/1 [==============================] - 0s 23ms/step - loss: 2.7954 - mae: 2.7954\n",
            "Epoch 95/100\n",
            "1/1 [==============================] - 0s 16ms/step - loss: 2.7419 - mae: 2.7419\n",
            "Epoch 96/100\n",
            "1/1 [==============================] - 0s 18ms/step - loss: 2.7036 - mae: 2.7036\n",
            "Epoch 97/100\n",
            "1/1 [==============================] - 0s 15ms/step - loss: 2.6761 - mae: 2.6761\n",
            "Epoch 98/100\n",
            "1/1 [==============================] - 0s 15ms/step - loss: 2.6331 - mae: 2.6331\n",
            "Epoch 99/100\n",
            "1/1 [==============================] - 0s 13ms/step - loss: 2.5697 - mae: 2.5697\n",
            "Epoch 100/100\n",
            "1/1 [==============================] - 0s 15ms/step - loss: 2.5365 - mae: 2.5365\n"
          ]
        },
        {
          "output_type": "execute_result",
          "data": {
            "text/plain": [
              "<keras.src.callbacks.History at 0x7d56be3b02e0>"
            ]
          },
          "metadata": {},
          "execution_count": 18
        }
      ]
    },
    {
      "cell_type": "code",
      "source": [
        "model.predict([17.0])"
      ],
      "metadata": {
        "colab": {
          "base_uri": "https://localhost:8080/"
        },
        "id": "g0G-aJViUIym",
        "outputId": "348dba6a-13de-4727-b140-80f357ae509f"
      },
      "execution_count": 19,
      "outputs": [
        {
          "output_type": "stream",
          "name": "stdout",
          "text": [
            "1/1 [==============================] - 0s 114ms/step\n"
          ]
        },
        {
          "output_type": "execute_result",
          "data": {
            "text/plain": [
              "array([[30.761335]], dtype=float32)"
            ]
          },
          "metadata": {},
          "execution_count": 19
        }
      ]
    },
    {
      "cell_type": "code",
      "source": [
        "# Lets create a new model\n",
        "model = tf.keras.Sequential([\n",
        "    tf.keras.layers.Dense(50, activation=None),\n",
        "    tf.keras.layers.Dense(1)\n",
        "])\n",
        "\n",
        "model.compile(loss=tf.keras.losses.mae,\n",
        "              optimizer=tf.keras.optimizers.Adam(0.01),\n",
        "              metrics = [\"mae\"])\n",
        "\n",
        "model.fit(tf.expand_dims(X,axis=-1), Y, epochs=100)"
      ],
      "metadata": {
        "id": "RIKd53jRWtgy",
        "colab": {
          "base_uri": "https://localhost:8080/"
        },
        "outputId": "0da588cd-0691-451d-a243-1cd47d62190e"
      },
      "execution_count": 20,
      "outputs": [
        {
          "output_type": "stream",
          "name": "stdout",
          "text": [
            "Epoch 1/100\n",
            "1/1 [==============================] - 1s 1s/step - loss: 14.4697 - mae: 14.4697\n",
            "Epoch 2/100\n",
            "1/1 [==============================] - 0s 15ms/step - loss: 13.8220 - mae: 13.8220\n",
            "Epoch 3/100\n",
            "1/1 [==============================] - 0s 11ms/step - loss: 13.1809 - mae: 13.1809\n",
            "Epoch 4/100\n",
            "1/1 [==============================] - 0s 13ms/step - loss: 12.5429 - mae: 12.5429\n",
            "Epoch 5/100\n",
            "1/1 [==============================] - 0s 17ms/step - loss: 11.9037 - mae: 11.9037\n",
            "Epoch 6/100\n",
            "1/1 [==============================] - 0s 14ms/step - loss: 11.2602 - mae: 11.2602\n",
            "Epoch 7/100\n",
            "1/1 [==============================] - 0s 13ms/step - loss: 10.6097 - mae: 10.6097\n",
            "Epoch 8/100\n",
            "1/1 [==============================] - 0s 12ms/step - loss: 9.9495 - mae: 9.9495\n",
            "Epoch 9/100\n",
            "1/1 [==============================] - 0s 12ms/step - loss: 9.2771 - mae: 9.2771\n",
            "Epoch 10/100\n",
            "1/1 [==============================] - 0s 14ms/step - loss: 8.5898 - mae: 8.5898\n",
            "Epoch 11/100\n",
            "1/1 [==============================] - 0s 20ms/step - loss: 7.8848 - mae: 7.8848\n",
            "Epoch 12/100\n",
            "1/1 [==============================] - 0s 27ms/step - loss: 7.1594 - mae: 7.1594\n",
            "Epoch 13/100\n",
            "1/1 [==============================] - 0s 23ms/step - loss: 6.6634 - mae: 6.6634\n",
            "Epoch 14/100\n",
            "1/1 [==============================] - 0s 13ms/step - loss: 6.7894 - mae: 6.7894\n",
            "Epoch 15/100\n",
            "1/1 [==============================] - 0s 11ms/step - loss: 7.0781 - mae: 7.0781\n",
            "Epoch 16/100\n",
            "1/1 [==============================] - 0s 41ms/step - loss: 7.3013 - mae: 7.3013\n",
            "Epoch 17/100\n",
            "1/1 [==============================] - 0s 19ms/step - loss: 7.4356 - mae: 7.4356\n",
            "Epoch 18/100\n",
            "1/1 [==============================] - 0s 13ms/step - loss: 7.3785 - mae: 7.3785\n",
            "Epoch 19/100\n",
            "1/1 [==============================] - 0s 16ms/step - loss: 7.1752 - mae: 7.1752\n",
            "Epoch 20/100\n",
            "1/1 [==============================] - 0s 19ms/step - loss: 6.9035 - mae: 6.9035\n",
            "Epoch 21/100\n",
            "1/1 [==============================] - 0s 10ms/step - loss: 6.6789 - mae: 6.6789\n",
            "Epoch 22/100\n",
            "1/1 [==============================] - 0s 10ms/step - loss: 6.4372 - mae: 6.4372\n",
            "Epoch 23/100\n",
            "1/1 [==============================] - 0s 11ms/step - loss: 6.1825 - mae: 6.1825\n",
            "Epoch 24/100\n",
            "1/1 [==============================] - 0s 10ms/step - loss: 6.0398 - mae: 6.0398\n",
            "Epoch 25/100\n",
            "1/1 [==============================] - 0s 11ms/step - loss: 6.0008 - mae: 6.0008\n",
            "Epoch 26/100\n",
            "1/1 [==============================] - 0s 10ms/step - loss: 6.0402 - mae: 6.0402\n",
            "Epoch 27/100\n",
            "1/1 [==============================] - 0s 10ms/step - loss: 6.1036 - mae: 6.1036\n",
            "Epoch 28/100\n",
            "1/1 [==============================] - 0s 11ms/step - loss: 6.0693 - mae: 6.0693\n",
            "Epoch 29/100\n",
            "1/1 [==============================] - 0s 12ms/step - loss: 5.9492 - mae: 5.9492\n",
            "Epoch 30/100\n",
            "1/1 [==============================] - 0s 14ms/step - loss: 5.7520 - mae: 5.7520\n",
            "Epoch 31/100\n",
            "1/1 [==============================] - 0s 16ms/step - loss: 5.5691 - mae: 5.5691\n",
            "Epoch 32/100\n",
            "1/1 [==============================] - 0s 17ms/step - loss: 5.4677 - mae: 5.4677\n",
            "Epoch 33/100\n",
            "1/1 [==============================] - 0s 14ms/step - loss: 5.3631 - mae: 5.3631\n",
            "Epoch 34/100\n",
            "1/1 [==============================] - 0s 26ms/step - loss: 5.3272 - mae: 5.3272\n",
            "Epoch 35/100\n",
            "1/1 [==============================] - 0s 14ms/step - loss: 5.3075 - mae: 5.3075\n",
            "Epoch 36/100\n",
            "1/1 [==============================] - 0s 19ms/step - loss: 5.2472 - mae: 5.2472\n",
            "Epoch 37/100\n",
            "1/1 [==============================] - 0s 13ms/step - loss: 5.1495 - mae: 5.1495\n",
            "Epoch 38/100\n",
            "1/1 [==============================] - 0s 12ms/step - loss: 5.0175 - mae: 5.0175\n",
            "Epoch 39/100\n",
            "1/1 [==============================] - 0s 11ms/step - loss: 4.8540 - mae: 4.8540\n",
            "Epoch 40/100\n",
            "1/1 [==============================] - 0s 9ms/step - loss: 4.6921 - mae: 4.6921\n",
            "Epoch 41/100\n",
            "1/1 [==============================] - 0s 10ms/step - loss: 4.5987 - mae: 4.5987\n",
            "Epoch 42/100\n",
            "1/1 [==============================] - 0s 10ms/step - loss: 4.4974 - mae: 4.4974\n",
            "Epoch 43/100\n",
            "1/1 [==============================] - 0s 12ms/step - loss: 4.3882 - mae: 4.3882\n",
            "Epoch 44/100\n",
            "1/1 [==============================] - 0s 9ms/step - loss: 4.2709 - mae: 4.2709\n",
            "Epoch 45/100\n",
            "1/1 [==============================] - 0s 11ms/step - loss: 4.1711 - mae: 4.1711\n",
            "Epoch 46/100\n",
            "1/1 [==============================] - 0s 10ms/step - loss: 4.0013 - mae: 4.0013\n",
            "Epoch 47/100\n",
            "1/1 [==============================] - 0s 16ms/step - loss: 3.8494 - mae: 3.8494\n",
            "Epoch 48/100\n",
            "1/1 [==============================] - 0s 10ms/step - loss: 3.6895 - mae: 3.6895\n",
            "Epoch 49/100\n",
            "1/1 [==============================] - 0s 10ms/step - loss: 3.5214 - mae: 3.5214\n",
            "Epoch 50/100\n",
            "1/1 [==============================] - 0s 10ms/step - loss: 3.3454 - mae: 3.3454\n",
            "Epoch 51/100\n",
            "1/1 [==============================] - 0s 12ms/step - loss: 3.1897 - mae: 3.1897\n",
            "Epoch 52/100\n",
            "1/1 [==============================] - 0s 12ms/step - loss: 2.9994 - mae: 2.9994\n",
            "Epoch 53/100\n",
            "1/1 [==============================] - 0s 11ms/step - loss: 2.8169 - mae: 2.8169\n",
            "Epoch 54/100\n",
            "1/1 [==============================] - 0s 12ms/step - loss: 2.6231 - mae: 2.6231\n",
            "Epoch 55/100\n",
            "1/1 [==============================] - 0s 18ms/step - loss: 2.4179 - mae: 2.4179\n",
            "Epoch 56/100\n",
            "1/1 [==============================] - 0s 17ms/step - loss: 2.2011 - mae: 2.2011\n",
            "Epoch 57/100\n",
            "1/1 [==============================] - 0s 22ms/step - loss: 1.9724 - mae: 1.9724\n",
            "Epoch 58/100\n",
            "1/1 [==============================] - 0s 14ms/step - loss: 1.7517 - mae: 1.7517\n",
            "Epoch 59/100\n",
            "1/1 [==============================] - 0s 20ms/step - loss: 1.4921 - mae: 1.4921\n",
            "Epoch 60/100\n",
            "1/1 [==============================] - 0s 14ms/step - loss: 1.2389 - mae: 1.2389\n",
            "Epoch 61/100\n",
            "1/1 [==============================] - 0s 12ms/step - loss: 0.9720 - mae: 0.9720\n",
            "Epoch 62/100\n",
            "1/1 [==============================] - 0s 11ms/step - loss: 0.7083 - mae: 0.7083\n",
            "Epoch 63/100\n",
            "1/1 [==============================] - 0s 22ms/step - loss: 0.4826 - mae: 0.4826\n",
            "Epoch 64/100\n",
            "1/1 [==============================] - 0s 13ms/step - loss: 0.1814 - mae: 0.1814\n",
            "Epoch 65/100\n",
            "1/1 [==============================] - 0s 38ms/step - loss: 0.4477 - mae: 0.4477\n",
            "Epoch 66/100\n",
            "1/1 [==============================] - 0s 22ms/step - loss: 0.6122 - mae: 0.6122\n",
            "Epoch 67/100\n",
            "1/1 [==============================] - 0s 12ms/step - loss: 0.6248 - mae: 0.6248\n",
            "Epoch 68/100\n",
            "1/1 [==============================] - 0s 14ms/step - loss: 0.8620 - mae: 0.8620\n",
            "Epoch 69/100\n",
            "1/1 [==============================] - 0s 14ms/step - loss: 0.8914 - mae: 0.8914\n",
            "Epoch 70/100\n",
            "1/1 [==============================] - 0s 14ms/step - loss: 0.8691 - mae: 0.8691\n",
            "Epoch 71/100\n",
            "1/1 [==============================] - 0s 15ms/step - loss: 0.8984 - mae: 0.8984\n",
            "Epoch 72/100\n",
            "1/1 [==============================] - 0s 14ms/step - loss: 0.7819 - mae: 0.7819\n",
            "Epoch 73/100\n",
            "1/1 [==============================] - 0s 15ms/step - loss: 0.7658 - mae: 0.7658\n",
            "Epoch 74/100\n",
            "1/1 [==============================] - 0s 13ms/step - loss: 0.6617 - mae: 0.6617\n",
            "Epoch 75/100\n",
            "1/1 [==============================] - 0s 34ms/step - loss: 0.4294 - mae: 0.4294\n",
            "Epoch 76/100\n",
            "1/1 [==============================] - 0s 20ms/step - loss: 0.3163 - mae: 0.3163\n",
            "Epoch 77/100\n",
            "1/1 [==============================] - 0s 14ms/step - loss: 0.1315 - mae: 0.1315\n",
            "Epoch 78/100\n",
            "1/1 [==============================] - 0s 10ms/step - loss: 0.0877 - mae: 0.0877\n",
            "Epoch 79/100\n",
            "1/1 [==============================] - 0s 10ms/step - loss: 0.2815 - mae: 0.2815\n",
            "Epoch 80/100\n",
            "1/1 [==============================] - 0s 9ms/step - loss: 0.3069 - mae: 0.3069\n",
            "Epoch 81/100\n",
            "1/1 [==============================] - 0s 9ms/step - loss: 0.4254 - mae: 0.4254\n",
            "Epoch 82/100\n",
            "1/1 [==============================] - 0s 10ms/step - loss: 0.4150 - mae: 0.4150\n",
            "Epoch 83/100\n",
            "1/1 [==============================] - 0s 10ms/step - loss: 0.3716 - mae: 0.3716\n",
            "Epoch 84/100\n",
            "1/1 [==============================] - 0s 10ms/step - loss: 0.3281 - mae: 0.3281\n",
            "Epoch 85/100\n",
            "1/1 [==============================] - 0s 11ms/step - loss: 0.2890 - mae: 0.2890\n",
            "Epoch 86/100\n",
            "1/1 [==============================] - 0s 10ms/step - loss: 0.2019 - mae: 0.2019\n",
            "Epoch 87/100\n",
            "1/1 [==============================] - 0s 10ms/step - loss: 0.1105 - mae: 0.1105\n",
            "Epoch 88/100\n",
            "1/1 [==============================] - 0s 10ms/step - loss: 0.1004 - mae: 0.1004\n",
            "Epoch 89/100\n",
            "1/1 [==============================] - 0s 12ms/step - loss: 0.1955 - mae: 0.1955\n",
            "Epoch 90/100\n",
            "1/1 [==============================] - 0s 11ms/step - loss: 0.2115 - mae: 0.2115\n",
            "Epoch 91/100\n",
            "1/1 [==============================] - 0s 13ms/step - loss: 0.2088 - mae: 0.2088\n",
            "Epoch 92/100\n",
            "1/1 [==============================] - 0s 14ms/step - loss: 0.2009 - mae: 0.2009\n",
            "Epoch 93/100\n",
            "1/1 [==============================] - 0s 12ms/step - loss: 0.1125 - mae: 0.1125\n",
            "Epoch 94/100\n",
            "1/1 [==============================] - 0s 12ms/step - loss: 0.0238 - mae: 0.0238\n",
            "Epoch 95/100\n",
            "1/1 [==============================] - 0s 19ms/step - loss: 0.2550 - mae: 0.2550\n",
            "Epoch 96/100\n",
            "1/1 [==============================] - 0s 14ms/step - loss: 0.2191 - mae: 0.2191\n",
            "Epoch 97/100\n",
            "1/1 [==============================] - 0s 14ms/step - loss: 0.3191 - mae: 0.3191\n",
            "Epoch 98/100\n",
            "1/1 [==============================] - 0s 9ms/step - loss: 0.3781 - mae: 0.3781\n",
            "Epoch 99/100\n",
            "1/1 [==============================] - 0s 32ms/step - loss: 0.2788 - mae: 0.2788\n",
            "Epoch 100/100\n",
            "1/1 [==============================] - 0s 13ms/step - loss: 0.2652 - mae: 0.2652\n"
          ]
        },
        {
          "output_type": "execute_result",
          "data": {
            "text/plain": [
              "<keras.src.callbacks.History at 0x7d56e819a3e0>"
            ]
          },
          "metadata": {},
          "execution_count": 20
        }
      ]
    },
    {
      "cell_type": "code",
      "source": [
        "model.predict([17.0])"
      ],
      "metadata": {
        "colab": {
          "base_uri": "https://localhost:8080/"
        },
        "id": "fOKdU7YEv2v4",
        "outputId": "9a00f18c-ec96-459c-9478-5f255381d43c"
      },
      "execution_count": 21,
      "outputs": [
        {
          "output_type": "stream",
          "name": "stdout",
          "text": [
            "1/1 [==============================] - 0s 53ms/step\n"
          ]
        },
        {
          "output_type": "execute_result",
          "data": {
            "text/plain": [
              "array([[27.553028]], dtype=float32)"
            ]
          },
          "metadata": {},
          "execution_count": 21
        }
      ]
    },
    {
      "cell_type": "markdown",
      "source": [
        "## Evaluting a Model"
      ],
      "metadata": {
        "id": "butMlV282wv8"
      }
    },
    {
      "cell_type": "code",
      "source": [
        "# Lets make a bigger data set\n",
        "X = tf.range(-100,100,4)\n",
        "X"
      ],
      "metadata": {
        "colab": {
          "base_uri": "https://localhost:8080/"
        },
        "id": "qecjGyZNw4iD",
        "outputId": "5e0c60bb-f57f-498b-bd5a-25ad26a20e46"
      },
      "execution_count": 22,
      "outputs": [
        {
          "output_type": "execute_result",
          "data": {
            "text/plain": [
              "<tf.Tensor: shape=(50,), dtype=int32, numpy=\n",
              "array([-100,  -96,  -92,  -88,  -84,  -80,  -76,  -72,  -68,  -64,  -60,\n",
              "        -56,  -52,  -48,  -44,  -40,  -36,  -32,  -28,  -24,  -20,  -16,\n",
              "        -12,   -8,   -4,    0,    4,    8,   12,   16,   20,   24,   28,\n",
              "         32,   36,   40,   44,   48,   52,   56,   60,   64,   68,   72,\n",
              "         76,   80,   84,   88,   92,   96], dtype=int32)>"
            ]
          },
          "metadata": {},
          "execution_count": 22
        }
      ]
    },
    {
      "cell_type": "code",
      "source": [
        "# Lets make the labels\n",
        "Y = X+ 10\n",
        "Y"
      ],
      "metadata": {
        "colab": {
          "base_uri": "https://localhost:8080/"
        },
        "id": "zVt7o3Ld3B2U",
        "outputId": "05a97fcc-49c1-40cf-9c8c-bfa085760849"
      },
      "execution_count": 23,
      "outputs": [
        {
          "output_type": "execute_result",
          "data": {
            "text/plain": [
              "<tf.Tensor: shape=(50,), dtype=int32, numpy=\n",
              "array([-90, -86, -82, -78, -74, -70, -66, -62, -58, -54, -50, -46, -42,\n",
              "       -38, -34, -30, -26, -22, -18, -14, -10,  -6,  -2,   2,   6,  10,\n",
              "        14,  18,  22,  26,  30,  34,  38,  42,  46,  50,  54,  58,  62,\n",
              "        66,  70,  74,  78,  82,  86,  90,  94,  98, 102, 106], dtype=int32)>"
            ]
          },
          "metadata": {},
          "execution_count": 23
        }
      ]
    },
    {
      "cell_type": "code",
      "source": [
        "# Lets visualize\n",
        "import matplotlib.pyplot as plt\n",
        "plt.scatter(X,Y);"
      ],
      "metadata": {
        "colab": {
          "base_uri": "https://localhost:8080/",
          "height": 430
        },
        "id": "jyDCYG-43D4b",
        "outputId": "ab09c9e9-9f96-488a-e935-6170ebbe533a"
      },
      "execution_count": 24,
      "outputs": [
        {
          "output_type": "display_data",
          "data": {
            "text/plain": [
              "<Figure size 640x480 with 1 Axes>"
            ],
            "image/png": "[encoded data removed]"
          },
          "metadata": {}
        }
      ]
    },
    {
      "cell_type": "markdown",
      "source": [
        "## the 3 stets"
      ],
      "metadata": {
        "id": "bXhLqnjN3jbr"
      }
    },
    {
      "cell_type": "code",
      "source": [
        "len(X)"
      ],
      "metadata": {
        "colab": {
          "base_uri": "https://localhost:8080/"
        },
        "id": "FEU7vo5B30C0",
        "outputId": "1aa67ab1-c905-4dc9-a0a0-b3ba7a19c1c3"
      },
      "execution_count": 25,
      "outputs": [
        {
          "output_type": "execute_result",
          "data": {
            "text/plain": [
              "50"
            ]
          },
          "metadata": {},
          "execution_count": 25
        }
      ]
    },
    {
      "cell_type": "code",
      "source": [
        "# Lets split the data into train test data sets\n",
        "x_train = X[:40]\n",
        "x_test = X[40:]\n",
        "y_train = Y[:40]\n",
        "y_test = Y[40:]\n",
        "len(x_test)"
      ],
      "metadata": {
        "colab": {
          "base_uri": "https://localhost:8080/"
        },
        "id": "OjmcrMHI42V9",
        "outputId": "df17fff9-8142-4455-fb74-5669b407dde3"
      },
      "execution_count": 26,
      "outputs": [
        {
          "output_type": "execute_result",
          "data": {
            "text/plain": [
              "10"
            ]
          },
          "metadata": {},
          "execution_count": 26
        }
      ]
    },
    {
      "cell_type": "code",
      "source": [
        "# Lets look how to make a nural network for our data\n",
        "\n",
        "# 1. Create Model\n",
        "model1 = tf.keras.Sequential([\n",
        "    tf.keras.layers.Dense(1)\n",
        "])\n",
        "\n",
        "#Lets compile the model\n",
        "model1.compile(loss=tf.keras.losses.mae, # mae = mean absulate error\n",
        "              optimizer=tf.keras.optimizers.SGD(), # sgd is short for stochachastic greadent descent\n",
        "              metrics=[\"mae\"])\n",
        "\n",
        "#Lets fit the model on training data set\n",
        "model1.fit(tf.expand_dims(x_train,axis=-1),y_train, epochs=100)"
      ],
      "metadata": {
        "colab": {
          "base_uri": "https://localhost:8080/"
        },
        "id": "k6ozCmCM5cQg",
        "outputId": "967c54de-0615-4c63-d1c3-50936b920111"
      },
      "execution_count": 27,
      "outputs": [
        {
          "output_type": "stream",
          "name": "stdout",
          "text": [
            "Epoch 1/100\n",
            "2/2 [==============================] - 0s 9ms/step - loss: 31.0079 - mae: 31.0079\n",
            "Epoch 2/100\n",
            "2/2 [==============================] - 0s 6ms/step - loss: 9.9872 - mae: 9.9872\n",
            "Epoch 3/100\n",
            "2/2 [==============================] - 0s 6ms/step - loss: 10.4819 - mae: 10.4819\n",
            "Epoch 4/100\n",
            "2/2 [==============================] - 0s 8ms/step - loss: 9.6671 - mae: 9.6671\n",
            "Epoch 5/100\n",
            "2/2 [==============================] - 0s 7ms/step - loss: 10.5932 - mae: 10.5932\n",
            "Epoch 6/100\n",
            "2/2 [==============================] - 0s 10ms/step - loss: 9.8036 - mae: 9.8036\n",
            "Epoch 7/100\n",
            "2/2 [==============================] - 0s 7ms/step - loss: 8.8814 - mae: 8.8814\n",
            "Epoch 8/100\n",
            "2/2 [==============================] - 0s 7ms/step - loss: 9.0633 - mae: 9.0633\n",
            "Epoch 9/100\n",
            "2/2 [==============================] - 0s 7ms/step - loss: 19.5442 - mae: 19.5442\n",
            "Epoch 10/100\n",
            "2/2 [==============================] - 0s 8ms/step - loss: 10.5498 - mae: 10.5498\n",
            "Epoch 11/100\n",
            "2/2 [==============================] - 0s 7ms/step - loss: 8.5631 - mae: 8.5631\n",
            "Epoch 12/100\n",
            "2/2 [==============================] - 0s 7ms/step - loss: 11.0476 - mae: 11.0476\n",
            "Epoch 13/100\n",
            "2/2 [==============================] - 0s 9ms/step - loss: 7.5824 - mae: 7.5824\n",
            "Epoch 14/100\n",
            "2/2 [==============================] - 0s 7ms/step - loss: 15.8319 - mae: 15.8319\n",
            "Epoch 15/100\n",
            "2/2 [==============================] - 0s 6ms/step - loss: 12.8999 - mae: 12.8999\n",
            "Epoch 16/100\n",
            "2/2 [==============================] - 0s 12ms/step - loss: 7.6309 - mae: 7.6309\n",
            "Epoch 17/100\n",
            "2/2 [==============================] - 0s 7ms/step - loss: 12.6140 - mae: 12.6140\n",
            "Epoch 18/100\n",
            "2/2 [==============================] - 0s 6ms/step - loss: 9.6101 - mae: 9.6101\n",
            "Epoch 19/100\n",
            "2/2 [==============================] - 0s 7ms/step - loss: 13.4077 - mae: 13.4077\n",
            "Epoch 20/100\n",
            "2/2 [==============================] - 0s 7ms/step - loss: 11.4977 - mae: 11.4977\n",
            "Epoch 21/100\n",
            "2/2 [==============================] - 0s 7ms/step - loss: 9.0642 - mae: 9.0642\n",
            "Epoch 22/100\n",
            "2/2 [==============================] - 0s 8ms/step - loss: 8.7172 - mae: 8.7172\n",
            "Epoch 23/100\n",
            "2/2 [==============================] - 0s 8ms/step - loss: 10.2269 - mae: 10.2269\n",
            "Epoch 24/100\n",
            "2/2 [==============================] - 0s 7ms/step - loss: 15.3969 - mae: 15.3969\n",
            "Epoch 25/100\n",
            "2/2 [==============================] - 0s 8ms/step - loss: 11.9310 - mae: 11.9310\n",
            "Epoch 26/100\n",
            "2/2 [==============================] - 0s 7ms/step - loss: 12.9957 - mae: 12.9957\n",
            "Epoch 27/100\n",
            "2/2 [==============================] - 0s 7ms/step - loss: 10.3533 - mae: 10.3533\n",
            "Epoch 28/100\n",
            "2/2 [==============================] - 0s 8ms/step - loss: 13.3304 - mae: 13.3304\n",
            "Epoch 29/100\n",
            "2/2 [==============================] - 0s 8ms/step - loss: 9.5879 - mae: 9.5879\n",
            "Epoch 30/100\n",
            "2/2 [==============================] - 0s 7ms/step - loss: 17.1150 - mae: 17.1150\n",
            "Epoch 31/100\n",
            "2/2 [==============================] - 0s 7ms/step - loss: 22.9309 - mae: 22.9309\n",
            "Epoch 32/100\n",
            "2/2 [==============================] - 0s 8ms/step - loss: 7.9028 - mae: 7.9028\n",
            "Epoch 33/100\n",
            "2/2 [==============================] - 0s 7ms/step - loss: 14.0865 - mae: 14.0865\n",
            "Epoch 34/100\n",
            "2/2 [==============================] - 0s 7ms/step - loss: 12.3216 - mae: 12.3216\n",
            "Epoch 35/100\n",
            "2/2 [==============================] - 0s 14ms/step - loss: 8.2629 - mae: 8.2629\n",
            "Epoch 36/100\n",
            "2/2 [==============================] - 0s 7ms/step - loss: 10.4929 - mae: 10.4929\n",
            "Epoch 37/100\n",
            "2/2 [==============================] - 0s 7ms/step - loss: 10.1335 - mae: 10.1335\n",
            "Epoch 38/100\n",
            "2/2 [==============================] - 0s 7ms/step - loss: 11.3419 - mae: 11.3419\n",
            "Epoch 39/100\n",
            "2/2 [==============================] - 0s 7ms/step - loss: 14.7085 - mae: 14.7085\n",
            "Epoch 40/100\n",
            "2/2 [==============================] - 0s 9ms/step - loss: 12.8391 - mae: 12.8391\n",
            "Epoch 41/100\n",
            "2/2 [==============================] - 0s 7ms/step - loss: 9.2237 - mae: 9.2237\n",
            "Epoch 42/100\n",
            "2/2 [==============================] - 0s 8ms/step - loss: 11.0166 - mae: 11.0166\n",
            "Epoch 43/100\n",
            "2/2 [==============================] - 0s 7ms/step - loss: 8.3260 - mae: 8.3260\n",
            "Epoch 44/100\n",
            "2/2 [==============================] - 0s 8ms/step - loss: 13.0834 - mae: 13.0834\n",
            "Epoch 45/100\n",
            "2/2 [==============================] - 0s 7ms/step - loss: 13.6247 - mae: 13.6247\n",
            "Epoch 46/100\n",
            "2/2 [==============================] - 0s 8ms/step - loss: 8.2494 - mae: 8.2494\n",
            "Epoch 47/100\n",
            "2/2 [==============================] - 0s 7ms/step - loss: 8.7304 - mae: 8.7304\n",
            "Epoch 48/100\n",
            "2/2 [==============================] - 0s 7ms/step - loss: 10.0367 - mae: 10.0367\n",
            "Epoch 49/100\n",
            "2/2 [==============================] - 0s 8ms/step - loss: 8.5160 - mae: 8.5160\n",
            "Epoch 50/100\n",
            "2/2 [==============================] - 0s 7ms/step - loss: 9.0258 - mae: 9.0258\n",
            "Epoch 51/100\n",
            "2/2 [==============================] - 0s 7ms/step - loss: 9.3691 - mae: 9.3691\n",
            "Epoch 52/100\n",
            "2/2 [==============================] - 0s 7ms/step - loss: 14.0578 - mae: 14.0578\n",
            "Epoch 53/100\n",
            "2/2 [==============================] - 0s 7ms/step - loss: 15.3853 - mae: 15.3853\n",
            "Epoch 54/100\n",
            "2/2 [==============================] - 0s 7ms/step - loss: 10.8924 - mae: 10.8924\n",
            "Epoch 55/100\n",
            "2/2 [==============================] - 0s 6ms/step - loss: 15.4168 - mae: 15.4168\n",
            "Epoch 56/100\n",
            "2/2 [==============================] - 0s 7ms/step - loss: 9.1094 - mae: 9.1094\n",
            "Epoch 57/100\n",
            "2/2 [==============================] - 0s 8ms/step - loss: 9.6879 - mae: 9.6879\n",
            "Epoch 58/100\n",
            "2/2 [==============================] - 0s 11ms/step - loss: 8.9929 - mae: 8.9929\n",
            "Epoch 59/100\n",
            "2/2 [==============================] - 0s 8ms/step - loss: 10.2283 - mae: 10.2283\n",
            "Epoch 60/100\n",
            "2/2 [==============================] - 0s 8ms/step - loss: 8.1560 - mae: 8.1560\n",
            "Epoch 61/100\n",
            "2/2 [==============================] - 0s 8ms/step - loss: 10.0240 - mae: 10.0240\n",
            "Epoch 62/100\n",
            "2/2 [==============================] - 0s 6ms/step - loss: 7.0242 - mae: 7.0242\n",
            "Epoch 63/100\n",
            "2/2 [==============================] - 0s 7ms/step - loss: 12.6633 - mae: 12.6633\n",
            "Epoch 64/100\n",
            "2/2 [==============================] - 0s 6ms/step - loss: 12.6074 - mae: 12.6074\n",
            "Epoch 65/100\n",
            "2/2 [==============================] - 0s 7ms/step - loss: 9.4289 - mae: 9.4289\n",
            "Epoch 66/100\n",
            "2/2 [==============================] - 0s 7ms/step - loss: 11.4959 - mae: 11.4959\n",
            "Epoch 67/100\n",
            "2/2 [==============================] - 0s 7ms/step - loss: 8.0270 - mae: 8.0270\n",
            "Epoch 68/100\n",
            "2/2 [==============================] - 0s 7ms/step - loss: 8.5548 - mae: 8.5548\n",
            "Epoch 69/100\n",
            "2/2 [==============================] - 0s 7ms/step - loss: 12.2510 - mae: 12.2510\n",
            "Epoch 70/100\n",
            "2/2 [==============================] - 0s 8ms/step - loss: 8.9466 - mae: 8.9466\n",
            "Epoch 71/100\n",
            "2/2 [==============================] - 0s 8ms/step - loss: 9.9227 - mae: 9.9227\n",
            "Epoch 72/100\n",
            "2/2 [==============================] - 0s 15ms/step - loss: 9.9606 - mae: 9.9606\n",
            "Epoch 73/100\n",
            "2/2 [==============================] - 0s 8ms/step - loss: 12.4338 - mae: 12.4338\n",
            "Epoch 74/100\n",
            "2/2 [==============================] - 0s 8ms/step - loss: 10.5533 - mae: 10.5533\n",
            "Epoch 75/100\n",
            "2/2 [==============================] - 0s 8ms/step - loss: 9.6205 - mae: 9.6205\n",
            "Epoch 76/100\n",
            "2/2 [==============================] - 0s 10ms/step - loss: 11.0871 - mae: 11.0871\n",
            "Epoch 77/100\n",
            "2/2 [==============================] - 0s 8ms/step - loss: 8.2695 - mae: 8.2695\n",
            "Epoch 78/100\n",
            "2/2 [==============================] - 0s 7ms/step - loss: 8.9614 - mae: 8.9614\n",
            "Epoch 79/100\n",
            "2/2 [==============================] - 0s 7ms/step - loss: 19.7673 - mae: 19.7673\n",
            "Epoch 80/100\n",
            "2/2 [==============================] - 0s 8ms/step - loss: 17.8211 - mae: 17.8211\n",
            "Epoch 81/100\n",
            "2/2 [==============================] - 0s 13ms/step - loss: 7.0596 - mae: 7.0596\n",
            "Epoch 82/100\n",
            "2/2 [==============================] - 0s 11ms/step - loss: 10.3986 - mae: 10.3986\n",
            "Epoch 83/100\n",
            "2/2 [==============================] - 0s 9ms/step - loss: 9.8233 - mae: 9.8233\n",
            "Epoch 84/100\n",
            "2/2 [==============================] - 0s 11ms/step - loss: 7.9201 - mae: 7.9201\n",
            "Epoch 85/100\n",
            "2/2 [==============================] - 0s 9ms/step - loss: 9.4277 - mae: 9.4277\n",
            "Epoch 86/100\n",
            "2/2 [==============================] - 0s 10ms/step - loss: 9.4737 - mae: 9.4737\n",
            "Epoch 87/100\n",
            "2/2 [==============================] - 0s 9ms/step - loss: 11.4177 - mae: 11.4177\n",
            "Epoch 88/100\n",
            "2/2 [==============================] - 0s 10ms/step - loss: 9.9147 - mae: 9.9147\n",
            "Epoch 89/100\n",
            "2/2 [==============================] - 0s 8ms/step - loss: 7.2371 - mae: 7.2371\n",
            "Epoch 90/100\n",
            "2/2 [==============================] - 0s 12ms/step - loss: 12.6737 - mae: 12.6737\n",
            "Epoch 91/100\n",
            "2/2 [==============================] - 0s 10ms/step - loss: 7.2937 - mae: 7.2937\n",
            "Epoch 92/100\n",
            "2/2 [==============================] - 0s 7ms/step - loss: 7.6558 - mae: 7.6558\n",
            "Epoch 93/100\n",
            "2/2 [==============================] - 0s 12ms/step - loss: 7.1033 - mae: 7.1033\n",
            "Epoch 94/100\n",
            "2/2 [==============================] - 0s 10ms/step - loss: 12.5222 - mae: 12.5222\n",
            "Epoch 95/100\n",
            "2/2 [==============================] - 0s 8ms/step - loss: 9.8964 - mae: 9.8964\n",
            "Epoch 96/100\n",
            "2/2 [==============================] - 0s 8ms/step - loss: 9.1300 - mae: 9.1300\n",
            "Epoch 97/100\n",
            "2/2 [==============================] - 0s 8ms/step - loss: 12.0839 - mae: 12.0839\n",
            "Epoch 98/100\n",
            "2/2 [==============================] - 0s 8ms/step - loss: 9.0436 - mae: 9.0436\n",
            "Epoch 99/100\n",
            "2/2 [==============================] - 0s 8ms/step - loss: 8.4870 - mae: 8.4870\n",
            "Epoch 100/100\n",
            "2/2 [==============================] - 0s 9ms/step - loss: 14.4689 - mae: 14.4689\n"
          ]
        },
        {
          "output_type": "execute_result",
          "data": {
            "text/plain": [
              "<keras.src.callbacks.History at 0x7d56ac3cb7c0>"
            ]
          },
          "metadata": {},
          "execution_count": 27
        }
      ]
    },
    {
      "cell_type": "code",
      "source": [
        "model = tf.keras.Sequential([\n",
        "    tf.keras.layers.Dense(10, input_shape=[1])\n",
        "])\n",
        "\n",
        "model.compile(loss=tf.keras.losses.mae,\n",
        "              optimizer=tf.keras.optimizers.SGD(),\n",
        "              metrics=[\"mae\"])"
      ],
      "metadata": {
        "id": "2HyRUS2o8fPt"
      },
      "execution_count": 28,
      "outputs": []
    },
    {
      "cell_type": "code",
      "source": [
        "model.fit(x_train,y_train,epochs=100,verbose=0)"
      ],
      "metadata": {
        "colab": {
          "base_uri": "https://localhost:8080/"
        },
        "id": "GZWxkenI9_kb",
        "outputId": "9484ffee-0dcf-4f8e-baaf-1f0b7a08f7ae"
      },
      "execution_count": 29,
      "outputs": [
        {
          "output_type": "execute_result",
          "data": {
            "text/plain": [
              "<keras.src.callbacks.History at 0x7d56ac46a3e0>"
            ]
          },
          "metadata": {},
          "execution_count": 29
        }
      ]
    },
    {
      "cell_type": "code",
      "source": [
        "model.summary()"
      ],
      "metadata": {
        "colab": {
          "base_uri": "https://localhost:8080/"
        },
        "id": "9fsyykyO40od",
        "outputId": "c649a70d-ae4a-46da-e923-8e1788a66c05"
      },
      "execution_count": 30,
      "outputs": [
        {
          "output_type": "stream",
          "name": "stdout",
          "text": [
            "Model: \"sequential_7\"\n",
            "_________________________________________________________________\n",
            " Layer (type)                Output Shape              Param #   \n",
            "=================================================================\n",
            " dense_14 (Dense)            (None, 10)                20        \n",
            "                                                                 \n",
            "=================================================================\n",
            "Total params: 20 (80.00 Byte)\n",
            "Trainable params: 20 (80.00 Byte)\n",
            "Non-trainable params: 0 (0.00 Byte)\n",
            "_________________________________________________________________\n"
          ]
        }
      ]
    },
    {
      "cell_type": "code",
      "source": [
        "from tensorflow.keras.utils import plot_model\n",
        "\n",
        "plot_model(model=model,show_shapes=True)"
      ],
      "metadata": {
        "colab": {
          "base_uri": "https://localhost:8080/",
          "height": 201
        },
        "id": "tDNrda4J45eI",
        "outputId": "75aef57f-4f49-46f0-cf1d-469594dc33f4"
      },
      "execution_count": 31,
      "outputs": [
        {
          "output_type": "execute_result",
          "data": {
            "image/png": "[encoded data removed]",
            "text/plain": [
              "<IPython.core.display.Image object>"
            ]
          },
          "metadata": {},
          "execution_count": 31
        }
      ]
    },
    {
      "cell_type": "markdown",
      "source": [
        "### Visualizing our model pridiction"
      ],
      "metadata": {
        "id": "8qOjHfzl59pI"
      }
    },
    {
      "cell_type": "code",
      "source": [
        "y_preds = model1.predict(x_test)\n",
        "\n",
        "y_preds"
      ],
      "metadata": {
        "colab": {
          "base_uri": "https://localhost:8080/"
        },
        "id": "YuF0TLAq7Li-",
        "outputId": "c535adf8-5ea3-4a39-8857-4737d6401ce9"
      },
      "execution_count": 32,
      "outputs": [
        {
          "output_type": "stream",
          "name": "stderr",
          "text": [
            "WARNING:tensorflow:5 out of the last 6 calls to <function Model.make_predict_function.<locals>.predict_function at 0x7d56ac1815a0> triggered tf.function retracing. Tracing is expensive and the excessive number of tracings could be due to (1) creating @tf.function repeatedly in a loop, (2) passing tensors with different shapes, (3) passing Python objects instead of tensors. For (1), please define your @tf.function outside of the loop. For (2), @tf.function has reduce_retracing=True option that can avoid unnecessary retracing. For (3), please refer to https://www.tensorflow.org/guide/function#controlling_retracing and https://www.tensorflow.org/api_docs/python/tf/function for  more details.\n"
          ]
        },
        {
          "output_type": "stream",
          "name": "stdout",
          "text": [
            "1/1 [==============================] - 0s 44ms/step\n"
          ]
        },
        {
          "output_type": "execute_result",
          "data": {
            "text/plain": [
              "array([[44.51604 ],\n",
              "       [47.39586 ],\n",
              "       [50.275677],\n",
              "       [53.1555  ],\n",
              "       [56.035316],\n",
              "       [58.91514 ],\n",
              "       [61.794956],\n",
              "       [64.674774],\n",
              "       [67.554596],\n",
              "       [70.43441 ]], dtype=float32)"
            ]
          },
          "metadata": {},
          "execution_count": 32
        }
      ]
    },
    {
      "cell_type": "code",
      "source": [
        "y_test"
      ],
      "metadata": {
        "colab": {
          "base_uri": "https://localhost:8080/"
        },
        "id": "zEG9pIa2jEtw",
        "outputId": "1d93c7f3-e727-4bc5-a303-e995f7369c82"
      },
      "execution_count": 33,
      "outputs": [
        {
          "output_type": "execute_result",
          "data": {
            "text/plain": [
              "<tf.Tensor: shape=(10,), dtype=int32, numpy=array([ 70,  74,  78,  82,  86,  90,  94,  98, 102, 106], dtype=int32)>"
            ]
          },
          "metadata": {},
          "execution_count": 33
        }
      ]
    },
    {
      "cell_type": "code",
      "source": [
        "# Lets create a ploting function\n",
        "def plot_prediction(train_data=x_train,\n",
        "                    train_labels=y_train,\n",
        "                    test_data = x_test,\n",
        "                    test_labels=y_test,\n",
        "                    prediction = y_preds):\n",
        "  \"\"\"\n",
        "  Plots traning data , testing data and comparing prediction to ground truth labels\n",
        "  \"\"\"\n",
        "  plt.figure(figsize=(10,7))\n",
        "  plt.scatter(train_data, train_labels, c=\"b\", label = \"Traning data\")\n",
        "  plt.scatter(test_data, test_labels, c=\"g\", label = \"Testing data\")\n",
        "  plt.scatter(test_data, prediction, c=\"r\", label = \"Predictions\")\n",
        "  plt.legend();\n"
      ],
      "metadata": {
        "id": "eYMpRm2NjgpH"
      },
      "execution_count": 34,
      "outputs": []
    },
    {
      "cell_type": "code",
      "source": [
        "plot_prediction()"
      ],
      "metadata": {
        "colab": {
          "base_uri": "https://localhost:8080/",
          "height": 599
        },
        "id": "BVR1FohRmb3m",
        "outputId": "21c7bad0-c936-4ec5-ab37-aa2ffaa62c8b"
      },
      "execution_count": 35,
      "outputs": [
        {
          "output_type": "display_data",
          "data": {
            "text/plain": [
              "<Figure size 1000x700 with 1 Axes>"
            ],
            "image/png": "[encoded data removed]"
          },
          "metadata": {}
        }
      ]
    },
    {
      "cell_type": "code",
      "source": [
        "#Calculating mean absolute error\n",
        "mae=tf.metrics.mean_absolute_error(y_true=y_test, y_pred=tf.squeeze(y_preds))\n",
        "\n",
        "mae"
      ],
      "metadata": {
        "colab": {
          "base_uri": "https://localhost:8080/"
        },
        "id": "LFin73mCmgAW",
        "outputId": "87b183b1-87e4-43c4-fc7a-2c2170d9b582"
      },
      "execution_count": 36,
      "outputs": [
        {
          "output_type": "execute_result",
          "data": {
            "text/plain": [
              "<tf.Tensor: shape=(), dtype=float32, numpy=30.524775>"
            ]
          },
          "metadata": {},
          "execution_count": 36
        }
      ]
    },
    {
      "cell_type": "code",
      "source": [
        "def mae(y_true, y_preds):\n",
        "  return tf.metrics.mean_absolute_error(y_true=y_test, y_pred=y_preds)\n",
        "\n",
        "def mse(y_true, y_preds):\n",
        "  return tf.metrics.mean_squared_error(y_true=y_test, y_pred=y_preds)"
      ],
      "metadata": {
        "id": "51Azy2X4oeu7"
      },
      "execution_count": 50,
      "outputs": []
    },
    {
      "cell_type": "markdown",
      "source": [
        "Improving our model\n"
      ],
      "metadata": {
        "id": "qDd61tA8gACC"
      }
    },
    {
      "cell_type": "code",
      "source": [
        "x_train , y_train"
      ],
      "metadata": {
        "id": "6mRMcFKRqKeg",
        "colab": {
          "base_uri": "https://localhost:8080/"
        },
        "outputId": "69bcebb8-5fd1-432b-922c-21b3ce62e93f"
      },
      "execution_count": 39,
      "outputs": [
        {
          "output_type": "execute_result",
          "data": {
            "text/plain": [
              "(<tf.Tensor: shape=(40,), dtype=int32, numpy=\n",
              " array([-100,  -96,  -92,  -88,  -84,  -80,  -76,  -72,  -68,  -64,  -60,\n",
              "         -56,  -52,  -48,  -44,  -40,  -36,  -32,  -28,  -24,  -20,  -16,\n",
              "         -12,   -8,   -4,    0,    4,    8,   12,   16,   20,   24,   28,\n",
              "          32,   36,   40,   44,   48,   52,   56], dtype=int32)>,\n",
              " <tf.Tensor: shape=(40,), dtype=int32, numpy=\n",
              " array([-90, -86, -82, -78, -74, -70, -66, -62, -58, -54, -50, -46, -42,\n",
              "        -38, -34, -30, -26, -22, -18, -14, -10,  -6,  -2,   2,   6,  10,\n",
              "         14,  18,  22,  26,  30,  34,  38,  42,  46,  50,  54,  58,  62,\n",
              "         66], dtype=int32)>)"
            ]
          },
          "metadata": {},
          "execution_count": 39
        }
      ]
    },
    {
      "cell_type": "code",
      "source": [
        "# Set a random seed\n",
        "tf.random.set_seed(42)\n",
        "\n",
        "# Creating the model\n",
        "model_1 = tf.keras.Sequential([\n",
        "    tf.keras.layers.Dense(1)\n",
        "])\n",
        "\n",
        "# Compiling the model\n",
        "model_1.compile(loss=tf.keras.losses.mae,\n",
        "                optimizer = tf.keras.optimizers.SGD(),\n",
        "                metrics=[\"mae\"])\n",
        "# Fitting the model\n",
        "model_1.fit(tf.expand_dims(x_train,axis=-1),y_train, epochs = 100)\n"
      ],
      "metadata": {
        "colab": {
          "base_uri": "https://localhost:8080/"
        },
        "id": "D10paQh_gYUT",
        "outputId": "3e45c6e5-184e-4a73-9fa9-740dbb8c44c8"
      },
      "execution_count": 43,
      "outputs": [
        {
          "output_type": "stream",
          "name": "stdout",
          "text": [
            "Epoch 1/100\n",
            "2/2 [==============================] - 0s 12ms/step - loss: 80.0004 - mae: 80.0004\n",
            "Epoch 2/100\n",
            "2/2 [==============================] - 0s 7ms/step - loss: 44.6207 - mae: 44.6207\n",
            "Epoch 3/100\n",
            "2/2 [==============================] - 0s 6ms/step - loss: 11.6324 - mae: 11.6324\n",
            "Epoch 4/100\n",
            "2/2 [==============================] - 0s 7ms/step - loss: 9.4014 - mae: 9.4014\n",
            "Epoch 5/100\n",
            "2/2 [==============================] - 0s 7ms/step - loss: 10.2811 - mae: 10.2811\n",
            "Epoch 6/100\n",
            "2/2 [==============================] - 0s 7ms/step - loss: 9.5336 - mae: 9.5336\n",
            "Epoch 7/100\n",
            "2/2 [==============================] - 0s 6ms/step - loss: 8.6600 - mae: 8.6600\n",
            "Epoch 8/100\n",
            "2/2 [==============================] - 0s 7ms/step - loss: 9.0740 - mae: 9.0740\n",
            "Epoch 9/100\n",
            "2/2 [==============================] - 0s 7ms/step - loss: 18.9323 - mae: 18.9323\n",
            "Epoch 10/100\n",
            "2/2 [==============================] - 0s 6ms/step - loss: 10.2313 - mae: 10.2313\n",
            "Epoch 11/100\n",
            "2/2 [==============================] - 0s 6ms/step - loss: 8.4578 - mae: 8.4578\n",
            "Epoch 12/100\n",
            "2/2 [==============================] - 0s 7ms/step - loss: 10.7622 - mae: 10.7622\n",
            "Epoch 13/100\n",
            "2/2 [==============================] - 0s 6ms/step - loss: 9.8514 - mae: 9.8514\n",
            "Epoch 14/100\n",
            "2/2 [==============================] - 0s 6ms/step - loss: 16.1993 - mae: 16.1993\n",
            "Epoch 15/100\n",
            "2/2 [==============================] - 0s 6ms/step - loss: 11.2879 - mae: 11.2879\n",
            "Epoch 16/100\n",
            "2/2 [==============================] - 0s 6ms/step - loss: 8.6024 - mae: 8.6024\n",
            "Epoch 17/100\n",
            "2/2 [==============================] - 0s 7ms/step - loss: 13.7549 - mae: 13.7549\n",
            "Epoch 18/100\n",
            "2/2 [==============================] - 0s 7ms/step - loss: 11.6069 - mae: 11.6069\n",
            "Epoch 19/100\n",
            "2/2 [==============================] - 0s 6ms/step - loss: 17.7875 - mae: 17.7875\n",
            "Epoch 20/100\n",
            "2/2 [==============================] - 0s 6ms/step - loss: 14.9231 - mae: 14.9231\n",
            "Epoch 21/100\n",
            "2/2 [==============================] - 0s 8ms/step - loss: 10.8214 - mae: 10.8214\n",
            "Epoch 22/100\n",
            "2/2 [==============================] - 0s 9ms/step - loss: 8.5680 - mae: 8.5680\n",
            "Epoch 23/100\n",
            "2/2 [==============================] - 0s 9ms/step - loss: 9.7732 - mae: 9.7732\n",
            "Epoch 24/100\n",
            "2/2 [==============================] - 0s 6ms/step - loss: 10.9259 - mae: 10.9259\n",
            "Epoch 25/100\n",
            "2/2 [==============================] - 0s 6ms/step - loss: 9.1629 - mae: 9.1629\n",
            "Epoch 26/100\n",
            "2/2 [==============================] - 0s 6ms/step - loss: 13.1591 - mae: 13.1591\n",
            "Epoch 27/100\n",
            "2/2 [==============================] - 0s 7ms/step - loss: 10.4675 - mae: 10.4675\n",
            "Epoch 28/100\n",
            "2/2 [==============================] - 0s 7ms/step - loss: 13.5047 - mae: 13.5047\n",
            "Epoch 29/100\n",
            "2/2 [==============================] - 0s 7ms/step - loss: 10.0251 - mae: 10.0251\n",
            "Epoch 30/100\n",
            "2/2 [==============================] - 0s 7ms/step - loss: 16.0306 - mae: 16.0306\n",
            "Epoch 31/100\n",
            "2/2 [==============================] - 0s 7ms/step - loss: 23.9416 - mae: 23.9416\n",
            "Epoch 32/100\n",
            "2/2 [==============================] - 0s 7ms/step - loss: 8.0295 - mae: 8.0295\n",
            "Epoch 33/100\n",
            "2/2 [==============================] - 0s 6ms/step - loss: 9.7467 - mae: 9.7467\n",
            "Epoch 34/100\n",
            "2/2 [==============================] - 0s 7ms/step - loss: 12.1062 - mae: 12.1062\n",
            "Epoch 35/100\n",
            "2/2 [==============================] - 0s 11ms/step - loss: 11.5611 - mae: 11.5611\n",
            "Epoch 36/100\n",
            "2/2 [==============================] - 0s 6ms/step - loss: 12.7509 - mae: 12.7509\n",
            "Epoch 37/100\n",
            "2/2 [==============================] - 0s 7ms/step - loss: 9.4990 - mae: 9.4990\n",
            "Epoch 38/100\n",
            "2/2 [==============================] - 0s 6ms/step - loss: 10.1637 - mae: 10.1637\n",
            "Epoch 39/100\n",
            "2/2 [==============================] - 0s 6ms/step - loss: 10.1918 - mae: 10.1918\n",
            "Epoch 40/100\n",
            "2/2 [==============================] - 0s 7ms/step - loss: 10.9221 - mae: 10.9221\n",
            "Epoch 41/100\n",
            "2/2 [==============================] - 0s 9ms/step - loss: 7.9188 - mae: 7.9188\n",
            "Epoch 42/100\n",
            "2/2 [==============================] - 0s 6ms/step - loss: 10.1155 - mae: 10.1155\n",
            "Epoch 43/100\n",
            "2/2 [==============================] - 0s 6ms/step - loss: 8.7218 - mae: 8.7218\n",
            "Epoch 44/100\n",
            "2/2 [==============================] - 0s 7ms/step - loss: 12.2293 - mae: 12.2293\n",
            "Epoch 45/100\n",
            "2/2 [==============================] - 0s 7ms/step - loss: 13.8026 - mae: 13.8026\n",
            "Epoch 46/100\n",
            "2/2 [==============================] - 0s 6ms/step - loss: 8.4811 - mae: 8.4811\n",
            "Epoch 47/100\n",
            "2/2 [==============================] - 0s 8ms/step - loss: 9.1558 - mae: 9.1558\n",
            "Epoch 48/100\n",
            "2/2 [==============================] - 0s 7ms/step - loss: 10.6446 - mae: 10.6446\n",
            "Epoch 49/100\n",
            "2/2 [==============================] - 0s 7ms/step - loss: 7.7717 - mae: 7.7717\n",
            "Epoch 50/100\n",
            "2/2 [==============================] - 0s 6ms/step - loss: 9.5649 - mae: 9.5649\n",
            "Epoch 51/100\n",
            "2/2 [==============================] - 0s 6ms/step - loss: 9.1783 - mae: 9.1783\n",
            "Epoch 52/100\n",
            "2/2 [==============================] - 0s 7ms/step - loss: 16.3814 - mae: 16.3814\n",
            "Epoch 53/100\n",
            "2/2 [==============================] - 0s 7ms/step - loss: 14.1385 - mae: 14.1385\n",
            "Epoch 54/100\n",
            "2/2 [==============================] - 0s 7ms/step - loss: 21.1206 - mae: 21.1206\n",
            "Epoch 55/100\n",
            "2/2 [==============================] - 0s 7ms/step - loss: 16.4170 - mae: 16.4170\n",
            "Epoch 56/100\n",
            "2/2 [==============================] - 0s 7ms/step - loss: 9.9424 - mae: 9.9424\n",
            "Epoch 57/100\n",
            "2/2 [==============================] - 0s 6ms/step - loss: 9.6377 - mae: 9.6377\n",
            "Epoch 58/100\n",
            "2/2 [==============================] - 0s 7ms/step - loss: 8.9696 - mae: 8.9696\n",
            "Epoch 59/100\n",
            "2/2 [==============================] - 0s 6ms/step - loss: 10.1573 - mae: 10.1573\n",
            "Epoch 60/100\n",
            "2/2 [==============================] - 0s 6ms/step - loss: 8.4683 - mae: 8.4683\n",
            "Epoch 61/100\n",
            "2/2 [==============================] - 0s 7ms/step - loss: 9.3216 - mae: 9.3216\n",
            "Epoch 62/100\n",
            "2/2 [==============================] - 0s 7ms/step - loss: 7.0926 - mae: 7.0926\n",
            "Epoch 63/100\n",
            "2/2 [==============================] - 0s 7ms/step - loss: 8.6445 - mae: 8.6445\n",
            "Epoch 64/100\n",
            "2/2 [==============================] - 0s 6ms/step - loss: 9.2239 - mae: 9.2239\n",
            "Epoch 65/100\n",
            "2/2 [==============================] - 0s 6ms/step - loss: 10.4602 - mae: 10.4602\n",
            "Epoch 66/100\n",
            "2/2 [==============================] - 0s 6ms/step - loss: 15.7107 - mae: 15.7107\n",
            "Epoch 67/100\n",
            "2/2 [==============================] - 0s 7ms/step - loss: 10.0943 - mae: 10.0943\n",
            "Epoch 68/100\n",
            "2/2 [==============================] - 0s 7ms/step - loss: 9.0563 - mae: 9.0563\n",
            "Epoch 69/100\n",
            "2/2 [==============================] - 0s 7ms/step - loss: 12.5833 - mae: 12.5833\n",
            "Epoch 70/100\n",
            "2/2 [==============================] - 0s 7ms/step - loss: 8.9740 - mae: 8.9740\n",
            "Epoch 71/100\n",
            "2/2 [==============================] - 0s 7ms/step - loss: 9.9483 - mae: 9.9483\n",
            "Epoch 72/100\n",
            "2/2 [==============================] - 0s 7ms/step - loss: 9.9879 - mae: 9.9879\n",
            "Epoch 73/100\n",
            "2/2 [==============================] - 0s 7ms/step - loss: 12.4505 - mae: 12.4505\n",
            "Epoch 74/100\n",
            "2/2 [==============================] - 0s 10ms/step - loss: 10.5984 - mae: 10.5984\n",
            "Epoch 75/100\n",
            "2/2 [==============================] - 0s 7ms/step - loss: 9.6458 - mae: 9.6458\n",
            "Epoch 76/100\n",
            "2/2 [==============================] - 0s 10ms/step - loss: 11.1113 - mae: 11.1113\n",
            "Epoch 77/100\n",
            "2/2 [==============================] - 0s 7ms/step - loss: 8.2936 - mae: 8.2936\n",
            "Epoch 78/100\n",
            "2/2 [==============================] - 0s 7ms/step - loss: 8.9832 - mae: 8.9832\n",
            "Epoch 79/100\n",
            "2/2 [==============================] - 0s 7ms/step - loss: 19.8090 - mae: 19.8090\n",
            "Epoch 80/100\n",
            "2/2 [==============================] - 0s 7ms/step - loss: 17.8196 - mae: 17.8196\n",
            "Epoch 81/100\n",
            "2/2 [==============================] - 0s 7ms/step - loss: 7.1026 - mae: 7.1026\n",
            "Epoch 82/100\n",
            "2/2 [==============================] - 0s 7ms/step - loss: 10.4233 - mae: 10.4233\n",
            "Epoch 83/100\n",
            "2/2 [==============================] - 0s 8ms/step - loss: 9.8459 - mae: 9.8459\n",
            "Epoch 84/100\n",
            "2/2 [==============================] - 0s 9ms/step - loss: 7.9582 - mae: 7.9582\n",
            "Epoch 85/100\n",
            "2/2 [==============================] - 0s 8ms/step - loss: 9.4680 - mae: 9.4680\n",
            "Epoch 86/100\n",
            "2/2 [==============================] - 0s 8ms/step - loss: 9.5114 - mae: 9.5114\n",
            "Epoch 87/100\n",
            "2/2 [==============================] - 0s 8ms/step - loss: 11.4546 - mae: 11.4546\n",
            "Epoch 88/100\n",
            "2/2 [==============================] - 0s 7ms/step - loss: 9.9555 - mae: 9.9555\n",
            "Epoch 89/100\n",
            "2/2 [==============================] - 0s 7ms/step - loss: 7.2723 - mae: 7.2723\n",
            "Epoch 90/100\n",
            "2/2 [==============================] - 0s 8ms/step - loss: 12.7150 - mae: 12.7150\n",
            "Epoch 91/100\n",
            "2/2 [==============================] - 0s 7ms/step - loss: 7.3328 - mae: 7.3328\n",
            "Epoch 92/100\n",
            "2/2 [==============================] - 0s 8ms/step - loss: 7.6971 - mae: 7.6971\n",
            "Epoch 93/100\n",
            "2/2 [==============================] - 0s 7ms/step - loss: 7.1384 - mae: 7.1384\n",
            "Epoch 94/100\n",
            "2/2 [==============================] - 0s 7ms/step - loss: 12.5629 - mae: 12.5629\n",
            "Epoch 95/100\n",
            "2/2 [==============================] - 0s 6ms/step - loss: 9.9409 - mae: 9.9409\n",
            "Epoch 96/100\n",
            "2/2 [==============================] - 0s 7ms/step - loss: 9.1589 - mae: 9.1589\n",
            "Epoch 97/100\n",
            "2/2 [==============================] - 0s 7ms/step - loss: 12.1006 - mae: 12.1006\n",
            "Epoch 98/100\n",
            "2/2 [==============================] - 0s 7ms/step - loss: 9.0857 - mae: 9.0857\n",
            "Epoch 99/100\n",
            "2/2 [==============================] - 0s 7ms/step - loss: 8.5154 - mae: 8.5154\n",
            "Epoch 100/100\n",
            "2/2 [==============================] - 0s 11ms/step - loss: 14.4676 - mae: 14.4676\n"
          ]
        },
        {
          "output_type": "execute_result",
          "data": {
            "text/plain": [
              "<keras.src.callbacks.History at 0x7d568b22d630>"
            ]
          },
          "metadata": {},
          "execution_count": 43
        }
      ]
    },
    {
      "cell_type": "code",
      "source": [
        "# Make prediction\n",
        "y_preds_1 = model_1.predict(x_test)\n",
        "plot_prediction(prediction=y_preds_1)"
      ],
      "metadata": {
        "colab": {
          "base_uri": "https://localhost:8080/",
          "height": 617
        },
        "id": "-xtW3g9hmn1S",
        "outputId": "187ec474-90cf-41b4-c8d0-f670215b9b93"
      },
      "execution_count": 47,
      "outputs": [
        {
          "output_type": "stream",
          "name": "stdout",
          "text": [
            "1/1 [==============================] - 0s 18ms/step\n"
          ]
        },
        {
          "output_type": "display_data",
          "data": {
            "text/plain": [
              "<Figure size 1000x700 with 1 Axes>"
            ],
            "image/png": "[encoded data removed]"
          },
          "metadata": {}
        }
      ]
    },
    {
      "cell_type": "code",
      "source": [
        "# calculation of mae\n",
        "mae_1 = mae(y_test, tf.squeeze(y_preds_1))\n",
        "mse_1 = mse(y_test,tf.squeeze(y_preds_1) )\n",
        "mse_1, mae_1"
      ],
      "metadata": {
        "colab": {
          "base_uri": "https://localhost:8080/"
        },
        "id": "aRBRgwT1of8c",
        "outputId": "49bd11a9-207b-4339-e1fb-cf786e73f23a"
      },
      "execution_count": 52,
      "outputs": [
        {
          "output_type": "execute_result",
          "data": {
            "text/plain": [
              "(<tf.Tensor: shape=(), dtype=float32, numpy=950.3187>,\n",
              " <tf.Tensor: shape=(), dtype=float32, numpy=30.657536>)"
            ]
          },
          "metadata": {},
          "execution_count": 52
        }
      ]
    },
    {
      "cell_type": "code",
      "source": [],
      "metadata": {
        "id": "gHNtwzDFsn4g"
      },
      "execution_count": null,
      "outputs": []
    }
  ]
}